{
 "cells": [
  {
   "cell_type": "markdown",
   "metadata": {},
   "source": [
    "3-1 - Identify the Appropriate Hypotheses to Test for a Statistically Significant Association Between Two Quantitative Variables"
   ]
  },
  {
   "cell_type": "code",
   "execution_count": 2,
   "metadata": {},
   "outputs": [
    {
     "data": {
      "text/html": [
       "<div>\n",
       "<style scoped>\n",
       "    .dataframe tbody tr th:only-of-type {\n",
       "        vertical-align: middle;\n",
       "    }\n",
       "\n",
       "    .dataframe tbody tr th {\n",
       "        vertical-align: top;\n",
       "    }\n",
       "\n",
       "    .dataframe thead th {\n",
       "        text-align: right;\n",
       "    }\n",
       "</style>\n",
       "<table border=\"1\" class=\"dataframe\">\n",
       "  <thead>\n",
       "    <tr style=\"text-align: right;\">\n",
       "      <th></th>\n",
       "      <th>total</th>\n",
       "      <th>speeding</th>\n",
       "      <th>alcohol</th>\n",
       "    </tr>\n",
       "  </thead>\n",
       "  <tbody>\n",
       "    <tr>\n",
       "      <th>0</th>\n",
       "      <td>18.8</td>\n",
       "      <td>7.332</td>\n",
       "      <td>5.640</td>\n",
       "    </tr>\n",
       "    <tr>\n",
       "      <th>1</th>\n",
       "      <td>18.1</td>\n",
       "      <td>7.421</td>\n",
       "      <td>4.525</td>\n",
       "    </tr>\n",
       "    <tr>\n",
       "      <th>2</th>\n",
       "      <td>18.6</td>\n",
       "      <td>6.510</td>\n",
       "      <td>5.208</td>\n",
       "    </tr>\n",
       "    <tr>\n",
       "      <th>3</th>\n",
       "      <td>22.4</td>\n",
       "      <td>4.032</td>\n",
       "      <td>5.824</td>\n",
       "    </tr>\n",
       "    <tr>\n",
       "      <th>4</th>\n",
       "      <td>12.0</td>\n",
       "      <td>4.200</td>\n",
       "      <td>3.360</td>\n",
       "    </tr>\n",
       "  </tbody>\n",
       "</table>\n",
       "</div>"
      ],
      "text/plain": [
       "   total  speeding  alcohol\n",
       "0   18.8     7.332    5.640\n",
       "1   18.1     7.421    4.525\n",
       "2   18.6     6.510    5.208\n",
       "3   22.4     4.032    5.824\n",
       "4   12.0     4.200    3.360"
      ]
     },
     "execution_count": 2,
     "metadata": {},
     "output_type": "execute_result"
    }
   ],
   "source": [
    "import pandas as pd\n",
    "import seaborn as sns\n",
    "import matplotlib.pyplot as plt\n",
    "\n",
    "crashes = sns.load_dataset(\"car_crashes\")\n",
    "\n",
    "mycols = ['total', 'speeding', 'alcohol']\n",
    "\n",
    "crashes = crashes[mycols]\n",
    "crashes.head()"
   ]
  },
  {
   "cell_type": "code",
   "execution_count": 3,
   "metadata": {},
   "outputs": [
    {
     "data": {
      "image/png": "[encoded data removed]",
      "text/plain": [
       "<Figure size 360x360 with 1 Axes>"
      ]
     },
     "metadata": {
      "needs_background": "light"
     },
     "output_type": "display_data"
    },
    {
     "data": {
      "text/plain": [
       "<Figure size 432x288 with 0 Axes>"
      ]
     },
     "metadata": {},
     "output_type": "display_data"
    }
   ],
   "source": [
    "sns.lmplot(data = crashes, x = 'alcohol', y = 'total', ci = None)\n",
    "plt.show()\n",
    "plt.clf()"
   ]
  },
  {
   "cell_type": "code",
   "execution_count": 4,
   "metadata": {},
   "outputs": [
    {
     "ename": "SyntaxError",
     "evalue": "invalid syntax (1491962207.py, line 1)",
     "output_type": "error",
     "traceback": [
      "\u001b[1;36m  Input \u001b[1;32mIn [4]\u001b[1;36m\u001b[0m\n\u001b[1;33m    3-2 - Conduct and Interpret a t-test for the Slope Parameter and Make the Connection Between the t-test for a Population Mean and Slope Coefficient\u001b[0m\n\u001b[1;37m                                ^\u001b[0m\n\u001b[1;31mSyntaxError\u001b[0m\u001b[1;31m:\u001b[0m invalid syntax\n"
     ]
    }
   ],
   "source": [
    "3-2 - Conduct and Interpret a t-test for the Slope Parameter and Make the Connection Between the t-test for a Population Mean and Slope Coefficient"
   ]
  },
  {
   "cell_type": "code",
   "execution_count": null,
   "metadata": {},
   "outputs": [
    {
     "data": {
      "text/html": [
       "<div>\n",
       "<style scoped>\n",
       "    .dataframe tbody tr th:only-of-type {\n",
       "        vertical-align: middle;\n",
       "    }\n",
       "\n",
       "    .dataframe tbody tr th {\n",
       "        vertical-align: top;\n",
       "    }\n",
       "\n",
       "    .dataframe thead th {\n",
       "        text-align: right;\n",
       "    }\n",
       "</style>\n",
       "<table border=\"1\" class=\"dataframe\">\n",
       "  <thead>\n",
       "    <tr style=\"text-align: right;\">\n",
       "      <th></th>\n",
       "      <th>total</th>\n",
       "      <th>speeding</th>\n",
       "      <th>alcohol</th>\n",
       "    </tr>\n",
       "  </thead>\n",
       "  <tbody>\n",
       "    <tr>\n",
       "      <th>0</th>\n",
       "      <td>18.8</td>\n",
       "      <td>7.332</td>\n",
       "      <td>5.640</td>\n",
       "    </tr>\n",
       "    <tr>\n",
       "      <th>1</th>\n",
       "      <td>18.1</td>\n",
       "      <td>7.421</td>\n",
       "      <td>4.525</td>\n",
       "    </tr>\n",
       "    <tr>\n",
       "      <th>2</th>\n",
       "      <td>18.6</td>\n",
       "      <td>6.510</td>\n",
       "      <td>5.208</td>\n",
       "    </tr>\n",
       "    <tr>\n",
       "      <th>3</th>\n",
       "      <td>22.4</td>\n",
       "      <td>4.032</td>\n",
       "      <td>5.824</td>\n",
       "    </tr>\n",
       "    <tr>\n",
       "      <th>4</th>\n",
       "      <td>12.0</td>\n",
       "      <td>4.200</td>\n",
       "      <td>3.360</td>\n",
       "    </tr>\n",
       "    <tr>\n",
       "      <th>5</th>\n",
       "      <td>13.6</td>\n",
       "      <td>5.032</td>\n",
       "      <td>3.808</td>\n",
       "    </tr>\n",
       "    <tr>\n",
       "      <th>6</th>\n",
       "      <td>10.8</td>\n",
       "      <td>4.968</td>\n",
       "      <td>3.888</td>\n",
       "    </tr>\n",
       "    <tr>\n",
       "      <th>7</th>\n",
       "      <td>16.2</td>\n",
       "      <td>6.156</td>\n",
       "      <td>4.860</td>\n",
       "    </tr>\n",
       "    <tr>\n",
       "      <th>8</th>\n",
       "      <td>5.9</td>\n",
       "      <td>2.006</td>\n",
       "      <td>1.593</td>\n",
       "    </tr>\n",
       "    <tr>\n",
       "      <th>9</th>\n",
       "      <td>17.9</td>\n",
       "      <td>3.759</td>\n",
       "      <td>5.191</td>\n",
       "    </tr>\n",
       "    <tr>\n",
       "      <th>10</th>\n",
       "      <td>15.6</td>\n",
       "      <td>2.964</td>\n",
       "      <td>3.900</td>\n",
       "    </tr>\n",
       "    <tr>\n",
       "      <th>11</th>\n",
       "      <td>17.5</td>\n",
       "      <td>9.450</td>\n",
       "      <td>7.175</td>\n",
       "    </tr>\n",
       "    <tr>\n",
       "      <th>12</th>\n",
       "      <td>15.3</td>\n",
       "      <td>5.508</td>\n",
       "      <td>4.437</td>\n",
       "    </tr>\n",
       "    <tr>\n",
       "      <th>13</th>\n",
       "      <td>12.8</td>\n",
       "      <td>4.608</td>\n",
       "      <td>4.352</td>\n",
       "    </tr>\n",
       "    <tr>\n",
       "      <th>14</th>\n",
       "      <td>14.5</td>\n",
       "      <td>3.625</td>\n",
       "      <td>4.205</td>\n",
       "    </tr>\n",
       "    <tr>\n",
       "      <th>15</th>\n",
       "      <td>15.7</td>\n",
       "      <td>2.669</td>\n",
       "      <td>3.925</td>\n",
       "    </tr>\n",
       "    <tr>\n",
       "      <th>16</th>\n",
       "      <td>17.8</td>\n",
       "      <td>4.806</td>\n",
       "      <td>4.272</td>\n",
       "    </tr>\n",
       "    <tr>\n",
       "      <th>17</th>\n",
       "      <td>21.4</td>\n",
       "      <td>4.066</td>\n",
       "      <td>4.922</td>\n",
       "    </tr>\n",
       "    <tr>\n",
       "      <th>18</th>\n",
       "      <td>20.5</td>\n",
       "      <td>7.175</td>\n",
       "      <td>6.765</td>\n",
       "    </tr>\n",
       "    <tr>\n",
       "      <th>19</th>\n",
       "      <td>15.1</td>\n",
       "      <td>5.738</td>\n",
       "      <td>4.530</td>\n",
       "    </tr>\n",
       "    <tr>\n",
       "      <th>20</th>\n",
       "      <td>12.5</td>\n",
       "      <td>4.250</td>\n",
       "      <td>4.000</td>\n",
       "    </tr>\n",
       "    <tr>\n",
       "      <th>21</th>\n",
       "      <td>8.2</td>\n",
       "      <td>1.886</td>\n",
       "      <td>2.870</td>\n",
       "    </tr>\n",
       "    <tr>\n",
       "      <th>22</th>\n",
       "      <td>14.1</td>\n",
       "      <td>3.384</td>\n",
       "      <td>3.948</td>\n",
       "    </tr>\n",
       "    <tr>\n",
       "      <th>23</th>\n",
       "      <td>9.6</td>\n",
       "      <td>2.208</td>\n",
       "      <td>2.784</td>\n",
       "    </tr>\n",
       "    <tr>\n",
       "      <th>24</th>\n",
       "      <td>17.6</td>\n",
       "      <td>2.640</td>\n",
       "      <td>5.456</td>\n",
       "    </tr>\n",
       "    <tr>\n",
       "      <th>25</th>\n",
       "      <td>16.1</td>\n",
       "      <td>6.923</td>\n",
       "      <td>5.474</td>\n",
       "    </tr>\n",
       "    <tr>\n",
       "      <th>26</th>\n",
       "      <td>21.4</td>\n",
       "      <td>8.346</td>\n",
       "      <td>9.416</td>\n",
       "    </tr>\n",
       "    <tr>\n",
       "      <th>27</th>\n",
       "      <td>14.9</td>\n",
       "      <td>1.937</td>\n",
       "      <td>5.215</td>\n",
       "    </tr>\n",
       "    <tr>\n",
       "      <th>28</th>\n",
       "      <td>14.7</td>\n",
       "      <td>5.439</td>\n",
       "      <td>4.704</td>\n",
       "    </tr>\n",
       "    <tr>\n",
       "      <th>29</th>\n",
       "      <td>11.6</td>\n",
       "      <td>4.060</td>\n",
       "      <td>3.480</td>\n",
       "    </tr>\n",
       "    <tr>\n",
       "      <th>30</th>\n",
       "      <td>11.2</td>\n",
       "      <td>1.792</td>\n",
       "      <td>3.136</td>\n",
       "    </tr>\n",
       "    <tr>\n",
       "      <th>31</th>\n",
       "      <td>18.4</td>\n",
       "      <td>3.496</td>\n",
       "      <td>4.968</td>\n",
       "    </tr>\n",
       "    <tr>\n",
       "      <th>32</th>\n",
       "      <td>12.3</td>\n",
       "      <td>3.936</td>\n",
       "      <td>3.567</td>\n",
       "    </tr>\n",
       "    <tr>\n",
       "      <th>33</th>\n",
       "      <td>16.8</td>\n",
       "      <td>6.552</td>\n",
       "      <td>5.208</td>\n",
       "    </tr>\n",
       "    <tr>\n",
       "      <th>34</th>\n",
       "      <td>23.9</td>\n",
       "      <td>5.497</td>\n",
       "      <td>10.038</td>\n",
       "    </tr>\n",
       "    <tr>\n",
       "      <th>35</th>\n",
       "      <td>14.1</td>\n",
       "      <td>3.948</td>\n",
       "      <td>4.794</td>\n",
       "    </tr>\n",
       "    <tr>\n",
       "      <th>36</th>\n",
       "      <td>19.9</td>\n",
       "      <td>6.368</td>\n",
       "      <td>5.771</td>\n",
       "    </tr>\n",
       "    <tr>\n",
       "      <th>37</th>\n",
       "      <td>12.8</td>\n",
       "      <td>4.224</td>\n",
       "      <td>3.328</td>\n",
       "    </tr>\n",
       "    <tr>\n",
       "      <th>38</th>\n",
       "      <td>18.2</td>\n",
       "      <td>9.100</td>\n",
       "      <td>5.642</td>\n",
       "    </tr>\n",
       "    <tr>\n",
       "      <th>39</th>\n",
       "      <td>11.1</td>\n",
       "      <td>3.774</td>\n",
       "      <td>4.218</td>\n",
       "    </tr>\n",
       "    <tr>\n",
       "      <th>40</th>\n",
       "      <td>23.9</td>\n",
       "      <td>9.082</td>\n",
       "      <td>9.799</td>\n",
       "    </tr>\n",
       "    <tr>\n",
       "      <th>41</th>\n",
       "      <td>19.4</td>\n",
       "      <td>6.014</td>\n",
       "      <td>6.402</td>\n",
       "    </tr>\n",
       "    <tr>\n",
       "      <th>42</th>\n",
       "      <td>19.5</td>\n",
       "      <td>4.095</td>\n",
       "      <td>5.655</td>\n",
       "    </tr>\n",
       "    <tr>\n",
       "      <th>43</th>\n",
       "      <td>19.4</td>\n",
       "      <td>7.760</td>\n",
       "      <td>7.372</td>\n",
       "    </tr>\n",
       "    <tr>\n",
       "      <th>44</th>\n",
       "      <td>11.3</td>\n",
       "      <td>4.859</td>\n",
       "      <td>1.808</td>\n",
       "    </tr>\n",
       "    <tr>\n",
       "      <th>45</th>\n",
       "      <td>13.6</td>\n",
       "      <td>4.080</td>\n",
       "      <td>4.080</td>\n",
       "    </tr>\n",
       "    <tr>\n",
       "      <th>46</th>\n",
       "      <td>12.7</td>\n",
       "      <td>2.413</td>\n",
       "      <td>3.429</td>\n",
       "    </tr>\n",
       "    <tr>\n",
       "      <th>47</th>\n",
       "      <td>10.6</td>\n",
       "      <td>4.452</td>\n",
       "      <td>3.498</td>\n",
       "    </tr>\n",
       "    <tr>\n",
       "      <th>48</th>\n",
       "      <td>23.8</td>\n",
       "      <td>8.092</td>\n",
       "      <td>6.664</td>\n",
       "    </tr>\n",
       "    <tr>\n",
       "      <th>49</th>\n",
       "      <td>13.8</td>\n",
       "      <td>4.968</td>\n",
       "      <td>4.554</td>\n",
       "    </tr>\n",
       "    <tr>\n",
       "      <th>50</th>\n",
       "      <td>17.4</td>\n",
       "      <td>7.308</td>\n",
       "      <td>5.568</td>\n",
       "    </tr>\n",
       "  </tbody>\n",
       "</table>\n",
       "</div>"
      ],
      "text/plain": [
       "    total  speeding  alcohol\n",
       "0    18.8     7.332    5.640\n",
       "1    18.1     7.421    4.525\n",
       "2    18.6     6.510    5.208\n",
       "3    22.4     4.032    5.824\n",
       "4    12.0     4.200    3.360\n",
       "5    13.6     5.032    3.808\n",
       "6    10.8     4.968    3.888\n",
       "7    16.2     6.156    4.860\n",
       "8     5.9     2.006    1.593\n",
       "9    17.9     3.759    5.191\n",
       "10   15.6     2.964    3.900\n",
       "11   17.5     9.450    7.175\n",
       "12   15.3     5.508    4.437\n",
       "13   12.8     4.608    4.352\n",
       "14   14.5     3.625    4.205\n",
       "15   15.7     2.669    3.925\n",
       "16   17.8     4.806    4.272\n",
       "17   21.4     4.066    4.922\n",
       "18   20.5     7.175    6.765\n",
       "19   15.1     5.738    4.530\n",
       "20   12.5     4.250    4.000\n",
       "21    8.2     1.886    2.870\n",
       "22   14.1     3.384    3.948\n",
       "23    9.6     2.208    2.784\n",
       "24   17.6     2.640    5.456\n",
       "25   16.1     6.923    5.474\n",
       "26   21.4     8.346    9.416\n",
       "27   14.9     1.937    5.215\n",
       "28   14.7     5.439    4.704\n",
       "29   11.6     4.060    3.480\n",
       "30   11.2     1.792    3.136\n",
       "31   18.4     3.496    4.968\n",
       "32   12.3     3.936    3.567\n",
       "33   16.8     6.552    5.208\n",
       "34   23.9     5.497   10.038\n",
       "35   14.1     3.948    4.794\n",
       "36   19.9     6.368    5.771\n",
       "37   12.8     4.224    3.328\n",
       "38   18.2     9.100    5.642\n",
       "39   11.1     3.774    4.218\n",
       "40   23.9     9.082    9.799\n",
       "41   19.4     6.014    6.402\n",
       "42   19.5     4.095    5.655\n",
       "43   19.4     7.760    7.372\n",
       "44   11.3     4.859    1.808\n",
       "45   13.6     4.080    4.080\n",
       "46   12.7     2.413    3.429\n",
       "47   10.6     4.452    3.498\n",
       "48   23.8     8.092    6.664\n",
       "49   13.8     4.968    4.554\n",
       "50   17.4     7.308    5.568"
      ]
     },
     "execution_count": 8,
     "metadata": {},
     "output_type": "execute_result"
    }
   ],
   "source": [
    "crashes"
   ]
  },
  {
   "cell_type": "code",
   "execution_count": null,
   "metadata": {},
   "outputs": [
    {
     "name": "stdout",
     "output_type": "stream",
     "text": [
      "                             Test for Constraints                             \n",
      "==============================================================================\n",
      "                 coef    std err          t      P>|t|      [0.025      0.975]\n",
      "------------------------------------------------------------------------------\n",
      "c0             5.8578      0.921      6.357      0.000       4.006       7.709\n",
      "==============================================================================\n"
     ]
    }
   ],
   "source": [
    "import warnings\n",
    "warnings.filterwarnings('ignore')\n",
    "import statsmodels.api as sm\n",
    "\n",
    "Y = crashes['total']\n",
    "X = crashes['alcohol']\n",
    "\n",
    "#creating model with x,y data\n",
    "X = sm.add_constant(X)\n",
    "model = sm.OLS(Y, X)\n",
    "\n",
    "#Fit the model\n",
    "results = model.fit()\n",
    "\n",
    "#Look at the results that include the t-statistic\n",
    "print(results.t_test([1, 0]))"
   ]
  },
  {
   "cell_type": "markdown",
   "metadata": {},
   "source": [
    "Yay! We fit our linear model, we have the slope (coef in the table), standard error (std err) and the t-value (t). Remember from the previous sprint how the t-statistics is calculated:\n",
    "\n",
    " t = \\frac{\\bar{x} - \\mu_0}{SE} \n",
    "\n",
    "where bar{x} is the sample mean, \\mu_0 is the mean under the null hypothesis and SE is the standard error. Because we are performing the hypothesis test on the slope parameter, we adjust the t-statistic:\n",
    "\n",
    " t = \\frac{b_1 - \\beta_1}{SE} \n",
    "\n",
    "where b_1 is the slope in the sample, \\beta_1 is the slope under the null hypothesis and SE is the standard error.\n",
    "\n",
    "Remember that we stated the null hypothesis as there is no relationship between the variables, so the slope (\\beta_1) is equal to zero. Let’s plug in the numbers and compare what we calculate as the t-statistic to the output in the table above.\n",
    "\n",
    "t = \\frac{5.8578 - 0}{0.921} = 6.36"
   ]
  },
  {
   "cell_type": "markdown",
   "metadata": {},
   "source": [
    "3-4 - Identify Violations of the Assumptions for Linear Regression and Articulate Why Correlation Does Not Imply Causation Inference for Linear Regression\n",
    "\n",
    "Linear Regression: When not to use it\n",
    "\n",
    "    with variables that have categorical outcomes (like a classification)\n",
    "    trying to model non-linear relationships\n",
    "    with outliers (without adjusting for them)"
   ]
  },
  {
   "cell_type": "code",
   "execution_count": null,
   "metadata": {},
   "outputs": [
    {
     "data": {
      "image/png": "[encoded data removed]",
      "text/plain": [
       "<Figure size 360x360 with 1 Axes>"
      ]
     },
     "metadata": {
      "needs_background": "light"
     },
     "output_type": "display_data"
    },
    {
     "data": {
      "text/plain": [
       "<Figure size 432x288 with 0 Axes>"
      ]
     },
     "metadata": {},
     "output_type": "display_data"
    }
   ],
   "source": [
    "#categorial variables\n",
    "\n",
    "dots = sns.load_dataset(\"dots\")\n",
    "sns.lmplot(data = dots, x = 'time', y = 'coherence', ci = 95)\n",
    "\n",
    "plt.show() \n",
    "plt.clf()\n"
   ]
  },
  {
   "cell_type": "code",
   "execution_count": null,
   "metadata": {},
   "outputs": [
    {
     "ename": "FileNotFoundError",
     "evalue": "[Errno 2] No such file or directory: 'denver_temps.csv'",
     "output_type": "error",
     "traceback": [
      "\u001b[1;31m---------------------------------------------------------------------------\u001b[0m",
      "\u001b[1;31mFileNotFoundError\u001b[0m                         Traceback (most recent call last)",
      "\u001b[1;32mUntitled-1.ipynb Cell 10\u001b[0m in \u001b[0;36m<cell line: 3>\u001b[1;34m()\u001b[0m\n\u001b[0;32m      <a href='vscode-notebook-cell:Untitled-1.ipynb?jupyter-notebook#X12sdW50aXRsZWQ%3D?line=0'>1</a>\u001b[0m \u001b[39m#non-linear data (csv not included with bundle)\u001b[39;00m\n\u001b[1;32m----> <a href='vscode-notebook-cell:Untitled-1.ipynb?jupyter-notebook#X12sdW50aXRsZWQ%3D?line=2'>3</a>\u001b[0m temps \u001b[39m=\u001b[39m pd\u001b[39m.\u001b[39;49mread_csv(\u001b[39m'\u001b[39;49m\u001b[39mdenver_temps.csv\u001b[39;49m\u001b[39m'\u001b[39;49m)\n\u001b[0;32m      <a href='vscode-notebook-cell:Untitled-1.ipynb?jupyter-notebook#X12sdW50aXRsZWQ%3D?line=3'>4</a>\u001b[0m sns\u001b[39m.\u001b[39mlmplot(data \u001b[39m=\u001b[39m temps, x \u001b[39m=\u001b[39m \u001b[39m'\u001b[39m\u001b[39mtime\u001b[39m\u001b[39m'\u001b[39m, y \u001b[39m=\u001b[39m \u001b[39m'\u001b[39m\u001b[39mtemperature\u001b[39m\u001b[39m'\u001b[39m, ci \u001b[39m=\u001b[39m \u001b[39m95\u001b[39m)\n",
      "File \u001b[1;32mc:\\ProgramData\\Anaconda3\\lib\\site-packages\\pandas\\util\\_decorators.py:311\u001b[0m, in \u001b[0;36mdeprecate_nonkeyword_arguments.<locals>.decorate.<locals>.wrapper\u001b[1;34m(*args, **kwargs)\u001b[0m\n\u001b[0;32m    305\u001b[0m \u001b[39mif\u001b[39;00m \u001b[39mlen\u001b[39m(args) \u001b[39m>\u001b[39m num_allow_args:\n\u001b[0;32m    306\u001b[0m     warnings\u001b[39m.\u001b[39mwarn(\n\u001b[0;32m    307\u001b[0m         msg\u001b[39m.\u001b[39mformat(arguments\u001b[39m=\u001b[39marguments),\n\u001b[0;32m    308\u001b[0m         \u001b[39mFutureWarning\u001b[39;00m,\n\u001b[0;32m    309\u001b[0m         stacklevel\u001b[39m=\u001b[39mstacklevel,\n\u001b[0;32m    310\u001b[0m     )\n\u001b[1;32m--> 311\u001b[0m \u001b[39mreturn\u001b[39;00m func(\u001b[39m*\u001b[39margs, \u001b[39m*\u001b[39m\u001b[39m*\u001b[39mkwargs)\n",
      "File \u001b[1;32mc:\\ProgramData\\Anaconda3\\lib\\site-packages\\pandas\\io\\parsers\\readers.py:680\u001b[0m, in \u001b[0;36mread_csv\u001b[1;34m(filepath_or_buffer, sep, delimiter, header, names, index_col, usecols, squeeze, prefix, mangle_dupe_cols, dtype, engine, converters, true_values, false_values, skipinitialspace, skiprows, skipfooter, nrows, na_values, keep_default_na, na_filter, verbose, skip_blank_lines, parse_dates, infer_datetime_format, keep_date_col, date_parser, dayfirst, cache_dates, iterator, chunksize, compression, thousands, decimal, lineterminator, quotechar, quoting, doublequote, escapechar, comment, encoding, encoding_errors, dialect, error_bad_lines, warn_bad_lines, on_bad_lines, delim_whitespace, low_memory, memory_map, float_precision, storage_options)\u001b[0m\n\u001b[0;32m    665\u001b[0m kwds_defaults \u001b[39m=\u001b[39m _refine_defaults_read(\n\u001b[0;32m    666\u001b[0m     dialect,\n\u001b[0;32m    667\u001b[0m     delimiter,\n\u001b[1;32m   (...)\u001b[0m\n\u001b[0;32m    676\u001b[0m     defaults\u001b[39m=\u001b[39m{\u001b[39m\"\u001b[39m\u001b[39mdelimiter\u001b[39m\u001b[39m\"\u001b[39m: \u001b[39m\"\u001b[39m\u001b[39m,\u001b[39m\u001b[39m\"\u001b[39m},\n\u001b[0;32m    677\u001b[0m )\n\u001b[0;32m    678\u001b[0m kwds\u001b[39m.\u001b[39mupdate(kwds_defaults)\n\u001b[1;32m--> 680\u001b[0m \u001b[39mreturn\u001b[39;00m _read(filepath_or_buffer, kwds)\n",
      "File \u001b[1;32mc:\\ProgramData\\Anaconda3\\lib\\site-packages\\pandas\\io\\parsers\\readers.py:575\u001b[0m, in \u001b[0;36m_read\u001b[1;34m(filepath_or_buffer, kwds)\u001b[0m\n\u001b[0;32m    572\u001b[0m _validate_names(kwds\u001b[39m.\u001b[39mget(\u001b[39m\"\u001b[39m\u001b[39mnames\u001b[39m\u001b[39m\"\u001b[39m, \u001b[39mNone\u001b[39;00m))\n\u001b[0;32m    574\u001b[0m \u001b[39m# Create the parser.\u001b[39;00m\n\u001b[1;32m--> 575\u001b[0m parser \u001b[39m=\u001b[39m TextFileReader(filepath_or_buffer, \u001b[39m*\u001b[39m\u001b[39m*\u001b[39mkwds)\n\u001b[0;32m    577\u001b[0m \u001b[39mif\u001b[39;00m chunksize \u001b[39mor\u001b[39;00m iterator:\n\u001b[0;32m    578\u001b[0m     \u001b[39mreturn\u001b[39;00m parser\n",
      "File \u001b[1;32mc:\\ProgramData\\Anaconda3\\lib\\site-packages\\pandas\\io\\parsers\\readers.py:933\u001b[0m, in \u001b[0;36mTextFileReader.__init__\u001b[1;34m(self, f, engine, **kwds)\u001b[0m\n\u001b[0;32m    930\u001b[0m     \u001b[39mself\u001b[39m\u001b[39m.\u001b[39moptions[\u001b[39m\"\u001b[39m\u001b[39mhas_index_names\u001b[39m\u001b[39m\"\u001b[39m] \u001b[39m=\u001b[39m kwds[\u001b[39m\"\u001b[39m\u001b[39mhas_index_names\u001b[39m\u001b[39m\"\u001b[39m]\n\u001b[0;32m    932\u001b[0m \u001b[39mself\u001b[39m\u001b[39m.\u001b[39mhandles: IOHandles \u001b[39m|\u001b[39m \u001b[39mNone\u001b[39;00m \u001b[39m=\u001b[39m \u001b[39mNone\u001b[39;00m\n\u001b[1;32m--> 933\u001b[0m \u001b[39mself\u001b[39m\u001b[39m.\u001b[39m_engine \u001b[39m=\u001b[39m \u001b[39mself\u001b[39;49m\u001b[39m.\u001b[39;49m_make_engine(f, \u001b[39mself\u001b[39;49m\u001b[39m.\u001b[39;49mengine)\n",
      "File \u001b[1;32mc:\\ProgramData\\Anaconda3\\lib\\site-packages\\pandas\\io\\parsers\\readers.py:1217\u001b[0m, in \u001b[0;36mTextFileReader._make_engine\u001b[1;34m(self, f, engine)\u001b[0m\n\u001b[0;32m   1213\u001b[0m     mode \u001b[39m=\u001b[39m \u001b[39m\"\u001b[39m\u001b[39mrb\u001b[39m\u001b[39m\"\u001b[39m\n\u001b[0;32m   1214\u001b[0m \u001b[39m# error: No overload variant of \"get_handle\" matches argument types\u001b[39;00m\n\u001b[0;32m   1215\u001b[0m \u001b[39m# \"Union[str, PathLike[str], ReadCsvBuffer[bytes], ReadCsvBuffer[str]]\"\u001b[39;00m\n\u001b[0;32m   1216\u001b[0m \u001b[39m# , \"str\", \"bool\", \"Any\", \"Any\", \"Any\", \"Any\", \"Any\"\u001b[39;00m\n\u001b[1;32m-> 1217\u001b[0m \u001b[39mself\u001b[39m\u001b[39m.\u001b[39mhandles \u001b[39m=\u001b[39m get_handle(  \u001b[39m# type: ignore[call-overload]\u001b[39;49;00m\n\u001b[0;32m   1218\u001b[0m     f,\n\u001b[0;32m   1219\u001b[0m     mode,\n\u001b[0;32m   1220\u001b[0m     encoding\u001b[39m=\u001b[39;49m\u001b[39mself\u001b[39;49m\u001b[39m.\u001b[39;49moptions\u001b[39m.\u001b[39;49mget(\u001b[39m\"\u001b[39;49m\u001b[39mencoding\u001b[39;49m\u001b[39m\"\u001b[39;49m, \u001b[39mNone\u001b[39;49;00m),\n\u001b[0;32m   1221\u001b[0m     compression\u001b[39m=\u001b[39;49m\u001b[39mself\u001b[39;49m\u001b[39m.\u001b[39;49moptions\u001b[39m.\u001b[39;49mget(\u001b[39m\"\u001b[39;49m\u001b[39mcompression\u001b[39;49m\u001b[39m\"\u001b[39;49m, \u001b[39mNone\u001b[39;49;00m),\n\u001b[0;32m   1222\u001b[0m     memory_map\u001b[39m=\u001b[39;49m\u001b[39mself\u001b[39;49m\u001b[39m.\u001b[39;49moptions\u001b[39m.\u001b[39;49mget(\u001b[39m\"\u001b[39;49m\u001b[39mmemory_map\u001b[39;49m\u001b[39m\"\u001b[39;49m, \u001b[39mFalse\u001b[39;49;00m),\n\u001b[0;32m   1223\u001b[0m     is_text\u001b[39m=\u001b[39;49mis_text,\n\u001b[0;32m   1224\u001b[0m     errors\u001b[39m=\u001b[39;49m\u001b[39mself\u001b[39;49m\u001b[39m.\u001b[39;49moptions\u001b[39m.\u001b[39;49mget(\u001b[39m\"\u001b[39;49m\u001b[39mencoding_errors\u001b[39;49m\u001b[39m\"\u001b[39;49m, \u001b[39m\"\u001b[39;49m\u001b[39mstrict\u001b[39;49m\u001b[39m\"\u001b[39;49m),\n\u001b[0;32m   1225\u001b[0m     storage_options\u001b[39m=\u001b[39;49m\u001b[39mself\u001b[39;49m\u001b[39m.\u001b[39;49moptions\u001b[39m.\u001b[39;49mget(\u001b[39m\"\u001b[39;49m\u001b[39mstorage_options\u001b[39;49m\u001b[39m\"\u001b[39;49m, \u001b[39mNone\u001b[39;49;00m),\n\u001b[0;32m   1226\u001b[0m )\n\u001b[0;32m   1227\u001b[0m \u001b[39massert\u001b[39;00m \u001b[39mself\u001b[39m\u001b[39m.\u001b[39mhandles \u001b[39mis\u001b[39;00m \u001b[39mnot\u001b[39;00m \u001b[39mNone\u001b[39;00m\n\u001b[0;32m   1228\u001b[0m f \u001b[39m=\u001b[39m \u001b[39mself\u001b[39m\u001b[39m.\u001b[39mhandles\u001b[39m.\u001b[39mhandle\n",
      "File \u001b[1;32mc:\\ProgramData\\Anaconda3\\lib\\site-packages\\pandas\\io\\common.py:789\u001b[0m, in \u001b[0;36mget_handle\u001b[1;34m(path_or_buf, mode, encoding, compression, memory_map, is_text, errors, storage_options)\u001b[0m\n\u001b[0;32m    784\u001b[0m \u001b[39melif\u001b[39;00m \u001b[39misinstance\u001b[39m(handle, \u001b[39mstr\u001b[39m):\n\u001b[0;32m    785\u001b[0m     \u001b[39m# Check whether the filename is to be opened in binary mode.\u001b[39;00m\n\u001b[0;32m    786\u001b[0m     \u001b[39m# Binary mode does not support 'encoding' and 'newline'.\u001b[39;00m\n\u001b[0;32m    787\u001b[0m     \u001b[39mif\u001b[39;00m ioargs\u001b[39m.\u001b[39mencoding \u001b[39mand\u001b[39;00m \u001b[39m\"\u001b[39m\u001b[39mb\u001b[39m\u001b[39m\"\u001b[39m \u001b[39mnot\u001b[39;00m \u001b[39min\u001b[39;00m ioargs\u001b[39m.\u001b[39mmode:\n\u001b[0;32m    788\u001b[0m         \u001b[39m# Encoding\u001b[39;00m\n\u001b[1;32m--> 789\u001b[0m         handle \u001b[39m=\u001b[39m \u001b[39mopen\u001b[39;49m(\n\u001b[0;32m    790\u001b[0m             handle,\n\u001b[0;32m    791\u001b[0m             ioargs\u001b[39m.\u001b[39;49mmode,\n\u001b[0;32m    792\u001b[0m             encoding\u001b[39m=\u001b[39;49mioargs\u001b[39m.\u001b[39;49mencoding,\n\u001b[0;32m    793\u001b[0m             errors\u001b[39m=\u001b[39;49merrors,\n\u001b[0;32m    794\u001b[0m             newline\u001b[39m=\u001b[39;49m\u001b[39m\"\u001b[39;49m\u001b[39m\"\u001b[39;49m,\n\u001b[0;32m    795\u001b[0m         )\n\u001b[0;32m    796\u001b[0m     \u001b[39melse\u001b[39;00m:\n\u001b[0;32m    797\u001b[0m         \u001b[39m# Binary mode\u001b[39;00m\n\u001b[0;32m    798\u001b[0m         handle \u001b[39m=\u001b[39m \u001b[39mopen\u001b[39m(handle, ioargs\u001b[39m.\u001b[39mmode)\n",
      "\u001b[1;31mFileNotFoundError\u001b[0m: [Errno 2] No such file or directory: 'denver_temps.csv'"
     ]
    }
   ],
   "source": [
    "#non-linear data (csv not included with bundle)\n",
    "\n",
    "temps = pd.read_csv('denver_temps.csv')\n",
    "sns.lmplot(data = temps, x = 'time', y = 'temperature', ci = 95)"
   ]
  },
  {
   "cell_type": "code",
   "execution_count": 5,
   "metadata": {},
   "outputs": [
    {
     "data": {
      "text/html": [
       "<div>\n",
       "<style scoped>\n",
       "    .dataframe tbody tr th:only-of-type {\n",
       "        vertical-align: middle;\n",
       "    }\n",
       "\n",
       "    .dataframe tbody tr th {\n",
       "        vertical-align: top;\n",
       "    }\n",
       "\n",
       "    .dataframe thead th {\n",
       "        text-align: right;\n",
       "    }\n",
       "</style>\n",
       "<table border=\"1\" class=\"dataframe\">\n",
       "  <thead>\n",
       "    <tr style=\"text-align: right;\">\n",
       "      <th></th>\n",
       "      <th>total</th>\n",
       "      <th>speeding</th>\n",
       "      <th>alcohol</th>\n",
       "      <th>not_distracted</th>\n",
       "      <th>no_previous</th>\n",
       "      <th>ins_premium</th>\n",
       "      <th>ins_losses</th>\n",
       "      <th>abbrev</th>\n",
       "    </tr>\n",
       "  </thead>\n",
       "  <tbody>\n",
       "    <tr>\n",
       "      <th>0</th>\n",
       "      <td>18.8</td>\n",
       "      <td>7.332</td>\n",
       "      <td>5.640</td>\n",
       "      <td>18.048</td>\n",
       "      <td>15.040</td>\n",
       "      <td>784.55</td>\n",
       "      <td>145.08</td>\n",
       "      <td>AL</td>\n",
       "    </tr>\n",
       "    <tr>\n",
       "      <th>1</th>\n",
       "      <td>18.1</td>\n",
       "      <td>7.421</td>\n",
       "      <td>4.525</td>\n",
       "      <td>16.290</td>\n",
       "      <td>17.014</td>\n",
       "      <td>1053.48</td>\n",
       "      <td>133.93</td>\n",
       "      <td>AK</td>\n",
       "    </tr>\n",
       "    <tr>\n",
       "      <th>2</th>\n",
       "      <td>18.6</td>\n",
       "      <td>6.510</td>\n",
       "      <td>5.208</td>\n",
       "      <td>15.624</td>\n",
       "      <td>17.856</td>\n",
       "      <td>899.47</td>\n",
       "      <td>110.35</td>\n",
       "      <td>AZ</td>\n",
       "    </tr>\n",
       "    <tr>\n",
       "      <th>3</th>\n",
       "      <td>22.4</td>\n",
       "      <td>4.032</td>\n",
       "      <td>5.824</td>\n",
       "      <td>21.056</td>\n",
       "      <td>21.280</td>\n",
       "      <td>827.34</td>\n",
       "      <td>142.39</td>\n",
       "      <td>AR</td>\n",
       "    </tr>\n",
       "    <tr>\n",
       "      <th>4</th>\n",
       "      <td>12.0</td>\n",
       "      <td>4.200</td>\n",
       "      <td>3.360</td>\n",
       "      <td>10.920</td>\n",
       "      <td>10.680</td>\n",
       "      <td>878.41</td>\n",
       "      <td>165.63</td>\n",
       "      <td>CA</td>\n",
       "    </tr>\n",
       "  </tbody>\n",
       "</table>\n",
       "</div>"
      ],
      "text/plain": [
       "   total  speeding  alcohol  not_distracted  no_previous  ins_premium  \\\n",
       "0   18.8     7.332    5.640          18.048       15.040       784.55   \n",
       "1   18.1     7.421    4.525          16.290       17.014      1053.48   \n",
       "2   18.6     6.510    5.208          15.624       17.856       899.47   \n",
       "3   22.4     4.032    5.824          21.056       21.280       827.34   \n",
       "4   12.0     4.200    3.360          10.920       10.680       878.41   \n",
       "\n",
       "   ins_losses abbrev  \n",
       "0      145.08     AL  \n",
       "1      133.93     AK  \n",
       "2      110.35     AZ  \n",
       "3      142.39     AR  \n",
       "4      165.63     CA  "
      ]
     },
     "execution_count": 5,
     "metadata": {},
     "output_type": "execute_result"
    }
   ],
   "source": [
    "crashes = sns.load_dataset(\"car_crashes\")\n",
    "crashes.head()"
   ]
  },
  {
   "cell_type": "code",
   "execution_count": 8,
   "metadata": {},
   "outputs": [
    {
     "name": "stdout",
     "output_type": "stream",
     "text": [
      "                            OLS Regression Results                            \n",
      "==============================================================================\n",
      "Dep. Variable:                  total   R-squared:                       0.727\n",
      "Model:                            OLS   Adj. R-squared:                  0.721\n",
      "Method:                 Least Squares   F-statistic:                     130.5\n",
      "Date:                Wed, 24 Aug 2022   Prob (F-statistic):           2.04e-15\n",
      "Time:                        19:33:41   Log-Likelihood:                -110.99\n",
      "No. Observations:                  51   AIC:                             226.0\n",
      "Df Residuals:                      49   BIC:                             229.8\n",
      "Df Model:                           1                                         \n",
      "Covariance Type:            nonrobust                                         \n",
      "==============================================================================\n",
      "                 coef    std err          t      P>|t|      [0.025      0.975]\n",
      "------------------------------------------------------------------------------\n",
      "Intercept      5.8578      0.921      6.357      0.000       4.006       7.709\n",
      "alcohol        2.0325      0.178     11.422      0.000       1.675       2.390\n",
      "==============================================================================\n",
      "Omnibus:                        1.922   Durbin-Watson:                   1.776\n",
      "Prob(Omnibus):                  0.382   Jarque-Bera (JB):                1.705\n",
      "Skew:                           0.439   Prob(JB):                        0.426\n",
      "Kurtosis:                       2.824   Cond. No.                         16.2\n",
      "==============================================================================\n",
      "\n",
      "Notes:\n",
      "[1] Standard Errors assume that the covariance matrix of the errors is correctly specified.\n"
     ]
    }
   ],
   "source": [
    "from statsmodels.formula.api import ols\n",
    "model = ols('total ~ alcohol', data = crashes).fit()\n",
    "print(model.summary())"
   ]
  },
  {
   "cell_type": "code",
   "execution_count": 11,
   "metadata": {},
   "outputs": [
    {
     "data": {
      "image/png": "[encoded data removed]",
      "text/plain": [
       "<Figure size 1008x432 with 2 Axes>"
      ]
     },
     "metadata": {
      "needs_background": "light"
     },
     "output_type": "display_data"
    },
    {
     "data": {
      "text/plain": [
       "<Figure size 432x288 with 0 Axes>"
      ]
     },
     "metadata": {},
     "output_type": "display_data"
    }
   ],
   "source": [
    "import matplotlib.pyplot as plt\n",
    "\n",
    "fig, [ax1, ax2] = plt.subplots(1, 2, figsize=(14,6))\n",
    "\n",
    "# Compare the two independent variables to each other - are they related?\n",
    "sns.scatterplot(x='alcohol', y='ins_premium', data=crashes, s=50, ax=ax1)\n",
    "# The color no represents the percentage of speeding drivers\n",
    "sns.scatterplot(x='alcohol', y='total', hue='ins_premium', data=crashes, s=50, palette='magma', ax=ax2);\n",
    "\n",
    "plt.show()\n",
    "plt.clf()"
   ]
  },
  {
   "cell_type": "code",
   "execution_count": 12,
   "metadata": {},
   "outputs": [
    {
     "name": "stdout",
     "output_type": "stream",
     "text": [
      "                            OLS Regression Results                            \n",
      "==============================================================================\n",
      "Dep. Variable:                  total   R-squared:                       0.730\n",
      "Model:                            OLS   Adj. R-squared:                  0.719\n",
      "Method:                 Least Squares   F-statistic:                     64.87\n",
      "Date:                Thu, 25 Aug 2022   Prob (F-statistic):           2.27e-14\n",
      "Time:                        00:03:01   Log-Likelihood:                -110.71\n",
      "No. Observations:                  51   AIC:                             227.4\n",
      "Df Residuals:                      48   BIC:                             233.2\n",
      "Df Model:                           2                                         \n",
      "Covariance Type:            nonrobust                                         \n",
      "==============================================================================\n",
      "                 coef    std err          t      P>|t|      [0.025      0.975]\n",
      "------------------------------------------------------------------------------\n",
      "Intercept      5.6807      0.957      5.934      0.000       3.756       7.606\n",
      "alcohol        1.9152      0.241      7.954      0.000       1.431       2.399\n",
      "speeding       0.1502      0.206      0.728      0.470      -0.265       0.565\n",
      "==============================================================================\n",
      "Omnibus:                        2.495   Durbin-Watson:                   1.809\n",
      "Prob(Omnibus):                  0.287   Jarque-Bera (JB):                2.045\n",
      "Skew:                           0.490   Prob(JB):                        0.360\n",
      "Kurtosis:                       2.978   Cond. No.                         23.5\n",
      "==============================================================================\n",
      "\n",
      "Notes:\n",
      "[1] Standard Errors assume that the covariance matrix of the errors is correctly specified.\n"
     ]
    }
   ],
   "source": [
    "# Set-up and fit the model in one step\n",
    "# (format Y ~ X1 + X2)\n",
    "model = ols('total ~ alcohol + speeding', data=crashes).fit()\n",
    "\n",
    "# Print the model summary\n",
    "print(model.summary())"
   ]
  },
  {
   "cell_type": "code",
   "execution_count": 13,
   "metadata": {},
   "outputs": [
    {
     "name": "stdout",
     "output_type": "stream",
     "text": [
      "                            OLS Regression Results                            \n",
      "==============================================================================\n",
      "Dep. Variable:                  total   R-squared:                       0.730\n",
      "Model:                            OLS   Adj. R-squared:                  0.719\n",
      "Method:                 Least Squares   F-statistic:                     64.87\n",
      "Date:                Thu, 25 Aug 2022   Prob (F-statistic):           2.27e-14\n",
      "Time:                        13:01:14   Log-Likelihood:                -110.71\n",
      "No. Observations:                  51   AIC:                             227.4\n",
      "Df Residuals:                      48   BIC:                             233.2\n",
      "Df Model:                           2                                         \n",
      "Covariance Type:            nonrobust                                         \n",
      "==============================================================================\n",
      "                 coef    std err          t      P>|t|      [0.025      0.975]\n",
      "------------------------------------------------------------------------------\n",
      "Intercept      5.6807      0.957      5.934      0.000       3.756       7.606\n",
      "alcohol        1.9152      0.241      7.954      0.000       1.431       2.399\n",
      "speeding       0.1502      0.206      0.728      0.470      -0.265       0.565\n",
      "==============================================================================\n",
      "Omnibus:                        2.495   Durbin-Watson:                   1.809\n",
      "Prob(Omnibus):                  0.287   Jarque-Bera (JB):                2.045\n",
      "Skew:                           0.490   Prob(JB):                        0.360\n",
      "Kurtosis:                       2.978   Cond. No.                         23.5\n",
      "==============================================================================\n",
      "\n",
      "Notes:\n",
      "[1] Standard Errors assume that the covariance matrix of the errors is correctly specified.\n"
     ]
    }
   ],
   "source": [
    "model2 = ols('total ~ alcohol', data=crashes).fit()\n",
    "print(model.summary())"
   ]
  },
  {
   "cell_type": "markdown",
   "metadata": {},
   "source": [
    "3-1 - Define a Vector and Calculate a Vector Length and Dot Product"
   ]
  },
  {
   "cell_type": "code",
   "execution_count": 14,
   "metadata": {},
   "outputs": [
    {
     "name": "stdout",
     "output_type": "stream",
     "text": [
      "2D vector: [7 9]\n",
      "3D vector: [4 7 2]\n"
     ]
    }
   ],
   "source": [
    "import numpy as np\n",
    "\n",
    "# Two-dimensonal vector\n",
    "my_2dvector = np.array([7, 9])\n",
    "print('2D vector:', my_2dvector)\n",
    "\n",
    "# Three-dimensonal vector\n",
    "my_3dvector = np.array([4, 7, 2])\n",
    "print('3D vector:', my_3dvector)"
   ]
  },
  {
   "cell_type": "code",
   "execution_count": 16,
   "metadata": {},
   "outputs": [
    {
     "data": {
      "image/png": "[encoded data removed]",
      "text/plain": [
       "<Figure size 432x288 with 1 Axes>"
      ]
     },
     "metadata": {
      "needs_background": "light"
     },
     "output_type": "display_data"
    },
    {
     "data": {
      "text/plain": [
       "<Figure size 432x288 with 0 Axes>"
      ]
     },
     "metadata": {},
     "output_type": "display_data"
    }
   ],
   "source": [
    "import matplotlib.pyplot as plt\n",
    "%matplotlib inline\n",
    "\n",
    "fig, ax = plt.subplots(1,1)\n",
    "ax.arrow(0, 0, 7, 9, width=.075)\n",
    "ax.set_xlim([0, 10]); ax.set_ylim([0, 10])\n",
    "\n",
    "plt.show()\n",
    "\n",
    "plt.clf()"
   ]
  },
  {
   "cell_type": "code",
   "execution_count": 18,
   "metadata": {},
   "outputs": [
    {
     "data": {
      "image/png": "[encoded data removed]",
      "text/plain": [
       "<Figure size 432x288 with 1 Axes>"
      ]
     },
     "metadata": {
      "needs_background": "light"
     },
     "output_type": "display_data"
    },
    {
     "data": {
      "text/plain": [
       "<Figure size 432x288 with 0 Axes>"
      ]
     },
     "metadata": {},
     "output_type": "display_data"
    }
   ],
   "source": [
    "from mpl_toolkits import mplot3d\n",
    "\n",
    "# 3D vector\n",
    "c = [4,7,2]\n",
    "vector = np.array([[0, 0, 0, c[0], c[1], c[2]]])\n",
    "# Create variables for plotting\n",
    "X, Y, Z, U, V, W = zip(*vector)\n",
    "# Plot!\n",
    "ax = plt.axes(projection='3d')\n",
    "ax.quiver(X, Y, Z, U, V, W, length=1)\n",
    "ax.set_xlim([0, 10]); ax.set_ylim([0, 10]); ax.set_zlim([0, 10])\n",
    "\n",
    "plt.show()\n",
    "plt.clf()"
   ]
  },
  {
   "cell_type": "code",
   "execution_count": 19,
   "metadata": {},
   "outputs": [
    {
     "name": "stdout",
     "output_type": "stream",
     "text": [
      "Row vector: [8 6 7 5 3 0 9]\n",
      "Column vector:\n",
      " [[8]\n",
      " [6]\n",
      " [7]\n",
      " [5]\n",
      " [3]\n",
      " [0]\n",
      " [9]]\n"
     ]
    }
   ],
   "source": [
    "# Row vector\n",
    "my_row_vector = np.array([8,6,7,5,3,0,9])\n",
    "print('Row vector:', my_row_vector)\n",
    "\n",
    "# Column vector\n",
    "# reshape(-1,1): specifies one column, unknown rows \n",
    "my_column_vector = np.array([8,6,7,5,3,0,9]).reshape(-1,1)\n",
    "print('Column vector:\\n', my_column_vector)"
   ]
  },
  {
   "cell_type": "markdown",
   "metadata": {},
   "source": [
    "Vector Math\n",
    "Vector length\n",
    "We can also do math with vectors. As we said earlier, vectors have a magnitude and direction. The magnitude of a vectors is just it’s length. We determine the length by taking the sum of the squares of each element and then take the square root:\n",
    "\n",
    "Three-dimensional vector: $$\\vec{b} = \\begin{bmatrix}4 & 7 & 2\\end{bmatrix}$$\n",
    "\n",
    "$$||\\vec{b}|| = \\sqrt{b_1^2 + b_2^2 + b_3^2} = \\sqrt{4^2 + 7^2 + 2^2} = \\sqrt{16+49+4} = \\sqrt{69} = 8.3$$\n",
    "\n",
    "Vector dot product\n",
    "The dot product is a kind of multiplication where we’re applying one vector to another. It can also be thought of as applying the directional growth of one vector to another.\n",
    "\n",
    "We’ll calculate the dot product for vectors $\\vec{b}$ and $\\vec{c}$:\n",
    "\n",
    "\n",
    "$$\\vec{b} = \\begin{bmatrix}4 & 7 & 2\\end{bmatrix}\n",
    "\\qquad\n",
    "\\vec{c} = \\begin{bmatrix} 6 & 1 & 7\\end{bmatrix}$$\n",
    "\n",
    "The dot product notation looks like this:\n",
    "\n",
    "$$\\vec{b} \\cdot \\vec{c}$$\n",
    "\n",
    "It represents the sum of the element-wise multiplication of the two vectors:\n",
    "\n",
    "$$\\vec{b} \\cdot \\vec{c} = b_{1}c_{1} + b_{2}c_{2} + b_{3}c_{3}  = (4)(6) + (7)(1) + (2)(7)   = 24 + 7 + 14   = 45$$ \n",
    "\n",
    "We can also do vector math in Python. Let’s reproduce the vector length and dot product calculations we just did, only using numpy."
   ]
  },
  {
   "cell_type": "code",
   "execution_count": 20,
   "metadata": {},
   "outputs": [
    {
     "data": {
      "text/plain": [
       "8.306623862918075"
      ]
     },
     "execution_count": 20,
     "metadata": {},
     "output_type": "execute_result"
    }
   ],
   "source": [
    "# Vector length\n",
    "b = np.array([4, 7, 2])\n",
    "np.linalg.norm(b)"
   ]
  },
  {
   "cell_type": "code",
   "execution_count": 21,
   "metadata": {},
   "outputs": [
    {
     "data": {
      "text/plain": [
       "45"
      ]
     },
     "execution_count": 21,
     "metadata": {},
     "output_type": "execute_result"
    }
   ],
   "source": [
    "# Dot product of two arrays (vectors)\n",
    "b = np.array([4, 7, 2])\n",
    "c = np.array([6, 1, 7])\n",
    "np.dot(b, c)"
   ]
  },
  {
   "cell_type": "markdown",
   "metadata": {},
   "source": [
    "3-2 - Explain Cosine Similarity and Compute the Similarity Between Two Vectors"
   ]
  },
  {
   "cell_type": "code",
   "execution_count": 27,
   "metadata": {},
   "outputs": [
    {
     "data": {
      "image/png": "[encoded data removed]",
      "text/plain": [
       "<Figure size 864x216 with 3 Axes>"
      ]
     },
     "metadata": {
      "needs_background": "light"
     },
     "output_type": "display_data"
    },
    {
     "data": {
      "text/plain": [
       "<Figure size 432x288 with 0 Axes>"
      ]
     },
     "metadata": {},
     "output_type": "display_data"
    }
   ],
   "source": [
    "# Import libraries\n",
    "import numpy as np\n",
    "import matplotlib.pyplot as plt\n",
    "%matplotlib inline\n",
    "\n",
    "# Plot identical and opposite vectors\n",
    "\n",
    "fig, [ax1, ax2, ax3] = plt.subplots(1,3, figsize=(12,3))\n",
    "\n",
    "# vector1 = [2, 4]; vector2 = [4, 8]\n",
    "# Same direction, y is twice as long\n",
    "ax1.arrow(0, 0, 2, 4, color='k', width=.15)\n",
    "ax1.arrow(0, 0, 4, 8, color='orange', width=.075)\n",
    "ax1.set_xlim([-1, 10]); ax1.set_ylim([-1, 10])\n",
    "ax1.set_title(\"Vectors: same direction\")\n",
    "\n",
    "# vector1 = [0, 4]; vector2 = [4, 0]\n",
    "# Right angle vectors\n",
    "ax2.arrow(0, 0, 0, 4, color='k', width=.075)\n",
    "ax2.arrow(0, 0, 4, 0, color='orange', width=.075)\n",
    "ax2.set_xlim([-1, 10]); ax2.set_ylim([-1, 10])\n",
    "ax2.set_title(\"Vectors: perpendicular\")\n",
    "\n",
    "# vector1 = [-2, -2]; vector2 = [2, 2]\n",
    "# Same length, opposite direction\n",
    "ax3.arrow(4, 4, -2, -2, color='k', width=.075)\n",
    "ax3.arrow(4, 4, 2, 2, color='orange', width=.075)\n",
    "ax3.set_xlim([-1, 10]); ax3.set_ylim([-1, 10])\n",
    "ax3.set_title(\"Vectors: opposite direction\")\n",
    "\n",
    "plt.savefig('C:/Users/rextr/Desktop/mod4_obj2_vector_angles.png',\n",
    "           transparent=False, dpi=100)\n",
    "\n",
    "plt.show()\n",
    "plt.clf()"
   ]
  },
  {
   "cell_type": "markdown",
   "metadata": {},
   "source": [
    "On the plot on the left, the vectors point in the same direction. The orange (lighter colored) vector is twice as long as the black vector. The angle between the vectors is 0. On the right, the vectors have the same length but point in the opposite direction. The angle between them is 180 degrees. The middle plot has perpendicular (or orthogonal) vectors to each other, and the angle between them is 90 degrees.\n",
    "\n",
    "Remember that the cosine is the angle between the hypotenuse and the adjacent side of a triangle.\n",
    "\n",
    "$$\\cos \\theta$$\n",
    "\n",
    "The cosine of the angle is written as the length of the adjacent side over the length of the hypotenuse:\n",
    "\n",
    "$$\\cos \\theta = \\frac{adjacent}{hypotenuse} $$\n",
    "\n",
    "Cosine function for different values of $\\theta$:\n",
    "\n",
    "$\n",
    "\\cos 0 = 1 \n",
    "$\n",
    "\n",
    "$\n",
    "\\cos 90 = 0 \n",
    "$\n",
    "\n",
    "$\n",
    "\\cos 180 = -1\n",
    "$\n",
    "\n",
    "Let's plot a pair of vectors where the angle between them is not 0, 90, or 180 degrees:"
   ]
  },
  {
   "cell_type": "code",
   "execution_count": 28,
   "metadata": {},
   "outputs": [
    {
     "data": {
      "image/png": "[encoded data removed]",
      "text/plain": [
       "<Figure size 432x288 with 1 Axes>"
      ]
     },
     "metadata": {
      "needs_background": "light"
     },
     "output_type": "display_data"
    },
    {
     "data": {
      "text/plain": [
       "<Figure size 432x288 with 0 Axes>"
      ]
     },
     "metadata": {},
     "output_type": "display_data"
    }
   ],
   "source": [
    "# Vector plots\n",
    "\n",
    "x = np.array([6, 4])\n",
    "y = np.array([3, 7])\n",
    "\n",
    "fig, ax = plt.subplots(1,1)\n",
    "ax.arrow(0, 0, x[0], x[1], color='k', width=.075)\n",
    "ax.arrow(0, 0, y[0], y[1], color='orange', width=.075)\n",
    "ax.set_xlim([-1, 10]); ax.set_ylim([-1, 10])\n",
    "\n",
    "# plt.savefig('C:/users/rextr/Desktop/filetestiamgod.png')\n",
    "plt.show()\n",
    "plt.clf()"
   ]
  },
  {
   "cell_type": "markdown",
   "metadata": {},
   "source": [
    "These vectors point in different directions. We can calculate the cosine of the angle between these vectors (or any two vectors) with the following equation:\n",
    "\n",
    "For vectors $\\mathbf {A}$ and $\\mathbf {B}$:\n",
    "\n",
    "$$\\mathbf {A} \\cdot \\mathbf {B} =\\left\\|\\mathbf {A} \\right\\|\\left\\|\\mathbf {B} \\right\\|\\cos \\theta$$\n",
    "\n",
    "Solving for $\\cos\\theta$ we get\n",
    "\n",
    "$$\\cos \\theta= \\frac{\\mathbf {A} \\cdot \\mathbf {B} }{\\left\\|\\mathbf {A} \\right\\|\\left\\|\\mathbf {B} \\right\\|}$$\n",
    "\n",
    "The quantity $\\mathbf {A} \\cdot \\mathbf {B}$ is the dot product and $\\left\\|\\mathbf {A} \\right\\|\\left\\|\\mathbf {B} \\right\\|$ is the product of the lengths of the vectors.\n",
    "\n",
    "Let's use Python to calculate the cosine of the angle between these vectors."
   ]
  },
  {
   "cell_type": "code",
   "execution_count": 40,
   "metadata": {},
   "outputs": [
    {
     "data": {
      "text/plain": [
       "0.8376105968386142"
      ]
     },
     "execution_count": 40,
     "metadata": {},
     "output_type": "execute_result"
    }
   ],
   "source": [
    "# Calculate cosine theta\n",
    "\n",
    "# Vectors\n",
    "x = np.array([6, 4])\n",
    "y = np.array([3, 7])\n",
    "\n",
    "# Cosine theta (cosine similarity)\n",
    "np.dot(x, y) / (np.linalg.norm(x) * np.linalg.norm(y))"
   ]
  },
  {
   "cell_type": "markdown",
   "metadata": {},
   "source": [
    "3-3 - Define a Matrix and Calculate a Matrix Dot Product, Transpose, and Inverse:\n",
    "\n",
    "Overview\n",
    "Now that we've practiced some mathematical operations with vectors, we can continue to expand our linear algebra knowledge and move onto matrices. As with vectors, you've probably also worked with matrices in Python without really focusing on what they were.\n",
    "\n",
    "Remember the column vector from earlier in the module? We can think of a column vector as a one-dimensional matrix. If we add more columns, then we have additional dimensions and a matrix.\n",
    "\n",
    "Column vector: $$\\vec{a} = \\begin{bmatrix}1 \\\\ 4 \\\\ 7 \\end{bmatrix}$$\n",
    "\n",
    "Let’s combine some more column vectors (not addition but just adding more columns):\n",
    "\n",
    "Combining this vector$$\\begin{bmatrix}1 \\\\ 4 \\\\ 7 \\end{bmatrix}$$ and this one $$\\begin{bmatrix}2 \\\\ 5 \\\\ 8 \\end{bmatrix}$$ results in this matrix\n",
    "\n",
    "\n",
    "$$M = \\begin{bmatrix}\n",
    "1 & 2 \\\\\n",
    "4 & 5 \\\\\n",
    "7 & 8\n",
    "\\end{bmatrix}$$\n",
    "\n",
    "Matrices are represented with an upper case letter:\n",
    "\n",
    "\n",
    "$$M = \\begin{bmatrix}\n",
    "1 & 2 & 3 \\\\\n",
    "4 & 5 & 6 \\\\\n",
    "7 & 8 & 9\n",
    "\\end{bmatrix}$$\n",
    "\n",
    "We create matrices in Python using numpy and adding additional column dimensions. Recall that the dimension of a vector is just its length. So we'll have a matrix if we add additional rows to a row vector or additional columns to a column vector. Because we have both a number of rows and a number of columns, we need to talk about the matrix as n rows by m columns; a 2x2 matrix would have two rows and two columns.\n",
    "\n",
    "Let's create some matrices of different dimensions.\n",
    "\n"
   ]
  },
  {
   "cell_type": "code",
   "execution_count": 30,
   "metadata": {},
   "outputs": [
    {
     "name": "stdout",
     "output_type": "stream",
     "text": [
      "2x3 matrix:\n",
      " [[1 2 3]\n",
      " [4 5 6]]\n",
      "\n",
      "3x3 matrix:\n",
      " [[1 2 3]\n",
      " [4 5 6]\n",
      " [7 8 9]]\n"
     ]
    }
   ],
   "source": [
    "import numpy as np\n",
    "\n",
    "# Two dimensional numpy array (2x3)\n",
    "matrix1 = np.array([[ 1, 2, 3],[ 4, 5, 6]])\n",
    "print('2x3 matrix:\\n', matrix1)\n",
    "\n",
    "# 3x3 numpy array\n",
    "matrix2 = np.array([[ 1, 2, 3],[ 4, 5, 6], [7, 8, 9]])\n",
    "print('\\n3x3 matrix:\\n', matrix2)"
   ]
  },
  {
   "cell_type": "markdown",
   "metadata": {},
   "source": [
    "Matrix Math:\n",
    "\n",
    "We'll go over a few basic matrix operations. Of course, there are many more, but there are several excellent resources available for further review.\n",
    "\n",
    "\n",
    "Matrix multiplication\n",
    "We accomplish matrix multiplication by calculating the dot product between the rows of the first matrix and the columns of the second matrix. This image from Math is Fun  (Links to an external site.)is a good illustration.\n",
    "\n",
    "\n",
    "\n",
    "Let’s multiply two matrices and then check the results with Python.\n",
    "\n",
    "\n",
    "$$X = \n",
    "\\begin{bmatrix}\n",
    "1 & 4 & 8 \\\\\n",
    "2 & 3 & 1 \\\\\n",
    "\\end{bmatrix}$$\n",
    "\n",
    "\n",
    "$$Y = \n",
    "\\begin{bmatrix}\n",
    "1 & 6 \\\\\n",
    "2 & 3 \\\\\n",
    "5 & 7\n",
    "\\end{bmatrix}$$\n",
    "\n",
    "\n",
    "\n",
    "\n",
    "$$X Y = \n",
    "\\begin{bmatrix}\n",
    "(1)(1)+(4)(2)+(8)(5) & (1)(6)+(4)(3)+(8)(7) \\\\\n",
    "(2)(1)+(3)(2)+(1)(5) & (2)(6)+(3)(3)+(1)(7)\n",
    "\\end{bmatrix}$$\n",
    "\n",
    "\n",
    "$$X Y = \\begin{bmatrix}\n",
    "49 & 74 \\\\\n",
    "13 & 28\n",
    "\\end{bmatrix}$$\n"
   ]
  },
  {
   "cell_type": "code",
   "execution_count": 31,
   "metadata": {},
   "outputs": [
    {
     "name": "stdout",
     "output_type": "stream",
     "text": [
      "X * Y:\n",
      " [[49 74]\n",
      " [13 28]]\n"
     ]
    }
   ],
   "source": [
    "# Check matrix multiplication with Python\n",
    "\n",
    "X = np.array([[1,4,8],[2,3,1]])\n",
    "Y = np.array([[1,6],[2,3],[5,7]])\n",
    "\n",
    "X_Y = np.matmul(X, Y)\n",
    "print('X * Y:\\n', X_Y)"
   ]
  },
  {
   "cell_type": "code",
   "execution_count": 32,
   "metadata": {},
   "outputs": [
    {
     "name": "stdout",
     "output_type": "stream",
     "text": [
      "Original matrix:\n",
      " [[1 2]\n",
      " [3 4]\n",
      " [5 6]]\n",
      "Transposed matrix:\n",
      " [[1 3 5]\n",
      " [2 4 6]]\n"
     ]
    }
   ],
   "source": [
    "A = np.array([[1, 2], [3, 4],[5, 6]])\n",
    "print('Original matrix:\\n', A)\n",
    "\n",
    "A_T = np.transpose(A)\n",
    "print('Transposed matrix:\\n', A_T)"
   ]
  },
  {
   "cell_type": "markdown",
   "metadata": {},
   "source": [
    "Identity Matrix\n",
    "The identity matrix is a specific diagonal matrix where there are only ones on the main diagonal and zeros everywhere else. This matrix acts a lot like the number 1: if we multiply any matrix by its identity matrix, the original matrix will remain unchanged. Here's an example of a 3x3 identity matrix.\n",
    "\n",
    "\n",
    "$I_3 = \n",
    "\\begin{bmatrix}\n",
    "1 & 0 & 0 \\\\\n",
    "0 & 1 & 0 \\\\\n",
    "0 & 0 & 1\n",
    "\\end{bmatrix}$"
   ]
  },
  {
   "cell_type": "markdown",
   "metadata": {},
   "source": [
    "334 - Use Linear Algebra to Solve for Linear Regression Coefficients\n",
    "Overview\n",
    "The material in this sprint has been a combination of exploring linear regression and making inferential statements. And we've also introduced some linear algebra basics. Now we will combine the two and look at how to state a linear regression model with vectors and matrices.\n",
    "\n",
    "Linear Regression\n",
    "Recall the form of the linear regression equation (for one independent variable):\n",
    "\n",
    "$$y = b_0 + b_1x$$\n",
    "\n",
    "Now we’re going to consider each individual data point we have in our data set - we’ll start with the first, then second, etc.:\n",
    "\n",
    "$$y_1 = b_0 + b_1x_1$$ \n",
    "\n",
    "$$y_2 = b_0 + b_1x_2$$ \n",
    "\n",
    "$$y_3 = b_0 + b_1x_3$$\n",
    "\n",
    "we can generalize by using i for each data point:\n",
    "\n",
    "$$y_i = b_0 + b_1x_i$$ \n",
    "\n",
    "We can start to see some different data structures taking place. Let’s write our target (dependent) variables as a vector and our independent variable also as a vector.\n",
    "\n",
    "\n",
    "$$\\begin{bmatrix} y_1 \\\\ y_2 \\\\ y_3 \\\\ \\vdots \\\\ y_i \\end{bmatrix} = \n",
    "\\begin{bmatrix} b_0 \\\\ b_0 \\\\ b_0 \\\\ \\vdots \\\\ b_0  \\end{bmatrix} +\n",
    "\\begin{bmatrix} b_1x_1 \\\\ b_1x_2 \\\\ b_1x_3 \\\\ \\vdots \\\\ b_1x_i  \\end{bmatrix}$$\n",
    "\n",
    "\n",
    "But we can simplify and pull the b coefficients out of the matrix and write them in their own vector:\n",
    "\n",
    "$$\\begin{bmatrix} b_0 \\\\ b_1 \\end{bmatrix}$$ \n",
    "\n",
    "\n",
    "The equation now has this form:\n",
    "\n",
    "\n",
    "$$\\begin{bmatrix}y_1 \\\\ y_2 \\\\ y_3 \\\\ \\vdots \\\\ y_i \\end{bmatrix} = \n",
    "\\begin{bmatrix}1 & x_1 \\\\ 1 & x_2 \\\\ 1 & x_3 \\\\ \\vdots \\\\ 1 & x_i  \\end{bmatrix}\n",
    "\\begin{bmatrix}b_0 \\\\ b_1 \\end{bmatrix}$$\n",
    "\n",
    "We can write this in matrix form as:\n",
    "\n",
    "$$Y = BX$$ \n",
    "\n",
    "Solve for the linear regression coefficient\n",
    "Now, let's put to use what we've learned working with matrices and solve for B. Okay, this involves quite a lot of linear algebra and some calculus. What we want is the least-squares solution to the above equation. Remember the ordinal least-square (OLS) model we used in the previous modules? The least-squares solution is:\n",
    "\n",
    "$$B = (X^T X)^{-1}X^TY$$ \n",
    "\n",
    "where $X^T$ is the transpose of $X$.\n",
    "\n",
    "Now let’s load in the car crash data set, create the $X$ matrix and $Y$ vector and solve for the coefficients for the linear regression."
   ]
  },
  {
   "cell_type": "code",
   "execution_count": 36,
   "metadata": {},
   "outputs": [
    {
     "data": {
      "text/html": [
       "<div>\n",
       "<style scoped>\n",
       "    .dataframe tbody tr th:only-of-type {\n",
       "        vertical-align: middle;\n",
       "    }\n",
       "\n",
       "    .dataframe tbody tr th {\n",
       "        vertical-align: top;\n",
       "    }\n",
       "\n",
       "    .dataframe thead th {\n",
       "        text-align: right;\n",
       "    }\n",
       "</style>\n",
       "<table border=\"1\" class=\"dataframe\">\n",
       "  <thead>\n",
       "    <tr style=\"text-align: right;\">\n",
       "      <th></th>\n",
       "      <th>total</th>\n",
       "      <th>speeding</th>\n",
       "      <th>alcohol</th>\n",
       "      <th>not_distracted</th>\n",
       "      <th>no_previous</th>\n",
       "      <th>ins_premium</th>\n",
       "      <th>ins_losses</th>\n",
       "      <th>abbrev</th>\n",
       "    </tr>\n",
       "  </thead>\n",
       "  <tbody>\n",
       "    <tr>\n",
       "      <th>0</th>\n",
       "      <td>18.8</td>\n",
       "      <td>7.332</td>\n",
       "      <td>5.640</td>\n",
       "      <td>18.048</td>\n",
       "      <td>15.040</td>\n",
       "      <td>784.55</td>\n",
       "      <td>145.08</td>\n",
       "      <td>AL</td>\n",
       "    </tr>\n",
       "    <tr>\n",
       "      <th>1</th>\n",
       "      <td>18.1</td>\n",
       "      <td>7.421</td>\n",
       "      <td>4.525</td>\n",
       "      <td>16.290</td>\n",
       "      <td>17.014</td>\n",
       "      <td>1053.48</td>\n",
       "      <td>133.93</td>\n",
       "      <td>AK</td>\n",
       "    </tr>\n",
       "    <tr>\n",
       "      <th>2</th>\n",
       "      <td>18.6</td>\n",
       "      <td>6.510</td>\n",
       "      <td>5.208</td>\n",
       "      <td>15.624</td>\n",
       "      <td>17.856</td>\n",
       "      <td>899.47</td>\n",
       "      <td>110.35</td>\n",
       "      <td>AZ</td>\n",
       "    </tr>\n",
       "    <tr>\n",
       "      <th>3</th>\n",
       "      <td>22.4</td>\n",
       "      <td>4.032</td>\n",
       "      <td>5.824</td>\n",
       "      <td>21.056</td>\n",
       "      <td>21.280</td>\n",
       "      <td>827.34</td>\n",
       "      <td>142.39</td>\n",
       "      <td>AR</td>\n",
       "    </tr>\n",
       "    <tr>\n",
       "      <th>4</th>\n",
       "      <td>12.0</td>\n",
       "      <td>4.200</td>\n",
       "      <td>3.360</td>\n",
       "      <td>10.920</td>\n",
       "      <td>10.680</td>\n",
       "      <td>878.41</td>\n",
       "      <td>165.63</td>\n",
       "      <td>CA</td>\n",
       "    </tr>\n",
       "  </tbody>\n",
       "</table>\n",
       "</div>"
      ],
      "text/plain": [
       "   total  speeding  alcohol  not_distracted  no_previous  ins_premium  \\\n",
       "0   18.8     7.332    5.640          18.048       15.040       784.55   \n",
       "1   18.1     7.421    4.525          16.290       17.014      1053.48   \n",
       "2   18.6     6.510    5.208          15.624       17.856       899.47   \n",
       "3   22.4     4.032    5.824          21.056       21.280       827.34   \n",
       "4   12.0     4.200    3.360          10.920       10.680       878.41   \n",
       "\n",
       "   ins_losses abbrev  \n",
       "0      145.08     AL  \n",
       "1      133.93     AK  \n",
       "2      110.35     AZ  \n",
       "3      142.39     AR  \n",
       "4      165.63     CA  "
      ]
     },
     "execution_count": 36,
     "metadata": {},
     "output_type": "execute_result"
    }
   ],
   "source": [
    "import pandas as pd\n",
    "import seaborn as sns\n",
    "\n",
    "# Load the car crash dataset\n",
    "crashes = sns.load_dataset(\"car_crashes\")\n",
    "\n",
    "crashes.head()"
   ]
  },
  {
   "cell_type": "code",
   "execution_count": 37,
   "metadata": {},
   "outputs": [
    {
     "name": "stdout",
     "output_type": "stream",
     "text": [
      "The feature matrix has a shape: (51, 2)\n",
      "The target vector has a shape: (51, 1)\n"
     ]
    }
   ],
   "source": [
    "# Create independent (feature) matrix\n",
    "import numpy as np\n",
    "\n",
    "# Create the ones column\n",
    "ones = np.repeat(1,len(crashes)).reshape(-1,1)\n",
    "\n",
    "# Select a column and reshape to add an additional column\n",
    "alcohol = np.array(crashes['alcohol']).reshape(-1,1)\n",
    "\n",
    "# \"Glue\" the columns together\n",
    "X = np.concatenate((ones, alcohol), axis=1)\n",
    "\n",
    "# Look at the shape\n",
    "print('The feature matrix has a shape:', X.shape)\n",
    "\n",
    "# Create the dependent (target) vector\n",
    "Y = np.array(crashes['total']).reshape(-1,1)\n",
    "\n",
    "print('The target vector has a shape:', Y.shape)"
   ]
  },
  {
   "cell_type": "code",
   "execution_count": 38,
   "metadata": {},
   "outputs": [
    {
     "name": "stdout",
     "output_type": "stream",
     "text": [
      "X transpose multiplied by X:\n",
      " [[  51.        249.226   ]\n",
      " [ 249.226    1367.408738]]\n",
      "\n",
      "Inverse of X transpose multipled by X):\n",
      " [[ 0.17935002 -0.03268861]\n",
      " [-0.03268861  0.00668919]]\n",
      "\n",
      "X transpose multipled by Y:\n",
      " [[ 805.3  ]\n",
      " [4239.177]]\n",
      "\n",
      "The regression coefficients B are:\n",
      " [[5.85777615]\n",
      " [2.0325063 ]]\n"
     ]
    }
   ],
   "source": [
    "# Calculate X transpose\n",
    "X_T = np.transpose(X)\n",
    "\n",
    "# Calculate X transpose multiplied by X\n",
    "X_T_X = np.matmul(X_T,X)\n",
    "\n",
    "print('X transpose multiplied by X:\\n', X_T_X)\n",
    "\n",
    "# Calculate the inverse of X_T_X\n",
    "X_T_X_inv = np.linalg.inv(X_T_X)\n",
    "\n",
    "print('\\nInverse of X transpose multipled by X):\\n', X_T_X_inv)\n",
    "\n",
    "#Calculate X transpose Y\n",
    "X_T_Y = np.matmul(X_T,Y)\n",
    "\n",
    "print('\\nX transpose multipled by Y:\\n', X_T_Y)\n",
    "\n",
    "# Finally - calculate B =  = (X'X)^-1 multiplied by X'Y\n",
    "\n",
    "B = np.matmul(X_T_X_inv,X_T_Y)\n",
    "\n",
    "print('\\nThe regression coefficients B are:\\n', B)"
   ]
  },
  {
   "cell_type": "markdown",
   "metadata": {},
   "source": [
    "# **3:4:1 - Understand and Define Bias**\n",
    "\n",
    "**Overview**\n",
    "\n",
    "Machine learning algorithms use mathematical or statistical models with inherent errors in two categories: reducible and irreducible error. Irreducible error, or inherent uncertainty, is due to natural variability within a system. In comparison, reducible error is more controllable and should be minimized to ensure higher accuracy.\n",
    "\n",
    "Bias and variance are components of reducible error. Reducing errors requires selecting models that have appropriate complexity and flexibility, as well as suitable training data. Data scientists must thoroughly understand the difference between bias and variance to reduce error and build accurate models.\n",
    "\n",
    "Bias is the calculated error due to systematic mistakes that lead to high or lower results when compared to the actual values. The individual residual of an estimate is the difference between that estimated and the actual value.\n",
    "\n",
    "In linear regression, prediction bias (Links to an external site.) is “a value indicating how far apart the average of predictions is from the average of labels in the dataset.” In the majority of applications, prediction bias is not deliberately included as part of a model’s design, but it is used as a measure to evaluate and tune the model.\n",
    "\n",
    "When estimates are biased, they are consistently incorrect in one direction due to mistakes in the model. An example could be a model that consistently predicts daily sales that are higher than those actually observed. The model is biased, as there is a mistake that gives too high an estimate. If this model were to be unbiased, there may still be days predicted that are not correct, but the incorrect sales amounts will sometimes be higher and sometimes lower than the observed sales. "
   ]
  },
  {
   "cell_type": "markdown",
   "metadata": {},
   "source": [
    "# **3:4:2 - Understand and Define Variance**\n",
    "\n",
    "**Overview**\n",
    "\n",
    "In statistics, variance measures variability (Links to an external site.) from the average or mean. It is calculated by taking the differences between each number in the data set and the mean, then squaring the differences to make them positive, and finally dividing the sum of the squares by the number of values in the data set.\n",
    "\n",
    "# $ s^2 = {\\Sigma(x_i - \\bar{x})^2 \\over n - 1} $\n",
    "\n",
    "* A high variance indicates that numbers in the set are far from the mean and far from each other.\n",
    "* A small variance indicates the opposite.\n",
    "* A variance value of zero indicates that all values within a set of numbers are identical.\n",
    "* Every variance that isn’t zero is a positive number.\n",
    "* A variance cannot be negative. You can’t have a negative value resulting from a square.\n",
    " \n",
    "\n",
    "\n",
    "Higher variance may lead to more errors in values that the model has not seen yet, and fails to generalize well to data it hasn't seen."
   ]
  },
  {
   "cell_type": "markdown",
   "metadata": {},
   "source": [
    "# **3:4:3 - Describe the Bias / Variance Tradeoff**\n",
    "\n",
    "**Overall**\n",
    "\n",
    "One goal of predictive modeling is to find the optimal \"sweet spot\" in which we minimize our error.  Ideally, we're trying to find the ideal balance of bias and variance that allows our models to properly generalize to its testing or new values. \n",
    "\n",
    "*see \"Bias-Variance Tradeoff Visual\" and \"High Bias vs. High Variance Comparison Visual\"*"
   ]
  },
  {
   "cell_type": "markdown",
   "metadata": {},
   "source": [
    "# **3:4:4 - Define Different Types of Biases**\n",
    "\n",
    "**Overview**\n",
    "\n",
    "Bias is the purposeful or unintentional selection of one class or outcome over other groups or outcomes out of a chosen set of data. This occurs when a model or data set is unrepresentative. This drawback in statistical analysis can be rectified in the data selection process as part of your EDA, data cleaning, or feature selection.  \n",
    "\n",
    "**Types of Bias**\n",
    "\n",
    "Some types of biases you may encounter include:\n",
    "\n",
    "***Selection Bias*** \n",
    "\n",
    "Using groups, individuals, or data in a way that does not allow for proper randomization. This may result in a sample that is not representative of a population. \n",
    "Example: Polling only individuals who have access to a landline telephone in 2012. This demographic may not be wholly representative of all voters in the United States. \n",
    "\n",
    "\n",
    "***Survivorship Bias***\n",
    "\n",
    "Where interpreting the results from individuals who have 'survived' a long process are included or excluded. \n",
    "Example: From [Sreenivasan Chandrasekar](https://towardsdatascience.com/what-is-statistical-bias-and-why-is-it-so-important-in-data-science-80e02bf7a88d#f85d):\n",
    "\n",
    "* “We enroll for gym membership and attend for a few days. We see the same faces of many people who are fit, motivated and exercising everyday whenever we go to gym. After a few days we become depressed why we aren’t able to stick to our schedule and motivation more than a week when most of the people who we saw at gym could. What we didn’t see was that many of the people who had enrolled for gym membership had also stopped turning up for gym just after a week and we didn’t see them.” \n",
    "* During World War II, Abraham Wald took survivorship bias into his calculations when considering how to minimize bomber losses to enemy fire\n",
    "\n",
    "*see \"Abraham Wald Survivorship Bias Bomber Hit Data Visual\"*\n",
    "\n",
    "***Recency Bias***\n",
    "\n",
    "When preference for the most recent event is favored over historic events.\n",
    "\n",
    "*Example: The final lawyer's closing argument a jury hears before being dismissed to deliberate.* \n",
    "\n",
    "There are many others you will have to deal with from your datasets. It is important to use the proper language when describing the results of your models given the sample you have chosen to use from a population. \n",
    "\n"
   ]
  }
 ],
 "metadata": {
  "kernelspec": {
   "display_name": "Python 3.9.12 ('base')",
   "language": "python",
   "name": "python3"
  },
  "language_info": {
   "codemirror_mode": {
    "name": "ipython",
    "version": 3
   },
   "file_extension": ".py",
   "mimetype": "text/x-python",
   "name": "python",
   "nbconvert_exporter": "python",
   "pygments_lexer": "ipython3",
   "version": "3.9.12"
  },
  "orig_nbformat": 4,
  "vscode": {
   "interpreter": {
    "hash": "ad2bdc8ecc057115af97d19610ffacc2b4e99fae6737bb82f5d7fb13d2f2c186"
   }
  }
 },
 "nbformat": 4,
 "nbformat_minor": 2
}
