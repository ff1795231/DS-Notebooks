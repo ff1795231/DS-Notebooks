{
  "cells": [
    {
      "cell_type": "markdown",
      "metadata": {
        "id": "CPzo2e6aFrjx"
      },
      "source": [
        "# BloomTech Data Science - Unit 2 Sprint 1 Module 1"
      ]
    },
    {
      "cell_type": "code",
      "execution_count": 6,
      "metadata": {
        "id": "XdKtS6Gi5jul"
      },
      "outputs": [],
      "source": [
        "import pandas as pd\n",
        "import matplotlib.pyplot as plt\n",
        "import numpy as np\n",
        "from sklearn.metrics import mean_absolute_error"
      ]
    },
    {
      "cell_type": "markdown",
      "metadata": {
        "id": "2EVx8r5HLa6f"
      },
      "source": [
        "# I. Wrangle Data"
      ]
    },
    {
      "cell_type": "code",
      "execution_count": 15,
      "metadata": {
        "id": "syxaPzCWqfTY"
      },
      "outputs": [
        {
          "data": {
            "text/html": [
              "<div>\n",
              "<style scoped>\n",
              "    .dataframe tbody tr th:only-of-type {\n",
              "        vertical-align: middle;\n",
              "    }\n",
              "\n",
              "    .dataframe tbody tr th {\n",
              "        vertical-align: top;\n",
              "    }\n",
              "\n",
              "    .dataframe thead th {\n",
              "        text-align: right;\n",
              "    }\n",
              "</style>\n",
              "<table border=\"1\" class=\"dataframe\">\n",
              "  <thead>\n",
              "    <tr style=\"text-align: right;\">\n",
              "      <th></th>\n",
              "      <th>BOROUGH</th>\n",
              "      <th>NEIGHBORHOOD</th>\n",
              "      <th>BUILDING CLASS CATEGORY</th>\n",
              "      <th>TAX CLASS AT PRESENT</th>\n",
              "      <th>BLOCK</th>\n",
              "      <th>LOT</th>\n",
              "      <th>EASE-MENT</th>\n",
              "      <th>BUILDING CLASS AT PRESENT</th>\n",
              "      <th>ADDRESS</th>\n",
              "      <th>APARTMENT NUMBER</th>\n",
              "      <th>...</th>\n",
              "      <th>RESIDENTIAL UNITS</th>\n",
              "      <th>COMMERCIAL UNITS</th>\n",
              "      <th>TOTAL UNITS</th>\n",
              "      <th>LAND SQUARE FEET</th>\n",
              "      <th>GROSS SQUARE FEET</th>\n",
              "      <th>YEAR BUILT</th>\n",
              "      <th>TAX CLASS AT TIME OF SALE</th>\n",
              "      <th>BUILDING CLASS AT TIME OF SALE</th>\n",
              "      <th>SALE PRICE</th>\n",
              "      <th>SALE DATE</th>\n",
              "    </tr>\n",
              "  </thead>\n",
              "  <tbody>\n",
              "    <tr>\n",
              "      <th>0</th>\n",
              "      <td>1</td>\n",
              "      <td>ALPHABET CITY</td>\n",
              "      <td>02 TWO FAMILY DWELLINGS</td>\n",
              "      <td>1</td>\n",
              "      <td>377</td>\n",
              "      <td>70</td>\n",
              "      <td>NaN</td>\n",
              "      <td>B1</td>\n",
              "      <td>235 EAST 7TH STREET</td>\n",
              "      <td>NaN</td>\n",
              "      <td>...</td>\n",
              "      <td>2.0</td>\n",
              "      <td>0.0</td>\n",
              "      <td>2.0</td>\n",
              "      <td>882</td>\n",
              "      <td>2160.0</td>\n",
              "      <td>2003.0</td>\n",
              "      <td>1</td>\n",
              "      <td>B1</td>\n",
              "      <td>3,025,000</td>\n",
              "      <td>12/16/2021</td>\n",
              "    </tr>\n",
              "    <tr>\n",
              "      <th>1</th>\n",
              "      <td>1</td>\n",
              "      <td>ALPHABET CITY</td>\n",
              "      <td>07 RENTALS - WALKUP APARTMENTS</td>\n",
              "      <td>2</td>\n",
              "      <td>376</td>\n",
              "      <td>54</td>\n",
              "      <td>NaN</td>\n",
              "      <td>C4</td>\n",
              "      <td>719 EAST SIXTH STREET, 5C</td>\n",
              "      <td>NaN</td>\n",
              "      <td>...</td>\n",
              "      <td>20.0</td>\n",
              "      <td>0.0</td>\n",
              "      <td>20.0</td>\n",
              "      <td>2,302</td>\n",
              "      <td>9750.0</td>\n",
              "      <td>1900.0</td>\n",
              "      <td>2</td>\n",
              "      <td>C4</td>\n",
              "      <td>154,196</td>\n",
              "      <td>06/11/2021</td>\n",
              "    </tr>\n",
              "    <tr>\n",
              "      <th>2</th>\n",
              "      <td>1</td>\n",
              "      <td>ALPHABET CITY</td>\n",
              "      <td>07 RENTALS - WALKUP APARTMENTS</td>\n",
              "      <td>2</td>\n",
              "      <td>385</td>\n",
              "      <td>46</td>\n",
              "      <td>NaN</td>\n",
              "      <td>C4</td>\n",
              "      <td>248 EAST 2 STREET</td>\n",
              "      <td>NaN</td>\n",
              "      <td>...</td>\n",
              "      <td>20.0</td>\n",
              "      <td>0.0</td>\n",
              "      <td>20.0</td>\n",
              "      <td>2,623</td>\n",
              "      <td>11017.0</td>\n",
              "      <td>1900.0</td>\n",
              "      <td>2</td>\n",
              "      <td>C4</td>\n",
              "      <td>0</td>\n",
              "      <td>11/15/2021</td>\n",
              "    </tr>\n",
              "    <tr>\n",
              "      <th>3</th>\n",
              "      <td>1</td>\n",
              "      <td>ALPHABET CITY</td>\n",
              "      <td>07 RENTALS - WALKUP APARTMENTS</td>\n",
              "      <td>2</td>\n",
              "      <td>386</td>\n",
              "      <td>53</td>\n",
              "      <td>NaN</td>\n",
              "      <td>C1</td>\n",
              "      <td>233 EAST 3 STREET</td>\n",
              "      <td>NaN</td>\n",
              "      <td>...</td>\n",
              "      <td>29.0</td>\n",
              "      <td>0.0</td>\n",
              "      <td>29.0</td>\n",
              "      <td>3,927</td>\n",
              "      <td>17754.0</td>\n",
              "      <td>1910.0</td>\n",
              "      <td>2</td>\n",
              "      <td>C1</td>\n",
              "      <td>7,500,000</td>\n",
              "      <td>06/14/2021</td>\n",
              "    </tr>\n",
              "    <tr>\n",
              "      <th>4</th>\n",
              "      <td>1</td>\n",
              "      <td>ALPHABET CITY</td>\n",
              "      <td>07 RENTALS - WALKUP APARTMENTS</td>\n",
              "      <td>2</td>\n",
              "      <td>390</td>\n",
              "      <td>57</td>\n",
              "      <td>NaN</td>\n",
              "      <td>C7</td>\n",
              "      <td>197 EAST 7TH STREET</td>\n",
              "      <td>NaN</td>\n",
              "      <td>...</td>\n",
              "      <td>10.0</td>\n",
              "      <td>1.0</td>\n",
              "      <td>11.0</td>\n",
              "      <td>1,600</td>\n",
              "      <td>5320.0</td>\n",
              "      <td>1910.0</td>\n",
              "      <td>2</td>\n",
              "      <td>C7</td>\n",
              "      <td>10</td>\n",
              "      <td>01/13/2022</td>\n",
              "    </tr>\n",
              "  </tbody>\n",
              "</table>\n",
              "<p>5 rows × 21 columns</p>\n",
              "</div>"
            ],
            "text/plain": [
              "   BOROUGH   NEIGHBORHOOD         BUILDING CLASS CATEGORY  \\\n",
              "0        1  ALPHABET CITY         02 TWO FAMILY DWELLINGS   \n",
              "1        1  ALPHABET CITY  07 RENTALS - WALKUP APARTMENTS   \n",
              "2        1  ALPHABET CITY  07 RENTALS - WALKUP APARTMENTS   \n",
              "3        1  ALPHABET CITY  07 RENTALS - WALKUP APARTMENTS   \n",
              "4        1  ALPHABET CITY  07 RENTALS - WALKUP APARTMENTS   \n",
              "\n",
              "  TAX CLASS AT PRESENT  BLOCK  LOT  EASE-MENT BUILDING CLASS AT PRESENT  \\\n",
              "0                    1    377   70        NaN                        B1   \n",
              "1                    2    376   54        NaN                        C4   \n",
              "2                    2    385   46        NaN                        C4   \n",
              "3                    2    386   53        NaN                        C1   \n",
              "4                    2    390   57        NaN                        C7   \n",
              "\n",
              "                     ADDRESS APARTMENT NUMBER  ...  RESIDENTIAL UNITS  \\\n",
              "0        235 EAST 7TH STREET              NaN  ...                2.0   \n",
              "1  719 EAST SIXTH STREET, 5C              NaN  ...               20.0   \n",
              "2          248 EAST 2 STREET              NaN  ...               20.0   \n",
              "3          233 EAST 3 STREET              NaN  ...               29.0   \n",
              "4        197 EAST 7TH STREET              NaN  ...               10.0   \n",
              "\n",
              "   COMMERCIAL UNITS  TOTAL UNITS  LAND SQUARE FEET GROSS SQUARE FEET  \\\n",
              "0               0.0          2.0               882            2160.0   \n",
              "1               0.0         20.0             2,302            9750.0   \n",
              "2               0.0         20.0             2,623           11017.0   \n",
              "3               0.0         29.0             3,927           17754.0   \n",
              "4               1.0         11.0             1,600            5320.0   \n",
              "\n",
              "   YEAR BUILT  TAX CLASS AT TIME OF SALE  BUILDING CLASS AT TIME OF SALE  \\\n",
              "0      2003.0                          1                              B1   \n",
              "1      1900.0                          2                              C4   \n",
              "2      1900.0                          2                              C4   \n",
              "3      1910.0                          2                              C1   \n",
              "4      1910.0                          2                              C7   \n",
              "\n",
              "  SALE PRICE   SALE DATE  \n",
              "0  3,025,000  12/16/2021  \n",
              "1    154,196  06/11/2021  \n",
              "2          0  11/15/2021  \n",
              "3  7,500,000  06/14/2021  \n",
              "4         10  01/13/2022  \n",
              "\n",
              "[5 rows x 21 columns]"
            ]
          },
          "execution_count": 15,
          "metadata": {},
          "output_type": "execute_result"
        }
      ],
      "source": [
        "DATA_PATH = \"c:/users/rextr/downloads/NYC_Citywide_Rolling_Calendar_Sales.csv\"\n",
        "\n",
        "df = pd.read_csv(DATA_PATH)\n",
        "df.head()"
      ]
    },
    {
      "cell_type": "code",
      "execution_count": 31,
      "metadata": {},
      "outputs": [
        {
          "data": {
            "text/html": [
              "<div>\n",
              "<style scoped>\n",
              "    .dataframe tbody tr th:only-of-type {\n",
              "        vertical-align: middle;\n",
              "    }\n",
              "\n",
              "    .dataframe tbody tr th {\n",
              "        vertical-align: top;\n",
              "    }\n",
              "\n",
              "    .dataframe thead th {\n",
              "        text-align: right;\n",
              "    }\n",
              "</style>\n",
              "<table border=\"1\" class=\"dataframe\">\n",
              "  <thead>\n",
              "    <tr style=\"text-align: right;\">\n",
              "      <th></th>\n",
              "      <th>BOROUGH</th>\n",
              "      <th>TAX CLASS AT PRESENT</th>\n",
              "      <th>BLOCK</th>\n",
              "      <th>LOT</th>\n",
              "      <th>EASE-MENT</th>\n",
              "      <th>BUILDING CLASS AT PRESENT</th>\n",
              "      <th>ADDRESS</th>\n",
              "      <th>APARTMENT NUMBER</th>\n",
              "      <th>ZIP CODE</th>\n",
              "      <th>RESIDENTIAL UNITS</th>\n",
              "      <th>COMMERCIAL UNITS</th>\n",
              "      <th>TOTAL UNITS</th>\n",
              "      <th>LAND SQUARE FEET</th>\n",
              "      <th>GROSS SQUARE FEET</th>\n",
              "      <th>YEAR BUILT</th>\n",
              "      <th>TAX CLASS AT TIME OF SALE</th>\n",
              "      <th>BUILDING CLASS AT TIME OF SALE</th>\n",
              "      <th>SALE PRICE</th>\n",
              "      <th>SALE DATE</th>\n",
              "    </tr>\n",
              "  </thead>\n",
              "  <tbody>\n",
              "    <tr>\n",
              "      <th>0</th>\n",
              "      <td>1</td>\n",
              "      <td>1</td>\n",
              "      <td>377</td>\n",
              "      <td>70</td>\n",
              "      <td>NaN</td>\n",
              "      <td>B1</td>\n",
              "      <td>235 EAST 7TH STREET</td>\n",
              "      <td>NaN</td>\n",
              "      <td>10009.0</td>\n",
              "      <td>2.0</td>\n",
              "      <td>0.0</td>\n",
              "      <td>2.0</td>\n",
              "      <td>882</td>\n",
              "      <td>2160.0</td>\n",
              "      <td>2003.0</td>\n",
              "      <td>1</td>\n",
              "      <td>B1</td>\n",
              "      <td>3,025,000</td>\n",
              "      <td>12/16/2021</td>\n",
              "    </tr>\n",
              "    <tr>\n",
              "      <th>1</th>\n",
              "      <td>1</td>\n",
              "      <td>2</td>\n",
              "      <td>376</td>\n",
              "      <td>54</td>\n",
              "      <td>NaN</td>\n",
              "      <td>C4</td>\n",
              "      <td>719 EAST SIXTH STREET, 5C</td>\n",
              "      <td>NaN</td>\n",
              "      <td>10009.0</td>\n",
              "      <td>20.0</td>\n",
              "      <td>0.0</td>\n",
              "      <td>20.0</td>\n",
              "      <td>2,302</td>\n",
              "      <td>9750.0</td>\n",
              "      <td>1900.0</td>\n",
              "      <td>2</td>\n",
              "      <td>C4</td>\n",
              "      <td>154,196</td>\n",
              "      <td>06/11/2021</td>\n",
              "    </tr>\n",
              "    <tr>\n",
              "      <th>2</th>\n",
              "      <td>1</td>\n",
              "      <td>2</td>\n",
              "      <td>385</td>\n",
              "      <td>46</td>\n",
              "      <td>NaN</td>\n",
              "      <td>C4</td>\n",
              "      <td>248 EAST 2 STREET</td>\n",
              "      <td>NaN</td>\n",
              "      <td>10009.0</td>\n",
              "      <td>20.0</td>\n",
              "      <td>0.0</td>\n",
              "      <td>20.0</td>\n",
              "      <td>2,623</td>\n",
              "      <td>11017.0</td>\n",
              "      <td>1900.0</td>\n",
              "      <td>2</td>\n",
              "      <td>C4</td>\n",
              "      <td>0</td>\n",
              "      <td>11/15/2021</td>\n",
              "    </tr>\n",
              "    <tr>\n",
              "      <th>3</th>\n",
              "      <td>1</td>\n",
              "      <td>2</td>\n",
              "      <td>386</td>\n",
              "      <td>53</td>\n",
              "      <td>NaN</td>\n",
              "      <td>C1</td>\n",
              "      <td>233 EAST 3 STREET</td>\n",
              "      <td>NaN</td>\n",
              "      <td>10009.0</td>\n",
              "      <td>29.0</td>\n",
              "      <td>0.0</td>\n",
              "      <td>29.0</td>\n",
              "      <td>3,927</td>\n",
              "      <td>17754.0</td>\n",
              "      <td>1910.0</td>\n",
              "      <td>2</td>\n",
              "      <td>C1</td>\n",
              "      <td>7,500,000</td>\n",
              "      <td>06/14/2021</td>\n",
              "    </tr>\n",
              "    <tr>\n",
              "      <th>4</th>\n",
              "      <td>1</td>\n",
              "      <td>2</td>\n",
              "      <td>390</td>\n",
              "      <td>57</td>\n",
              "      <td>NaN</td>\n",
              "      <td>C7</td>\n",
              "      <td>197 EAST 7TH STREET</td>\n",
              "      <td>NaN</td>\n",
              "      <td>10009.0</td>\n",
              "      <td>10.0</td>\n",
              "      <td>1.0</td>\n",
              "      <td>11.0</td>\n",
              "      <td>1,600</td>\n",
              "      <td>5320.0</td>\n",
              "      <td>1910.0</td>\n",
              "      <td>2</td>\n",
              "      <td>C7</td>\n",
              "      <td>10</td>\n",
              "      <td>01/13/2022</td>\n",
              "    </tr>\n",
              "  </tbody>\n",
              "</table>\n",
              "</div>"
            ],
            "text/plain": [
              "   BOROUGH TAX CLASS AT PRESENT  BLOCK  LOT  EASE-MENT  \\\n",
              "0        1                    1    377   70        NaN   \n",
              "1        1                    2    376   54        NaN   \n",
              "2        1                    2    385   46        NaN   \n",
              "3        1                    2    386   53        NaN   \n",
              "4        1                    2    390   57        NaN   \n",
              "\n",
              "  BUILDING CLASS AT PRESENT                    ADDRESS APARTMENT NUMBER  \\\n",
              "0                        B1        235 EAST 7TH STREET              NaN   \n",
              "1                        C4  719 EAST SIXTH STREET, 5C              NaN   \n",
              "2                        C4          248 EAST 2 STREET              NaN   \n",
              "3                        C1          233 EAST 3 STREET              NaN   \n",
              "4                        C7        197 EAST 7TH STREET              NaN   \n",
              "\n",
              "   ZIP CODE  RESIDENTIAL UNITS  COMMERCIAL UNITS  TOTAL UNITS  \\\n",
              "0   10009.0                2.0               0.0          2.0   \n",
              "1   10009.0               20.0               0.0         20.0   \n",
              "2   10009.0               20.0               0.0         20.0   \n",
              "3   10009.0               29.0               0.0         29.0   \n",
              "4   10009.0               10.0               1.0         11.0   \n",
              "\n",
              "  LAND SQUARE FEET  GROSS SQUARE FEET  YEAR BUILT  TAX CLASS AT TIME OF SALE  \\\n",
              "0              882             2160.0      2003.0                          1   \n",
              "1            2,302             9750.0      1900.0                          2   \n",
              "2            2,623            11017.0      1900.0                          2   \n",
              "3            3,927            17754.0      1910.0                          2   \n",
              "4            1,600             5320.0      1910.0                          2   \n",
              "\n",
              "  BUILDING CLASS AT TIME OF SALE SALE PRICE   SALE DATE  \n",
              "0                             B1  3,025,000  12/16/2021  \n",
              "1                             C4    154,196  06/11/2021  \n",
              "2                             C4          0  11/15/2021  \n",
              "3                             C1  7,500,000  06/14/2021  \n",
              "4                             C7         10  01/13/2022  "
            ]
          },
          "execution_count": 31,
          "metadata": {},
          "output_type": "execute_result"
        }
      ],
      "source": []
    },
    {
      "cell_type": "markdown",
      "metadata": {
        "id": "GgRcyfQMXhzJ"
      },
      "source": [
        "# II. Split Data\n",
        "\n",
        "Split our dataset into a **feature matrix `X`** and a **target vector `y`**."
      ]
    },
    {
      "cell_type": "code",
      "execution_count": null,
      "metadata": {
        "id": "wTYqSJ8chRGa"
      },
      "outputs": [],
      "source": []
    },
    {
      "cell_type": "markdown",
      "metadata": {
        "id": "CuwsiXRlYsjG"
      },
      "source": [
        "# III. Establish Baseline\n",
        "\n",
        "If you had a *naïve model* that could only predict one value, how well would you model perform?"
      ]
    },
    {
      "cell_type": "code",
      "execution_count": null,
      "metadata": {
        "id": "1Ek2mN04hTmT"
      },
      "outputs": [],
      "source": []
    },
    {
      "cell_type": "code",
      "execution_count": null,
      "metadata": {
        "id": "NiWjkzmiBU3I"
      },
      "outputs": [],
      "source": []
    },
    {
      "cell_type": "markdown",
      "metadata": {
        "id": "3bFjzSkUdl21"
      },
      "source": [
        "# IV. Build Model"
      ]
    },
    {
      "cell_type": "code",
      "execution_count": null,
      "metadata": {
        "id": "teYsy_7fhWiG"
      },
      "outputs": [],
      "source": []
    },
    {
      "cell_type": "markdown",
      "metadata": {
        "id": "Lo3CypnUfIwc"
      },
      "source": [
        "# V. Check Metrics"
      ]
    },
    {
      "cell_type": "code",
      "execution_count": null,
      "metadata": {
        "id": "l1WsFoaUJ_Vx"
      },
      "outputs": [],
      "source": []
    },
    {
      "cell_type": "markdown",
      "metadata": {
        "id": "jGYUL1mufdS-"
      },
      "source": [
        "# VI. Communicate Results\n",
        "\n",
        "Plot model"
      ]
    },
    {
      "cell_type": "code",
      "execution_count": null,
      "metadata": {
        "id": "y6RUbvFdB3jl"
      },
      "outputs": [],
      "source": []
    },
    {
      "cell_type": "markdown",
      "metadata": {
        "id": "qsDBGc49K7Uh"
      },
      "source": [
        "What are our beta coefficients?"
      ]
    },
    {
      "cell_type": "code",
      "execution_count": null,
      "metadata": {
        "id": "rgoaqGY_KjnH"
      },
      "outputs": [],
      "source": []
    },
    {
      "cell_type": "code",
      "execution_count": null,
      "metadata": {
        "id": "6a-GOP4BLMOB"
      },
      "outputs": [],
      "source": []
    }
  ],
  "metadata": {
    "colab": {
      "name": "211_guided-project-notes.ipynb",
      "provenance": []
    },
    "kernelspec": {
      "display_name": "Python 3.9.12 ('base')",
      "language": "python",
      "name": "python3"
    },
    "language_info": {
      "codemirror_mode": {
        "name": "ipython",
        "version": 3
      },
      "file_extension": ".py",
      "mimetype": "text/x-python",
      "name": "python",
      "nbconvert_exporter": "python",
      "pygments_lexer": "ipython3",
      "version": "3.9.12"
    },
    "vscode": {
      "interpreter": {
        "hash": "ad2bdc8ecc057115af97d19610ffacc2b4e99fae6737bb82f5d7fb13d2f2c186"
      }
    }
  },
  "nbformat": 4,
  "nbformat_minor": 0
}
