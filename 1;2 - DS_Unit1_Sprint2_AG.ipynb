{
  "cells": [
    {
      "cell_type": "markdown",
      "metadata": {
        "id": "0VbDILg_zKxT"
      },
      "source": [
        "# Data Science - Unit 1 Sprint 2\n",
        "\n",
        "---\n",
        "\n",
        "## Sprint Challenge: Statistical Tests and Experiments\n",
        "\n",
        "#### Notebook points: 17"
      ]
    },
    {
      "cell_type": "markdown",
      "metadata": {
        "id": "kE-pv0GhzKxZ"
      },
      "source": [
        "## Part A: Statistical Analysis\n",
        "\n",
        "### Use the following information to complete tasks 1 - 8\n",
        "\n",
        "### Dataset description: \n",
        "\n",
        "Anyone who is a fan of detective TV shows has watched a scene where human remains are discovered and some sort of expert is called in to determine when the person died. But is this science fiction or science fact? Is it possible to use evidence from skeletal remains to determine how long a body has been buried (a decent approximation of how long the person has been dead)? \n",
        "\n",
        "Researchers sampled long bone material from bodies exhumed from coffin burials in two cemeteries in England. In each case, date of death and burial (and therefore interment time) was known. This data is given in the `Longbones.csv` dataset which you can find [here](https://github.com/LambdaSchool/data-science-practice-datasets/blob/main/unit_1/Longbones/Longbones.csv).\n",
        "\n",
        "**What can we learn about the bodies that were buried in the cemetery?**\n",
        "\n",
        "The variable names are:\n",
        "* Site = Site ID, either Site 1 or Site 2\n",
        "* Time = Internment time in years\n",
        "* Depth = Burial depth in ft.\n",
        "* Lime = Burial with Quiklime (0 = No, 1 = Yes)\n",
        "* Age = Age at time of death in years\n",
        "* Nitro = Nitrogen composition of the long bones in g per 100g of bone.\n",
        "* Oil = Oil contamination of the grave site (0 = No contamination, 1 = Oil contamination)\n",
        "\n",
        "*Source: D.R. Jarvis (1997). \"Nitrogen Levels in Long Bones from Coffin Burials Interred for Periods of 26-90 Years,\" Forensic Science International, Vol85, pp199-208*"
      ]
    },
    {
      "cell_type": "markdown",
      "metadata": {
        "id": "cPZ16wb4zKxa"
      },
      "source": [
        "**Task 1** - Load the data\n",
        "\n",
        "As we usually begin, let's load the data! The URL has been provided.\n",
        "\n",
        "* load your CSV file into a DataFrame named `df`"
      ]
    },
    {
      "cell_type": "code",
      "execution_count": 137,
      "metadata": {
        "colab": {
          "base_uri": "https://localhost:8080/",
          "height": 206
        },
        "deletable": false,
        "id": "iskBfT70zKxb",
        "nbgrader": {
          "cell_type": "code",
          "checksum": "56d17864338662696c84024fbc0b171e",
          "grade": false,
          "grade_id": "cell-e9c30184968fda1b",
          "locked": false,
          "schema_version": 3,
          "solution": true,
          "task": false
        },
        "outputId": "119e7ef5-4871-4954-80b2-55b64dcef6d5"
      },
      "outputs": [
        {
          "data": {
            "text/html": [
              "<div>\n",
              "<style scoped>\n",
              "    .dataframe tbody tr th:only-of-type {\n",
              "        vertical-align: middle;\n",
              "    }\n",
              "\n",
              "    .dataframe tbody tr th {\n",
              "        vertical-align: top;\n",
              "    }\n",
              "\n",
              "    .dataframe thead th {\n",
              "        text-align: right;\n",
              "    }\n",
              "</style>\n",
              "<table border=\"1\" class=\"dataframe\">\n",
              "  <thead>\n",
              "    <tr style=\"text-align: right;\">\n",
              "      <th></th>\n",
              "      <th>Site</th>\n",
              "      <th>Time</th>\n",
              "      <th>Depth</th>\n",
              "      <th>Lime</th>\n",
              "      <th>Age</th>\n",
              "      <th>Nitro</th>\n",
              "      <th>Oil</th>\n",
              "    </tr>\n",
              "  </thead>\n",
              "  <tbody>\n",
              "    <tr>\n",
              "      <th>0</th>\n",
              "      <td>1</td>\n",
              "      <td>88.5</td>\n",
              "      <td>7.0</td>\n",
              "      <td>1</td>\n",
              "      <td>NaN</td>\n",
              "      <td>3.88</td>\n",
              "      <td>1</td>\n",
              "    </tr>\n",
              "    <tr>\n",
              "      <th>1</th>\n",
              "      <td>1</td>\n",
              "      <td>88.5</td>\n",
              "      <td>NaN</td>\n",
              "      <td>1</td>\n",
              "      <td>NaN</td>\n",
              "      <td>4.00</td>\n",
              "      <td>1</td>\n",
              "    </tr>\n",
              "    <tr>\n",
              "      <th>2</th>\n",
              "      <td>1</td>\n",
              "      <td>85.2</td>\n",
              "      <td>7.0</td>\n",
              "      <td>1</td>\n",
              "      <td>NaN</td>\n",
              "      <td>3.69</td>\n",
              "      <td>1</td>\n",
              "    </tr>\n",
              "    <tr>\n",
              "      <th>3</th>\n",
              "      <td>1</td>\n",
              "      <td>71.8</td>\n",
              "      <td>7.6</td>\n",
              "      <td>1</td>\n",
              "      <td>65.0</td>\n",
              "      <td>3.88</td>\n",
              "      <td>0</td>\n",
              "    </tr>\n",
              "    <tr>\n",
              "      <th>4</th>\n",
              "      <td>1</td>\n",
              "      <td>70.6</td>\n",
              "      <td>7.5</td>\n",
              "      <td>1</td>\n",
              "      <td>42.0</td>\n",
              "      <td>3.53</td>\n",
              "      <td>0</td>\n",
              "    </tr>\n",
              "  </tbody>\n",
              "</table>\n",
              "</div>"
            ],
            "text/plain": [
              "   Site  Time  Depth  Lime   Age  Nitro  Oil\n",
              "0     1  88.5    7.0     1   NaN   3.88    1\n",
              "1     1  88.5    NaN     1   NaN   4.00    1\n",
              "2     1  85.2    7.0     1   NaN   3.69    1\n",
              "3     1  71.8    7.6     1  65.0   3.88    0\n",
              "4     1  70.6    7.5     1  42.0   3.53    0"
            ]
          },
          "execution_count": 137,
          "metadata": {},
          "output_type": "execute_result"
        }
      ],
      "source": [
        "# Task 1\n",
        "\n",
        "import pandas as pd\n",
        "import numpy as np\n",
        "\n",
        "data_url = 'https://raw.githubusercontent.com/LambdaSchool/data-science-practice-datasets/main/unit_1/Longbones/Longbones.csv'\n",
        "\n",
        "# YOUR CODE HERE\n",
        "df = pd.read_csv(data_url)\n",
        "\n",
        "# Print out your DataFrame\n",
        "df.head()"
      ]
    },
    {
      "cell_type": "markdown",
      "metadata": {
        "id": "xxCSroiTzKxc"
      },
      "source": [
        "**Task 1 - Test**"
      ]
    },
    {
      "cell_type": "code",
      "execution_count": 67,
      "metadata": {
        "deletable": false,
        "editable": false,
        "id": "k-4KobyjzKxc",
        "nbgrader": {
          "cell_type": "code",
          "checksum": "0e21d221d1a820beadfde70e8c6b96b7",
          "grade": true,
          "grade_id": "cell-3df56ecd73baa722",
          "locked": true,
          "points": 1,
          "schema_version": 3,
          "solution": false,
          "task": false
        }
      },
      "outputs": [],
      "source": [
        "# Task 1 - Test\n",
        "\n",
        "assert isinstance(df, pd.DataFrame), 'Have you created a DataFrame named `df`?'\n",
        "assert len(df) == 42\n"
      ]
    },
    {
      "cell_type": "markdown",
      "metadata": {
        "id": "Vv_pS58gzKxd"
      },
      "source": [
        "**Task 2** - Missing data\n",
        "\n",
        "Now, let's determine if there is any missing data in the dataset. If there is, drop the row that contains a missing value.\n",
        "\n",
        "* Check for missing/null values and assign the sum to `num_null` - the result should be the sum of all the null values and a single integer.\n",
        "* If there are null values, drop them from your dataframe. Your DataFrame should still be `df`. Note that dropping your null values may change your answer for `num_null`. Restart your Runtime/Kernel if your solution looks different from the CodeGrade answer.\n"
      ]
    },
    {
      "cell_type": "code",
      "execution_count": 139,
      "metadata": {
        "colab": {
          "base_uri": "https://localhost:8080/"
        },
        "deletable": false,
        "id": "xM5EAEklzKxd",
        "nbgrader": {
          "cell_type": "code",
          "checksum": "9ae8fd949abd40f0dc99438fadf879b0",
          "grade": false,
          "grade_id": "cell-7df51cb914c3289e",
          "locked": false,
          "schema_version": 3,
          "solution": true,
          "task": false
        },
        "outputId": "efef1259-334e-4ca8-c2e2-199e73746d86"
      },
      "outputs": [],
      "source": [
        "# Task 2\n",
        "\n",
        "num_null = df.isnull().sum().sum()\n",
        "num_null\n",
        "df = df.dropna()\n"
      ]
    },
    {
      "cell_type": "markdown",
      "metadata": {
        "id": "6kwJb2bazKxd"
      },
      "source": [
        "**Task 2 - Test**"
      ]
    },
    {
      "cell_type": "code",
      "execution_count": 69,
      "metadata": {
        "deletable": false,
        "editable": false,
        "id": "xMFOvbQJzKxe",
        "nbgrader": {
          "cell_type": "code",
          "checksum": "640e4d1783c4ed02241ee60c69ceddf2",
          "grade": true,
          "grade_id": "cell-51afbbe013444cd4",
          "locked": true,
          "points": 1,
          "schema_version": 3,
          "solution": false,
          "task": false
        }
      },
      "outputs": [],
      "source": [
        "# Task 2 - Test\n",
        "# Hidden tests - you will see the results when you submit to Canvas\n",
        "\n",
        "assert num_null == 8, \"Double-check that you correctly summed the null values.\"\n"
      ]
    },
    {
      "cell_type": "markdown",
      "metadata": {
        "id": "8NYrcBGDzKxe"
      },
      "source": [
        "### Use the following information to complete tasks 3 - 8\n",
        "\n",
        "The mean nitrogen composition in living individuals is **4.3g per 100g of bone**.  \n",
        "\n",
        "We wish to use the Longbones sample to test the null hypothesis that the mean nitrogen composition per 100g of bone in the deceased is 4.3g (equal to that of living humans) vs the alternative hypothesis that the mean nitrogen composition per 100g of bone in the deceased is not 4.3g (not equal to that of living humans)."
      ]
    },
    {
      "cell_type": "markdown",
      "metadata": {
        "id": "jPmpfULFFQmz"
      },
      "source": [
        "**Task 3 -** Statistical hypotheses\n",
        "\n",
        "From the list of choices below, select the null and alternative hypotheses using the information described above.  Specify your answer in the next code block using `Answer = `.  For example, if the correct answer is choice B, you'll type `Answer = 'B'`.\n",
        "\n",
        "A: Ho: There is no association between the nitrogen composition of living and non-living bones vs. Ha: There is an association between the nitrogen composition of living and non-living bones.\n",
        "\n",
        "B: $H_0: \\mu = 4.3$ vs. $H_a: \\mu \\neq 4.3$\n",
        "\n",
        "C: $H_0: \\mu_{living} \\neq \\mu_{dead}$ vs. $H_a: \\mu_{living} = \\mu_{dead}$ \n",
        "\n",
        "D: $H_0: \\mu_{living} = \\mu_{dead}$ vs. $H_a: \\mu_{living} \\neq \\mu_{dead}$ "
      ]
    },
    {
      "cell_type": "code",
      "execution_count": 70,
      "metadata": {
        "deletable": false,
        "id": "AhGVMf2tK2LF",
        "nbgrader": {
          "cell_type": "code",
          "checksum": "ba55421f0df13937976346b7695d6e4e",
          "grade": false,
          "grade_id": "cell-b350b3a9a87bfe25",
          "locked": false,
          "schema_version": 3,
          "solution": true,
          "task": false
        }
      },
      "outputs": [],
      "source": [
        "# Task 3\n",
        "\n",
        "# YOUR CODE HERE\n",
        "Answer = 'B'\n"
      ]
    },
    {
      "cell_type": "markdown",
      "metadata": {
        "id": "kbd9KuumLBxO"
      },
      "source": [
        "**Task 3 Test**"
      ]
    },
    {
      "cell_type": "code",
      "execution_count": 71,
      "metadata": {
        "deletable": false,
        "editable": false,
        "id": "1DX4-ekiLBxX",
        "nbgrader": {
          "cell_type": "code",
          "checksum": "1342cd49e01455195373972dd04e3d42",
          "grade": true,
          "grade_id": "cell-3970fbb1a3eaefb5",
          "locked": true,
          "points": 1,
          "schema_version": 3,
          "solution": false,
          "task": false
        }
      },
      "outputs": [],
      "source": [
        "# Task 3 - Test\n",
        "# Hidden tests - you will see the results when you submit to Canvas"
      ]
    },
    {
      "cell_type": "markdown",
      "metadata": {
        "id": "s3Hqd6jv0Xic"
      },
      "source": [
        "**Task 4 -** Statistical distributions\n",
        "\n",
        "From the list of choices below, select the appropriate statistical test for the study described above.  Specify your answer in the next code block using `Answer = `.  For example, if the correct answer is choice B, you'll type `Answer = 'B'`.\n",
        "\n",
        "A: A two-sample t-test\n",
        "\n",
        "B: A chi-square test\n",
        "\n",
        "C: A one-sample t-test\n",
        "\n",
        "D: A Bayesian test"
      ]
    },
    {
      "cell_type": "code",
      "execution_count": 72,
      "metadata": {
        "deletable": false,
        "id": "bkPiaI1k03Pl",
        "nbgrader": {
          "cell_type": "code",
          "checksum": "c5ab6c455e902f26b16ba9b11ac663c5",
          "grade": false,
          "grade_id": "cell-d38bb9102392bc39",
          "locked": false,
          "schema_version": 3,
          "solution": true,
          "task": false
        }
      },
      "outputs": [],
      "source": [
        "# Task 4\n",
        "\n",
        "# YOUR CODE HERE\n",
        "Answer = 'C'\n"
      ]
    },
    {
      "cell_type": "markdown",
      "metadata": {
        "id": "dqB0y0Oj03Pl"
      },
      "source": [
        "**Task 4 Test**"
      ]
    },
    {
      "cell_type": "code",
      "execution_count": 73,
      "metadata": {
        "deletable": false,
        "editable": false,
        "id": "ggzeq7irn3gX",
        "nbgrader": {
          "cell_type": "code",
          "checksum": "68058336faa3acf75a4996c0904a7482",
          "grade": true,
          "grade_id": "cell-350d6790ef614096",
          "locked": true,
          "points": 1,
          "schema_version": 3,
          "solution": false,
          "task": false
        }
      },
      "outputs": [],
      "source": [
        "# Task 4 - Test\n",
        "# Hidden tests - you will see the results when you submit to Canvas"
      ]
    },
    {
      "cell_type": "markdown",
      "metadata": {
        "id": "G-Ll8HqwzKxf"
      },
      "source": [
        "**Task 5** - Hypothesis testing\n",
        "\n",
        "Use a built-in Python function to conduct the statistical test you identified earlier. The scipy stats module has been imported.\n",
        "\n",
        "* Assign the t statistic to the variable `t` \n",
        "* Assign the p-value to the variable `p`\n",
        "\n",
        "*Hint: Review the documentation to verify what it returns. You can assign the two variables in one step or two steps.*"
      ]
    },
    {
      "cell_type": "code",
      "execution_count": 140,
      "metadata": {
        "colab": {
          "base_uri": "https://localhost:8080/"
        },
        "deletable": false,
        "id": "hn3Yj4oxzKxg",
        "nbgrader": {
          "cell_type": "code",
          "checksum": "7ad7e85e64df4cb3c153de0fde62239f",
          "grade": false,
          "grade_id": "cell-a101f7ec939edde9",
          "locked": false,
          "schema_version": 3,
          "solution": true,
          "task": false
        },
        "outputId": "83687e5e-fc76-4faf-976c-3f410a335a90"
      },
      "outputs": [
        {
          "data": {
            "text/plain": [
              "(-16.525765821830365, 8.097649978903554e-18)"
            ]
          },
          "execution_count": 140,
          "metadata": {},
          "output_type": "execute_result"
        }
      ],
      "source": [
        "# Task 5\n",
        "\n",
        "# Use this import for your calculation\n",
        "from scipy import stats\n",
        "\n",
        "# YOUR CODE HERE\n",
        "\n",
        "t,p = stats.ttest_1samp(df['Nitro'], 4.3)\n",
        "t,p"
      ]
    },
    {
      "cell_type": "code",
      "execution_count": null,
      "metadata": {},
      "outputs": [],
      "source": []
    },
    {
      "cell_type": "markdown",
      "metadata": {
        "id": "r0AVji75zKxg"
      },
      "source": [
        "**Task 5 Test**"
      ]
    },
    {
      "cell_type": "code",
      "execution_count": 75,
      "metadata": {
        "deletable": false,
        "editable": false,
        "id": "9t1xBypjzKxg",
        "nbgrader": {
          "cell_type": "code",
          "checksum": "2b7578c1760f0edc558998dd1acc279d",
          "grade": true,
          "grade_id": "cell-58fa5caca4434998",
          "locked": true,
          "points": 1,
          "schema_version": 3,
          "solution": false,
          "task": false
        }
      },
      "outputs": [],
      "source": [
        "# Task 5 - Test\n",
        "# Hidden tests - you will see the results when you submit to Canvas"
      ]
    },
    {
      "cell_type": "markdown",
      "metadata": {
        "id": "EcHLBuBVFQm2"
      },
      "source": [
        "**Task 6**\n",
        "\n",
        "Select the correct conclusion at the 0.05 significance level from the list of choices below. Specify your answer in the next code block using `Answer = `.  For example, if the correct answer is choice B, you'll type `Answer = 'B'`.\n",
        "\n",
        "A: We reject the null hypothesis at the 0.05 significance level and conclude that the mean long bone nitrogen composition for skeletons is different than the mean long bone nitrogen composition in living individuals.\n",
        "\n",
        "B: We fail to reject the null hypothesis at the 0.05 significance level and conclude that the mean long bone nitrogen composition for skeletons is different than the mean long bone nitrogen composition in living individuals.\n",
        "\n",
        "C: We reject the null hypothesis at the 0.05 significance level and conclude that the mean long bone nitrogen composition for skeletons is the same as the mean long bone nitrogen composition in living individuals..\n",
        "\n",
        "D: We fail to reject the null hypothesis at the 0.05 significance level and conclude that the mean long bone nitrogen composition for skeletons is the same as the mean long bone nitrogen composition in living individuals.\n"
      ]
    },
    {
      "cell_type": "code",
      "execution_count": 141,
      "metadata": {
        "deletable": false,
        "id": "2VqMVLj0MjZu",
        "nbgrader": {
          "cell_type": "code",
          "checksum": "e2e315703f8f2d34b6a98c332c8f30ba",
          "grade": false,
          "grade_id": "cell-67746f46b1c02271",
          "locked": false,
          "schema_version": 3,
          "solution": true,
          "task": false
        }
      },
      "outputs": [],
      "source": [
        "# Task 6\n",
        "\n",
        "# YOUR CODE HERE\n",
        "Answer = 'A'\n"
      ]
    },
    {
      "cell_type": "markdown",
      "metadata": {
        "id": "kn461ny8MjZ7"
      },
      "source": [
        "**Task 6 Test**"
      ]
    },
    {
      "cell_type": "code",
      "execution_count": 77,
      "metadata": {
        "deletable": false,
        "editable": false,
        "id": "_jnZgQ2vn3ga",
        "nbgrader": {
          "cell_type": "code",
          "checksum": "8d2c5ca2246be720fcd581e5a88c7c2a",
          "grade": true,
          "grade_id": "cell-8bc8b98224f102f2",
          "locked": true,
          "points": 1,
          "schema_version": 3,
          "solution": false,
          "task": false
        }
      },
      "outputs": [],
      "source": [
        "# Task 6 - Test\n",
        "# Hidden tests - you will see the results when you submit to Canvas"
      ]
    },
    {
      "cell_type": "markdown",
      "metadata": {
        "id": "Fcphl35YzKxi"
      },
      "source": [
        "**Task 7** - Confidence Interval\n",
        "\n",
        "Calculate a 95% confidence interval for the mean nitrogen composition in the longbones of a deceased individual using the t.interval function.\n",
        "\n",
        "* Assign the lower end of the confidence interval to the variable `l` \n",
        "* Assign the upper end of the confidence interval to the variable `u`\n",
        "\n",
        "*Hint: You will need to calculate other statistics to complete the confidence interval calculation. These variables can be named whatever you like - just make sure to name your confidence interval variables as specified above.*"
      ]
    },
    {
      "cell_type": "code",
      "execution_count": 142,
      "metadata": {
        "colab": {
          "base_uri": "https://localhost:8080/"
        },
        "deletable": false,
        "id": "tm-kiwc8zKxi",
        "nbgrader": {
          "cell_type": "code",
          "checksum": "8681eef5da94e7f0260b1e4b72ec0615",
          "grade": false,
          "grade_id": "cell-ae97c1f4b685b001",
          "locked": false,
          "schema_version": 3,
          "solution": true,
          "task": false
        },
        "outputId": "90f2c147-0e7e-4fac-83bd-0d53eee01aa0"
      },
      "outputs": [
        {
          "name": "stdout",
          "output_type": "stream",
          "text": [
            "3.734020952024922 3.8579790479750784\n"
          ]
        }
      ],
      "source": [
        "# Task 7\n",
        "\n",
        "# Use this import for your calculation\n",
        "from scipy.stats import t\n",
        "\n",
        "# YOUR CODE HERE\n",
        "defr = (df.shape[0] - 1)\n",
        "t_star = t.ppf(.975, df = defr)\n",
        "marge = t_star * df['Nitro'].sem()\n",
        "\n",
        "l = df['Nitro'].mean() - marge\n",
        "u = df['Nitro'].mean() + marge\n",
        "\n",
        "print(l, u)\n"
      ]
    },
    {
      "cell_type": "markdown",
      "metadata": {
        "id": "jTmUkcMGzKxj"
      },
      "source": [
        "**Task 7 Test**"
      ]
    },
    {
      "cell_type": "code",
      "execution_count": 79,
      "metadata": {
        "deletable": false,
        "editable": false,
        "id": "cNdlHeYyzKxj",
        "nbgrader": {
          "cell_type": "code",
          "checksum": "cf060f5c9709272b8db9eebe4ab73cc0",
          "grade": true,
          "grade_id": "cell-e8308067b6a19b50",
          "locked": true,
          "points": 1,
          "schema_version": 3,
          "solution": false,
          "task": false
        }
      },
      "outputs": [],
      "source": [
        "# Task 7 - Test\n",
        "# Hidden tests - you will see the results when you submit to Canvas"
      ]
    },
    {
      "cell_type": "markdown",
      "metadata": {
        "id": "5OUzA3am4WBd"
      },
      "source": [
        "**Task 8**\n",
        "\n",
        "Select the correct interpretation of the 95% confidence interval from the statements below. Specify your answer in the next code block using `Answer = `.  For example, if the correct answer is choice B, you'll type `Answer = 'B'`.\n",
        "\n",
        "A: In 95% of samples, the mean longbone nitrogen composition in skeletons is between 3.73 and 3.86 grams per 100g of bone.\n",
        "\n",
        "B: We are 95% confident that the population mean longbone nitrogen composition in skeletons is between 3.73 and 3.86 grams per 100g of bone.\n",
        "\n",
        "C: We are 95% confident that the sample mean longbone nitrogen composition in skeletons is between 3.73 and 3.86 grams per 100g of bone.\n",
        "\n",
        "D: We are 95% confident that the mean longbone nitrogen composition in skeletons is between 34.3 grams per 100g of bone.\n"
      ]
    },
    {
      "cell_type": "code",
      "execution_count": 143,
      "metadata": {
        "deletable": false,
        "id": "RojigD0k4WBd",
        "nbgrader": {
          "cell_type": "code",
          "checksum": "d728c72f3430a6a392a9e4478c8dc20e",
          "grade": false,
          "grade_id": "cell-182c48a2569e0913",
          "locked": false,
          "schema_version": 3,
          "solution": true,
          "task": false
        }
      },
      "outputs": [],
      "source": [
        "# Task 8\n",
        "\n",
        "# YOUR CODE HERE\n",
        "Answer = 'B'\n"
      ]
    },
    {
      "cell_type": "markdown",
      "metadata": {
        "id": "hctY8Si14WBe"
      },
      "source": [
        "**Task 8 Test**"
      ]
    },
    {
      "cell_type": "code",
      "execution_count": 81,
      "metadata": {
        "deletable": false,
        "editable": false,
        "id": "A4EIGsTyn3gb",
        "nbgrader": {
          "cell_type": "code",
          "checksum": "f488da8445107e53c5ec735bd4e2f021",
          "grade": true,
          "grade_id": "cell-3b888197ac3bb65f",
          "locked": true,
          "points": 1,
          "schema_version": 3,
          "solution": false,
          "task": false
        }
      },
      "outputs": [],
      "source": [
        "# Task 8 - Test\n",
        "# Hidden tests - you will see the results when you submit to Canvas"
      ]
    },
    {
      "cell_type": "markdown",
      "metadata": {
        "id": "8ONDwhhrzKxk"
      },
      "source": [
        "## Part B: A/B Testing\n",
        "\n",
        "### Use the following information to complete tasks 9 - 18"
      ]
    },
    {
      "cell_type": "markdown",
      "metadata": {
        "id": "DdBb5rYCzKxk"
      },
      "source": [
        "### A/B Testing and Udacity\n",
        "\n",
        "Udacity is an online learning platform geared toward tech professionals who want to develop skills in programming, data science, etc.  These classes are intensive - both for the students and instructors - and the learning experience is best when students are able to dedicate enough time to the classes and there is not a lot of student churn.\n",
        "\n",
        "Udacity wished to determine if presenting potential students with a screen that would remind them of the time commitment involved in taking a class would decrease the enrollment of students who were unlikely to succeed in the class.\n",
        "\n",
        "At the time of the experiment, when a student selected a course,  they were taken to the course overview page and presented with two options: \"start free trial\", and \"access course materials\".\n",
        "\n",
        "If the student clicked \"start free trial\", they were asked to enter their credit card information and were enrolled in a free trial for the paid version of the course (which would covert to a paid membership after 14 days).\n",
        "\n",
        "If the student clicked \"access course materials\", they could view the videos and take the quizzes for free but could not access all the features of the course such as coaching.\n",
        "\n",
        "*Credit*: [Udacity A/B testing final project example](https://https://www.udacity.com/course/ab-testing--ud257?irclickid=W0WQs22htxyLTIxwUx0Mo3YgUkEzM2Rn81NW2g0&irgwc=1&utm_source=affiliate&utm_medium=&aff=27795&utm_campaign=_khm68yp1xv02l1pj0mzy8__)"
      ]
    },
    {
      "cell_type": "markdown",
      "metadata": {
        "id": "rnZbuO-8zKxk"
      },
      "source": [
        "**Here's the experiment:** Udacity tested a change where if the student clicked \"start free trial\", they were asked how much time they had available to devote to the course. \n",
        "\n",
        "If the student indicated 5 or more hours per week, they would be taken through the checkout process as usual. If they indicated fewer than 5 hours per week, a message would appear indicating that Udacity courses usually require a greater time commitment for successful completion and suggesting that the student might like to access the course materials for free. \n",
        "\n",
        "At this point, the student would have the option to continue enrolling in the free trial, or access the course materials for free instead. \n",
        "\n",
        "**Now we wish to see if there was an association between the screen the potential student viewed and whether or not the student enrolled in the paid version of the course.**\n",
        "\n",
        "The Udacity data is linked below and is in a non-tidy format.  We'll be focusing on the number of enrolling customers who convert to paying customers. \n",
        "\n",
        "You don't need to do anything with the **non-tidy** data in this Challenge; we're sharing it here so you can get an idea of what data looks like *before* we clean it."
      ]
    },
    {
      "cell_type": "code",
      "execution_count": 144,
      "metadata": {
        "colab": {
          "base_uri": "https://localhost:8080/",
          "height": 223
        },
        "id": "soqkTKOdzKxl",
        "outputId": "f9920e8c-ccb6-4e9f-e690-22b8d4262eb6"
      },
      "outputs": [
        {
          "name": "stdout",
          "output_type": "stream",
          "text": [
            "(999, 10)\n"
          ]
        },
        {
          "data": {
            "text/html": [
              "<div>\n",
              "<style scoped>\n",
              "    .dataframe tbody tr th:only-of-type {\n",
              "        vertical-align: middle;\n",
              "    }\n",
              "\n",
              "    .dataframe tbody tr th {\n",
              "        vertical-align: top;\n",
              "    }\n",
              "\n",
              "    .dataframe thead th {\n",
              "        text-align: right;\n",
              "    }\n",
              "</style>\n",
              "<table border=\"1\" class=\"dataframe\">\n",
              "  <thead>\n",
              "    <tr style=\"text-align: right;\">\n",
              "      <th></th>\n",
              "      <th>Date</th>\n",
              "      <th>C-Pageviews</th>\n",
              "      <th>C-Clicks</th>\n",
              "      <th>C-Enrollments</th>\n",
              "      <th>C-Payments</th>\n",
              "      <th>E-Pageviews</th>\n",
              "      <th>E-Clicks</th>\n",
              "      <th>E-Enrollments</th>\n",
              "      <th>E-Payments</th>\n",
              "      <th>Unnamed: 9</th>\n",
              "    </tr>\n",
              "  </thead>\n",
              "  <tbody>\n",
              "    <tr>\n",
              "      <th>0</th>\n",
              "      <td>Sat, Oct 11</td>\n",
              "      <td>7723.0</td>\n",
              "      <td>687.0</td>\n",
              "      <td>134.0</td>\n",
              "      <td>70.0</td>\n",
              "      <td>7716.0</td>\n",
              "      <td>686.0</td>\n",
              "      <td>105.0</td>\n",
              "      <td>34.0</td>\n",
              "      <td>NaN</td>\n",
              "    </tr>\n",
              "    <tr>\n",
              "      <th>1</th>\n",
              "      <td>Sun, Oct 12</td>\n",
              "      <td>9102.0</td>\n",
              "      <td>779.0</td>\n",
              "      <td>147.0</td>\n",
              "      <td>70.0</td>\n",
              "      <td>9288.0</td>\n",
              "      <td>785.0</td>\n",
              "      <td>116.0</td>\n",
              "      <td>91.0</td>\n",
              "      <td>NaN</td>\n",
              "    </tr>\n",
              "    <tr>\n",
              "      <th>2</th>\n",
              "      <td>Mon, Oct 13</td>\n",
              "      <td>10511.0</td>\n",
              "      <td>909.0</td>\n",
              "      <td>167.0</td>\n",
              "      <td>95.0</td>\n",
              "      <td>10480.0</td>\n",
              "      <td>884.0</td>\n",
              "      <td>145.0</td>\n",
              "      <td>79.0</td>\n",
              "      <td>NaN</td>\n",
              "    </tr>\n",
              "    <tr>\n",
              "      <th>3</th>\n",
              "      <td>Tue, Oct 14</td>\n",
              "      <td>9871.0</td>\n",
              "      <td>836.0</td>\n",
              "      <td>156.0</td>\n",
              "      <td>105.0</td>\n",
              "      <td>9867.0</td>\n",
              "      <td>827.0</td>\n",
              "      <td>138.0</td>\n",
              "      <td>92.0</td>\n",
              "      <td>NaN</td>\n",
              "    </tr>\n",
              "    <tr>\n",
              "      <th>4</th>\n",
              "      <td>Wed, Oct 15</td>\n",
              "      <td>10014.0</td>\n",
              "      <td>837.0</td>\n",
              "      <td>163.0</td>\n",
              "      <td>64.0</td>\n",
              "      <td>9793.0</td>\n",
              "      <td>832.0</td>\n",
              "      <td>140.0</td>\n",
              "      <td>94.0</td>\n",
              "      <td>NaN</td>\n",
              "    </tr>\n",
              "  </tbody>\n",
              "</table>\n",
              "</div>"
            ],
            "text/plain": [
              "          Date  C-Pageviews  C-Clicks  C-Enrollments  C-Payments  E-Pageviews  \\\n",
              "0  Sat, Oct 11       7723.0     687.0          134.0        70.0       7716.0   \n",
              "1  Sun, Oct 12       9102.0     779.0          147.0        70.0       9288.0   \n",
              "2  Mon, Oct 13      10511.0     909.0          167.0        95.0      10480.0   \n",
              "3  Tue, Oct 14       9871.0     836.0          156.0       105.0       9867.0   \n",
              "4  Wed, Oct 15      10014.0     837.0          163.0        64.0       9793.0   \n",
              "\n",
              "   E-Clicks  E-Enrollments  E-Payments  Unnamed: 9  \n",
              "0     686.0          105.0        34.0         NaN  \n",
              "1     785.0          116.0        91.0         NaN  \n",
              "2     884.0          145.0        79.0         NaN  \n",
              "3     827.0          138.0        92.0         NaN  \n",
              "4     832.0          140.0        94.0         NaN  "
            ]
          },
          "execution_count": 144,
          "metadata": {},
          "output_type": "execute_result"
        }
      ],
      "source": [
        "# Run this cell to load the \"non-tidy\" data\n",
        "import pandas as pd\n",
        "import numpy as np\n",
        "\n",
        "# Load data\n",
        "data_url = 'https://raw.githubusercontent.com/LambdaSchool/data-science-practice-datasets/main/unit_1/Udacity%20AB%20testing%20data/AB%20testing%20data.csv'\n",
        "ABtest_ = pd.read_csv(data_url)\n",
        "\n",
        "print(ABtest_.shape)\n",
        "ABtest_.head()"
      ]
    },
    {
      "cell_type": "markdown",
      "metadata": {
        "id": "ysGGWL5IzKxl"
      },
      "source": [
        "Now, here is the enrollment and payment data in tidy format.  You can see how I set it up [here](https://colab.research.google.com/drive/1eSOjXoj9MpO04h24wnHXRWGE2jhuhw65?usp=sharing)."
      ]
    },
    {
      "cell_type": "code",
      "execution_count": 83,
      "metadata": {
        "colab": {
          "base_uri": "https://localhost:8080/",
          "height": 223
        },
        "id": "Xp2EC7lZzKxm",
        "outputId": "ce267b8e-501f-4e46-baa5-c74061f6ca2d"
      },
      "outputs": [
        {
          "name": "stdout",
          "output_type": "stream",
          "text": [
            "(7208, 3)\n"
          ]
        },
        {
          "data": {
            "text/html": [
              "<div>\n",
              "<style scoped>\n",
              "    .dataframe tbody tr th:only-of-type {\n",
              "        vertical-align: middle;\n",
              "    }\n",
              "\n",
              "    .dataframe tbody tr th {\n",
              "        vertical-align: top;\n",
              "    }\n",
              "\n",
              "    .dataframe thead th {\n",
              "        text-align: right;\n",
              "    }\n",
              "</style>\n",
              "<table border=\"1\" class=\"dataframe\">\n",
              "  <thead>\n",
              "    <tr style=\"text-align: right;\">\n",
              "      <th></th>\n",
              "      <th>UserID</th>\n",
              "      <th>Group</th>\n",
              "      <th>Payment</th>\n",
              "    </tr>\n",
              "  </thead>\n",
              "  <tbody>\n",
              "    <tr>\n",
              "      <th>0</th>\n",
              "      <td>0</td>\n",
              "      <td>Control</td>\n",
              "      <td>1</td>\n",
              "    </tr>\n",
              "    <tr>\n",
              "      <th>1</th>\n",
              "      <td>1</td>\n",
              "      <td>Control</td>\n",
              "      <td>1</td>\n",
              "    </tr>\n",
              "    <tr>\n",
              "      <th>2</th>\n",
              "      <td>2</td>\n",
              "      <td>Control</td>\n",
              "      <td>1</td>\n",
              "    </tr>\n",
              "    <tr>\n",
              "      <th>3</th>\n",
              "      <td>3</td>\n",
              "      <td>Control</td>\n",
              "      <td>1</td>\n",
              "    </tr>\n",
              "    <tr>\n",
              "      <th>4</th>\n",
              "      <td>4</td>\n",
              "      <td>Control</td>\n",
              "      <td>1</td>\n",
              "    </tr>\n",
              "  </tbody>\n",
              "</table>\n",
              "</div>"
            ],
            "text/plain": [
              "   UserID    Group  Payment\n",
              "0       0  Control        1\n",
              "1       1  Control        1\n",
              "2       2  Control        1\n",
              "3       3  Control        1\n",
              "4       4  Control        1"
            ]
          },
          "execution_count": 83,
          "metadata": {},
          "output_type": "execute_result"
        }
      ],
      "source": [
        "# Run this cell to load the \"tidy\" data\n",
        "data_url = 'https://raw.githubusercontent.com/LambdaSchool/data-science-practice-datasets/main/unit_1/Udacity%20AB%20testing%20data/AB_test_payments.csv'\n",
        "\n",
        "ABtest = pd.read_csv(data_url, skipinitialspace=True, header=0)\n",
        "\n",
        "print(ABtest.shape)\n",
        "ABtest.head()"
      ]
    },
    {
      "cell_type": "markdown",
      "metadata": {
        "id": "4am52HxzzKxm"
      },
      "source": [
        "### Dataset information\n",
        "\n",
        "The \"tidy\" data has the following values for the columns:\n",
        "\n",
        "* Group = Control or Experimental depending on the screen viewed\n",
        "* Payment = 0 if the individual did not not enroll as a paying customer, 1 = if the individual did enroll as a paying customer\n",
        "\n",
        "**Our goal is to determine if there is an association between the screen that a potential student viewed as she was signing up for a course and whether or not she converted to a paying customer.**"
      ]
    },
    {
      "cell_type": "markdown",
      "metadata": {
        "id": "70PFQbaF5o3f"
      },
      "source": [
        "**Task 9 -** Statistical hypotheses\n",
        "\n",
        "From the list of choices below, select the null and alternative hypotheses using the experiment information described above.  Specify your answer in the next code block using `Answer = `.  For example, if the correct answer is choice B, you'll type `Answer = 'B'`.\n",
        "\n",
        "A: Ho: There is no association between the screen a customer viewed and whether the student became a paying customer vs. Ha: There is an association between the screen a customer viewed and whether the student became a paying customer.\n",
        "\n",
        "B: Ho: There is an association between the screen a customer viewed and whether the student became a paying customer vs. Ha: There is no association between the screen a customer viewed and whether the student became a paying customer.\n",
        "\n",
        "C: $H_0: \\mu_{experiment} \\neq \\mu_{control}$ vs. $H_a: \\mu_{experiment} = \\mu_{control}$ \n",
        "\n",
        "D: $H_0: \\mu_{experiment} = \\mu_{control}$ vs. $H_a: \\mu_{experiment} \\neq \\mu_{control}$ "
      ]
    },
    {
      "cell_type": "code",
      "execution_count": 145,
      "metadata": {
        "deletable": false,
        "id": "19LdXt8t5o3o",
        "nbgrader": {
          "cell_type": "code",
          "checksum": "5648a257dbbd8c70856d7a66d16f977d",
          "grade": false,
          "grade_id": "cell-c7bc5455a50c5905",
          "locked": false,
          "schema_version": 3,
          "solution": true,
          "task": false
        }
      },
      "outputs": [],
      "source": [
        "# Task 9\n",
        "\n",
        "# YOUR CODE HERE\n",
        "Answer = 'A'"
      ]
    },
    {
      "cell_type": "markdown",
      "metadata": {
        "id": "0V2jIozr5o3o"
      },
      "source": [
        "**Task 9 Test**"
      ]
    },
    {
      "cell_type": "code",
      "execution_count": 85,
      "metadata": {
        "deletable": false,
        "editable": false,
        "id": "gXxEweGbn3ge",
        "nbgrader": {
          "cell_type": "code",
          "checksum": "0f821201da7e61926c62064ea6c4a2b6",
          "grade": true,
          "grade_id": "cell-bf883b60168cd6b4",
          "locked": true,
          "points": 1,
          "schema_version": 3,
          "solution": false,
          "task": false
        }
      },
      "outputs": [],
      "source": [
        "# Task 9 - Test\n",
        "# Hidden tests - you will see the results when you submit to Canvas"
      ]
    },
    {
      "cell_type": "markdown",
      "metadata": {
        "id": "syZfKW23zKxm"
      },
      "source": [
        "**Task 10** - Frequency and relative frequency\n",
        "\n",
        "Calculate the frequency and relative frequency of viewing the control version of the website and the experimental version of the website.\n",
        "\n",
        "* Use `.value_counts()`\n",
        "* Assign the frequency table the name `group_freq`\n",
        "* Assign the relative frequency table the name `group_pct`.  Multiply by 100 to convert the proportions in the table to percents."
      ]
    },
    {
      "cell_type": "code",
      "execution_count": 86,
      "metadata": {
        "colab": {
          "base_uri": "https://localhost:8080/"
        },
        "deletable": false,
        "id": "7coz80ZrzKxn",
        "nbgrader": {
          "cell_type": "code",
          "checksum": "c40021c633276fe5bbcf84c8e2d9c766",
          "grade": false,
          "grade_id": "cell-7cf7788013926325",
          "locked": false,
          "schema_version": 3,
          "solution": true,
          "task": false
        },
        "outputId": "d6032b7d-c510-4898-fee5-53d43a35cf18"
      },
      "outputs": [
        {
          "data": {
            "text/plain": [
              "(Control       3785\n",
              " Experiment    3423\n",
              " Name: Group, dtype: int64,\n",
              " Control       52.511099\n",
              " Experiment    47.488901\n",
              " Name: Group, dtype: float64)"
            ]
          },
          "execution_count": 86,
          "metadata": {},
          "output_type": "execute_result"
        }
      ],
      "source": [
        "# Task 10\n",
        "\n",
        "# YOUR CODE HERE\n",
        "\n",
        "group_freq = ABtest['Group'].value_counts()\n",
        "group_pct = ABtest['Group'].value_counts(normalize = True) * 100\n",
        "\n",
        "group_freq, group_pct\n"
      ]
    },
    {
      "cell_type": "markdown",
      "metadata": {
        "id": "10eDTtdKzKxn"
      },
      "source": [
        "**Task 10 Test**"
      ]
    },
    {
      "cell_type": "code",
      "execution_count": 87,
      "metadata": {
        "deletable": false,
        "editable": false,
        "id": "UnlN4MALzKxn",
        "nbgrader": {
          "cell_type": "code",
          "checksum": "292c48f4b89809df73142fdff2b5b7c7",
          "grade": true,
          "grade_id": "cell-1c466d330ddca537",
          "locked": true,
          "points": 1,
          "schema_version": 3,
          "solution": false,
          "task": false
        }
      },
      "outputs": [],
      "source": [
        "# Task 10 - Test\n",
        "# Hidden tests - you will see the results when you submit to Canvas\n"
      ]
    },
    {
      "cell_type": "markdown",
      "metadata": {
        "id": "lxJVqbfDzKxn"
      },
      "source": [
        "**Task 11** - Frequency and relative frequency\n",
        "\n",
        "Calculate the frequency and relative frequency of converting to a paying customer.\n",
        "\n",
        "* Use `.value_counts()`\n",
        "* Assign the frequency table the name `pay_freq`\n",
        "* Assign the relative frequency table the name `pay_pct`.  Multiply by 100 to convert the proportions in the table to percents."
      ]
    },
    {
      "cell_type": "code",
      "execution_count": 88,
      "metadata": {
        "deletable": false,
        "id": "X90wVgaBzKxn",
        "nbgrader": {
          "cell_type": "code",
          "checksum": "2d07afc61c88795230891986ea11f3f9",
          "grade": false,
          "grade_id": "cell-083204eed761bd78",
          "locked": false,
          "schema_version": 3,
          "solution": true,
          "task": false
        }
      },
      "outputs": [
        {
          "data": {
            "text/plain": [
              "(1    3978\n",
              " 0    3230\n",
              " Name: Payment, dtype: int64,\n",
              " 1    55.188679\n",
              " 0    44.811321\n",
              " Name: Payment, dtype: float64)"
            ]
          },
          "execution_count": 88,
          "metadata": {},
          "output_type": "execute_result"
        }
      ],
      "source": [
        "# Task 11\n",
        "\n",
        "# YOUR CODE HERE\n",
        "pay_freq = ABtest['Payment'].value_counts()\n",
        "pay_pct = ABtest['Payment'].value_counts(normalize = True) * 100\n",
        "\n",
        "pay_freq, pay_pct\n"
      ]
    },
    {
      "cell_type": "markdown",
      "metadata": {
        "id": "Ub8_RPwDzKxn"
      },
      "source": [
        "**Task 11 Test**"
      ]
    },
    {
      "cell_type": "code",
      "execution_count": 89,
      "metadata": {
        "deletable": false,
        "editable": false,
        "id": "lGMwfcVIzKxo",
        "nbgrader": {
          "cell_type": "code",
          "checksum": "a180bd00d660763562dfd789573ab70a",
          "grade": true,
          "grade_id": "cell-e6a57bb1c6404174",
          "locked": true,
          "points": 1,
          "schema_version": 3,
          "solution": false,
          "task": false
        }
      },
      "outputs": [],
      "source": [
        "# Task 11 - Test\n",
        "# Hidden tests - you will see the results when you submit to Canvas\n"
      ]
    },
    {
      "cell_type": "markdown",
      "metadata": {
        "id": "psDbtsgUzKxo"
      },
      "source": [
        "**Task 12** - Joint distribution\n",
        "\n",
        "Calculate the joint distribution of experimental condition and conversion to a paying customer.\n",
        "\n",
        "* Use the experimental group as the index variable\n",
        "* Name the results of the joint distribution `joint_dist`"
      ]
    },
    {
      "cell_type": "code",
      "execution_count": 90,
      "metadata": {
        "deletable": false,
        "id": "wWAgq_j-zKxo",
        "nbgrader": {
          "cell_type": "code",
          "checksum": "d61e45ac35f3471129a41cf891fd5c4d",
          "grade": false,
          "grade_id": "cell-6dfd3fd9bcc2acec",
          "locked": false,
          "schema_version": 3,
          "solution": true,
          "task": false
        }
      },
      "outputs": [
        {
          "data": {
            "text/html": [
              "<div>\n",
              "<style scoped>\n",
              "    .dataframe tbody tr th:only-of-type {\n",
              "        vertical-align: middle;\n",
              "    }\n",
              "\n",
              "    .dataframe tbody tr th {\n",
              "        vertical-align: top;\n",
              "    }\n",
              "\n",
              "    .dataframe thead th {\n",
              "        text-align: right;\n",
              "    }\n",
              "</style>\n",
              "<table border=\"1\" class=\"dataframe\">\n",
              "  <thead>\n",
              "    <tr style=\"text-align: right;\">\n",
              "      <th>Payment</th>\n",
              "      <th>0</th>\n",
              "      <th>1</th>\n",
              "    </tr>\n",
              "    <tr>\n",
              "      <th>Group</th>\n",
              "      <th></th>\n",
              "      <th></th>\n",
              "    </tr>\n",
              "  </thead>\n",
              "  <tbody>\n",
              "    <tr>\n",
              "      <th>Control</th>\n",
              "      <td>1752</td>\n",
              "      <td>2033</td>\n",
              "    </tr>\n",
              "    <tr>\n",
              "      <th>Experiment</th>\n",
              "      <td>1478</td>\n",
              "      <td>1945</td>\n",
              "    </tr>\n",
              "  </tbody>\n",
              "</table>\n",
              "</div>"
            ],
            "text/plain": [
              "Payment        0     1\n",
              "Group                 \n",
              "Control     1752  2033\n",
              "Experiment  1478  1945"
            ]
          },
          "execution_count": 90,
          "metadata": {},
          "output_type": "execute_result"
        }
      ],
      "source": [
        "# Task 12\n",
        "\n",
        "# YOUR CODE HERE\n",
        "joint_dist = pd.crosstab(ABtest['Group'], ABtest['Payment'])\n",
        "joint_dist"
      ]
    },
    {
      "cell_type": "markdown",
      "metadata": {
        "id": "nOOdA_RIzKxo"
      },
      "source": [
        "**Task 12 Test**"
      ]
    },
    {
      "cell_type": "code",
      "execution_count": 91,
      "metadata": {
        "deletable": false,
        "editable": false,
        "id": "0t91l0KrzKxo",
        "nbgrader": {
          "cell_type": "code",
          "checksum": "a776a7b8b26b36e455d39a067f4e406e",
          "grade": true,
          "grade_id": "cell-0f262ea494cb3c78",
          "locked": true,
          "points": 1,
          "schema_version": 3,
          "solution": false,
          "task": false
        }
      },
      "outputs": [],
      "source": [
        "# Task 12 - Test\n",
        "# Hidden tests - you will see the results when you submit to Canvas\n"
      ]
    },
    {
      "cell_type": "markdown",
      "metadata": {
        "id": "TnS2SA6mzKxo"
      },
      "source": [
        "**Task 13** - Marginal distribution\n",
        "\n",
        "Add the table margins to the joint distribution of experimental condition and conversion to a paying customer.\n",
        "\n",
        "* Use the experimental group as the index variable\n",
        "* Name the results of the distribution `marginal_dist`"
      ]
    },
    {
      "cell_type": "code",
      "execution_count": 92,
      "metadata": {
        "deletable": false,
        "id": "ER8_T0XmzKxp",
        "nbgrader": {
          "cell_type": "code",
          "checksum": "326af404eb5eb84f30f7d7aeb84738c4",
          "grade": false,
          "grade_id": "cell-b32c569dd055f6f9",
          "locked": false,
          "schema_version": 3,
          "solution": true,
          "task": false
        }
      },
      "outputs": [],
      "source": [
        "# Task 13\n",
        "\n",
        "marginal_dist = pd.crosstab(ABtest['Group'], ABtest['Payment'], margins = True)\n"
      ]
    },
    {
      "cell_type": "markdown",
      "metadata": {
        "id": "3WoUVSMizKxp"
      },
      "source": [
        "**Task 13 Test**"
      ]
    },
    {
      "cell_type": "code",
      "execution_count": 93,
      "metadata": {
        "deletable": false,
        "editable": false,
        "id": "qB_7zCiDzKxp",
        "nbgrader": {
          "cell_type": "code",
          "checksum": "b1a20728ea09e815dd3eca5af74f4823",
          "grade": true,
          "grade_id": "cell-12b8780900e3f81c",
          "locked": true,
          "points": 1,
          "schema_version": 3,
          "solution": false,
          "task": false
        }
      },
      "outputs": [],
      "source": [
        "# Task 13 - Test\n",
        "# Hidden tests - you will see the results when you submit to Canvas\n"
      ]
    },
    {
      "cell_type": "markdown",
      "metadata": {
        "id": "INbglgZizKxp"
      },
      "source": [
        "**Task 14 -** Conditional distribution\n",
        "\n",
        "Calculate the distribution of payment conversion conditional on the text the individual saw when he or she was signing up for Udacity.\n",
        "\n",
        "* Use the experimental group as the index variable\n",
        "* Name the results of the distribution `conditional_dist` and **make sure to multiple the result by 100**"
      ]
    },
    {
      "cell_type": "code",
      "execution_count": 94,
      "metadata": {
        "deletable": false,
        "id": "Oib0NHo4zKxp",
        "nbgrader": {
          "cell_type": "code",
          "checksum": "cb905315891651fe8808d34cbb9c07d5",
          "grade": false,
          "grade_id": "cell-d2b32235786b278a",
          "locked": false,
          "schema_version": 3,
          "solution": true,
          "task": false
        }
      },
      "outputs": [
        {
          "data": {
            "text/html": [
              "<div>\n",
              "<style scoped>\n",
              "    .dataframe tbody tr th:only-of-type {\n",
              "        vertical-align: middle;\n",
              "    }\n",
              "\n",
              "    .dataframe tbody tr th {\n",
              "        vertical-align: top;\n",
              "    }\n",
              "\n",
              "    .dataframe thead th {\n",
              "        text-align: right;\n",
              "    }\n",
              "</style>\n",
              "<table border=\"1\" class=\"dataframe\">\n",
              "  <thead>\n",
              "    <tr style=\"text-align: right;\">\n",
              "      <th>Payment</th>\n",
              "      <th>0</th>\n",
              "      <th>1</th>\n",
              "    </tr>\n",
              "    <tr>\n",
              "      <th>Group</th>\n",
              "      <th></th>\n",
              "      <th></th>\n",
              "    </tr>\n",
              "  </thead>\n",
              "  <tbody>\n",
              "    <tr>\n",
              "      <th>Control</th>\n",
              "      <td>46.287979</td>\n",
              "      <td>53.712021</td>\n",
              "    </tr>\n",
              "    <tr>\n",
              "      <th>Experiment</th>\n",
              "      <td>43.178498</td>\n",
              "      <td>56.821502</td>\n",
              "    </tr>\n",
              "  </tbody>\n",
              "</table>\n",
              "</div>"
            ],
            "text/plain": [
              "Payment             0          1\n",
              "Group                           \n",
              "Control     46.287979  53.712021\n",
              "Experiment  43.178498  56.821502"
            ]
          },
          "execution_count": 94,
          "metadata": {},
          "output_type": "execute_result"
        }
      ],
      "source": [
        "# Task 14\n",
        "\n",
        "# YOUR CODE HERE\n",
        "conditional_dist = pd.crosstab(ABtest['Group'], ABtest['Payment'], normalize = 'index') * 100\n",
        "conditional_dist"
      ]
    },
    {
      "cell_type": "markdown",
      "metadata": {
        "id": "SIiYXiVSzKxp"
      },
      "source": [
        "**Task 14 Test**"
      ]
    },
    {
      "cell_type": "code",
      "execution_count": 95,
      "metadata": {
        "deletable": false,
        "editable": false,
        "id": "tIY-IdUvzKxp",
        "nbgrader": {
          "cell_type": "code",
          "checksum": "27a2f1eece29c3bc06f3af117169365d",
          "grade": true,
          "grade_id": "cell-9f91e010017c5890",
          "locked": true,
          "points": 1,
          "schema_version": 3,
          "solution": false,
          "task": false
        }
      },
      "outputs": [],
      "source": [
        "# Task 14 - Test\n",
        "# Hidden tests - you will see the results when you submit to Canvas\n"
      ]
    },
    {
      "cell_type": "markdown",
      "metadata": {
        "id": "h2yCqLep7Ujc"
      },
      "source": [
        "**Task 15 -** Statistical distributions\n",
        "\n",
        "Identify the appropriate statistical test to determine if there is an association between the screen that a potential student viewed as she was signing up for a course and whether or not he or she converted to a paying customer.  Specify your answer in the next code block using `Answer = `.  For example, if the correct answer is choice B, you'll type `Answer = 'B'`.\n",
        "\n",
        "A: A two-sample t-test\n",
        "\n",
        "B: A Bayesian test \n",
        "\n",
        "C: A one-sample t-test\n",
        "\n",
        "D: A chi-square test"
      ]
    },
    {
      "cell_type": "code",
      "execution_count": 96,
      "metadata": {
        "deletable": false,
        "id": "ljyUizal7Ujo",
        "nbgrader": {
          "cell_type": "code",
          "checksum": "ba9262e4097e34dc55649dbd83586e7c",
          "grade": false,
          "grade_id": "cell-5e85e52b66e1ac3f",
          "locked": false,
          "schema_version": 3,
          "solution": true,
          "task": false
        }
      },
      "outputs": [],
      "source": [
        "# Task 15\n",
        "\n",
        "# YOUR CODE HERE\n",
        "Answer = 'D'\n"
      ]
    },
    {
      "cell_type": "markdown",
      "metadata": {
        "id": "04zSw4aJ7Ujo"
      },
      "source": [
        "**Task 15 Test**"
      ]
    },
    {
      "cell_type": "code",
      "execution_count": 97,
      "metadata": {
        "deletable": false,
        "editable": false,
        "id": "8xFhtLNNn3gh",
        "nbgrader": {
          "cell_type": "code",
          "checksum": "bdea8280a50cb37c1a4db2c252a094c1",
          "grade": true,
          "grade_id": "cell-efd96344ebe2d504",
          "locked": true,
          "points": 1,
          "schema_version": 3,
          "solution": false,
          "task": false
        }
      },
      "outputs": [],
      "source": [
        "# Task 15 - Test\n",
        "# Hidden tests - you will see the results when you submit to Canvas"
      ]
    },
    {
      "cell_type": "markdown",
      "metadata": {
        "id": "g2BYA6BGzKxq"
      },
      "source": [
        "**Task 16** - Hypothesis testing\n",
        "\n",
        "Conduct the hypothesis test you identified in Task 15.\n",
        "* Assign the p-value to the variable `p`\n",
        "\n",
        "*Hint: The `chi2_contingency()` function returns more than one parameter - make sure to read the documentation to assign the correct one to your p-value*"
      ]
    },
    {
      "cell_type": "code",
      "execution_count": 98,
      "metadata": {
        "deletable": false,
        "id": "1TJVAQsuzKxq",
        "nbgrader": {
          "cell_type": "code",
          "checksum": "abf111fcc7980ad7122d7ca1a1efcf9c",
          "grade": false,
          "grade_id": "cell-7e9a32d9f483fa4a",
          "locked": false,
          "schema_version": 3,
          "solution": true,
          "task": false
        }
      },
      "outputs": [
        {
          "data": {
            "text/plain": [
              "0.008608736615463934"
            ]
          },
          "execution_count": 98,
          "metadata": {},
          "output_type": "execute_result"
        }
      ],
      "source": [
        "# Task 16\n",
        "\n",
        "from scipy.stats import chi2_contingency\n",
        "\n",
        "# YOUR CODE HERE\n",
        "g, p, degfree, exp = chi2_contingency(joint_dist)\n",
        "p"
      ]
    },
    {
      "cell_type": "markdown",
      "metadata": {
        "id": "Aae6dQrfzKxq"
      },
      "source": [
        "**Task 16 Test**"
      ]
    },
    {
      "cell_type": "code",
      "execution_count": 99,
      "metadata": {
        "deletable": false,
        "editable": false,
        "id": "cenb1cdbzKxq",
        "nbgrader": {
          "cell_type": "code",
          "checksum": "fe7d68b3c157a7e45c4b906eb06523db",
          "grade": true,
          "grade_id": "cell-64c1b0341156ed7b",
          "locked": true,
          "points": 1,
          "schema_version": 3,
          "solution": false,
          "task": false
        }
      },
      "outputs": [],
      "source": [
        "# Task 16 - Test\n",
        "# Hidden tests - you will see the results when you submit to Canvas\n"
      ]
    },
    {
      "cell_type": "markdown",
      "metadata": {
        "id": "ICSy4h0Y8C95"
      },
      "source": [
        "**Task 17**\n",
        "\n",
        "Select the correct conclusion at the 0.05 significance level from the list of choices below. Specify your answer in the next code block using `Answer = `.  For example, if the correct answer is choice B, you'll type `Answer = 'B'`.\n",
        "\n",
        "A: We reject the null hypothesis at the 0.05 significance level and conclude that there is no association between the screen a student viewed and if the student became a paying customer.\n",
        "\n",
        "B: We fail to reject the null hypothesis at the 0.05 significance level and conclude that there is no association between the screen a student viewed and if the student became a paying customer.\n",
        "\n",
        "C: We reject the null hypothesis at the 0.05 significance level and conclude that there is a statistically significant association between the screen a student viewed and if the student became a paying customer.\n",
        "\n",
        "D: We fail to reject the null hypothesis at the 0.05 significance level and conclude that there is a statistically significant association between the screen a student viewed and if the student became a paying customer.\n"
      ]
    },
    {
      "cell_type": "code",
      "execution_count": 100,
      "metadata": {
        "deletable": false,
        "id": "vXQnetkr8C96",
        "nbgrader": {
          "cell_type": "code",
          "checksum": "b7f0cc2a8889497bf44410628145d926",
          "grade": false,
          "grade_id": "cell-48744e7a37e5fb88",
          "locked": false,
          "schema_version": 3,
          "solution": true,
          "task": false
        }
      },
      "outputs": [],
      "source": [
        "# Task 17\n",
        "\n",
        "# YOUR CODE HERE\n",
        "Answer = 'C'\n"
      ]
    },
    {
      "cell_type": "markdown",
      "metadata": {
        "id": "_PzX1IPE8C96"
      },
      "source": [
        "**Task 17 Test**"
      ]
    },
    {
      "cell_type": "code",
      "execution_count": 101,
      "metadata": {
        "deletable": false,
        "editable": false,
        "id": "NODnrv1Nn3gi",
        "nbgrader": {
          "cell_type": "code",
          "checksum": "4417b7ea7952f4df04e7c6aaccbc4869",
          "grade": true,
          "grade_id": "cell-607fc28f25a62229",
          "locked": true,
          "points": 1,
          "schema_version": 3,
          "solution": false,
          "task": false
        }
      },
      "outputs": [],
      "source": [
        "# Task 17 - Test\n",
        "# Hidden tests - you will see the results when you submit to Canvas"
      ]
    },
    {
      "cell_type": "markdown",
      "metadata": {
        "id": "HjLAYPZJzKxr"
      },
      "source": [
        "**Task 18** - Visualization\n",
        "\n",
        "Draw a side-by-side barplot illustrating the distribution of conversion by experimental group.\n",
        "\n",
        "This task will not be autograded - but it is part of completing the challenge."
      ]
    },
    {
      "cell_type": "code",
      "execution_count": 102,
      "metadata": {
        "deletable": false,
        "id": "RFUgsiv6zKxr",
        "nbgrader": {
          "cell_type": "code",
          "checksum": "00c990121823203baed7bf287920d4c5",
          "grade": false,
          "grade_id": "cell-ac98e57ef6a3a74c",
          "locked": false,
          "schema_version": 3,
          "solution": true,
          "task": false
        }
      },
      "outputs": [
        {
          "data": {
            "image/png": "[encoded data removed]",
            "text/plain": [
              "<Figure size 432x288 with 1 Axes>"
            ]
          },
          "metadata": {
            "needs_background": "light"
          },
          "output_type": "display_data"
        }
      ],
      "source": [
        "#Task 18\n",
        "\n",
        "# Create your plot here\n",
        "import matplotlib.pyplot as plt\n",
        "import seaborn as sns\n",
        "\n",
        "# YOUR CODE HERE\n",
        "sns.barplot(x = 'Group', y = 'Payment', data = ABtest, ci = None);\n",
        "plt.xticks(ticks = [0,1], labels = ['Control', 'Experimental']);"
      ]
    },
    {
      "cell_type": "markdown",
      "metadata": {
        "id": "G5RyzyOVzKxr"
      },
      "source": [
        "**Task 19** - Bayesian and Frequentist Statistics\n",
        "\n",
        "In a few sentences, describe the difference between Bayesian and Frequentist statistics.\n",
        "\n",
        "This task will not be autograded - but it is part of completing the challenge."
      ]
    },
    {
      "cell_type": "markdown",
      "metadata": {
        "id": "KPX0_1a7zKxr"
      },
      "source": [
        "**Task 19 ANSWER:**\n",
        "\n",
        "Frequentist - since we have no earthly means of knowing what the true mean is, we are bound by uncertainty and cannot ever truly know what the average of any group is regardless of new information. \n",
        "Bayesian - We have new data that can change what we know"
      ]
    },
    {
      "cell_type": "markdown",
      "metadata": {},
      "source": []
    }
  ],
  "metadata": {
    "colab": {
      "collapsed_sections": [],
      "name": "DS_Unit1_Sprint2_AG.ipynb",
      "provenance": []
    },
    "kernelspec": {
      "display_name": "Python 3.9.12 ('base')",
      "language": "python",
      "name": "python3"
    },
    "language_info": {
      "codemirror_mode": {
        "name": "ipython",
        "version": 3
      },
      "file_extension": ".py",
      "mimetype": "text/x-python",
      "name": "python",
      "nbconvert_exporter": "python",
      "pygments_lexer": "ipython3",
      "version": "3.9.12"
    },
    "vscode": {
      "interpreter": {
        "hash": "ad2bdc8ecc057115af97d19610ffacc2b4e99fae6737bb82f5d7fb13d2f2c186"
      }
    }
  },
  "nbformat": 4,
  "nbformat_minor": 0
}
