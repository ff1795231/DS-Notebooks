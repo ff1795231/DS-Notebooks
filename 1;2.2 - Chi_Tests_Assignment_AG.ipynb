{
  "cells": [
    {
      "cell_type": "markdown",
      "id": "5d209e10",
      "metadata": {
        "deletable": false,
        "editable": false,
        "id": "5d209e10",
        "nbgrader": {
          "cell_type": "markdown",
          "checksum": "0e1e797f232be149bd11f0e1303aa459",
          "grade": false,
          "grade_id": "cell-d6e5d9ceb795d63d",
          "locked": true,
          "schema_version": 3,
          "solution": false,
          "task": false
        }
      },
      "source": [
        "# Data Science - Unit 1 Sprint 2 Module 2\n",
        "\n",
        "## Hypothesis Testing - Chi square tests\n",
        "\n",
        "### Objectives\n",
        "\n",
        "* Objective 01 - explain the purpose of a chi-square test and identify applications\n",
        "* Objective 02 - set up a chi-square test for independence on two categorical variables\n",
        "* Objective 03 - use a chi-square test p-value to draw the correct conclusion about the null and alternative hypothesis\n",
        "* Objective 04 - explain how to compare the null hypothesis and sample and how randomness in the sampling process affect the result\n",
        "\n",
        "#### Total notebook points: 9"
      ]
    },
    {
      "cell_type": "markdown",
      "id": "39c98a09",
      "metadata": {
        "deletable": false,
        "editable": false,
        "id": "39c98a09",
        "nbgrader": {
          "cell_type": "markdown",
          "checksum": "07efcb0f979bd98fc44f8ed09af7e339",
          "grade": false,
          "grade_id": "cell-0d184c611647facb",
          "locked": true,
          "schema_version": 3,
          "solution": false,
          "task": false
        }
      },
      "source": [
        "### Introduction\n",
        "\n",
        "Slasher movies thrill audiences by portraying a lone antagonist (typically male) who attacks innocent victims with extreme violence and without apparent motive. However, this exciting (if gory) sub-genre of horror film is criticized by those who view the violence as being used to “punish” female characters who engage in sexual activity during the film. \n",
        "\n",
        "### Dataset description:\n",
        "\n",
        "To test this claim, study authors randomly sampled 50 North American slasher films released from 1960 to 2009 and coded the 485 characters appearing in them as being male or female, involved in sexual activity or not, and if they survived the film or not. \n",
        "\n",
        "The data appears in the `Slasher.csv` dataset. In this project, we are going to answer a slightly simpler question: Does a character's gender impact his or her chances of surviving a slasher film, or are the two factors unrelated?\n",
        "\n",
        "You can find the `Slasher.csv` file and more information [here](https://github.com/LambdaSchool/data-science-practice-datasets/tree/main/unit_1/Slasher)\n",
        "\n",
        "*Source: A. Welsh (2010). \"On the Perils of Living Dangerously in the Slasher Horror Film: Gender Differences in the Association Between Sexual Activity and Survival,\" Sex Roles, Vol. 62 pp. 762-773*"
      ]
    },
    {
      "cell_type": "markdown",
      "id": "297bd8ee",
      "metadata": {
        "deletable": false,
        "editable": false,
        "id": "297bd8ee",
        "nbgrader": {
          "cell_type": "markdown",
          "checksum": "046f6a721e36941a3a56bda933a719f2",
          "grade": false,
          "grade_id": "cell-464cf713326e01fb",
          "locked": true,
          "schema_version": 3,
          "solution": false,
          "task": false
        }
      },
      "source": [
        "**Task 1** - Load the data\n",
        "\n",
        "Let's load the data! The URL has been provided as well as the imports for pandas and numpy.\n",
        "\n",
        "* Load your CSV file into a DataFrame named `df_slasher`"
      ]
    },
    {
      "cell_type": "code",
      "execution_count": 1,
      "id": "fc28197f",
      "metadata": {
        "colab": {
          "base_uri": "https://localhost:8080/",
          "height": 206
        },
        "deletable": false,
        "id": "fc28197f",
        "nbgrader": {
          "cell_type": "code",
          "checksum": "4587be3b69c834e68f4fc55bc0581ba5",
          "grade": false,
          "grade_id": "cell-fd8de6314d149c03",
          "locked": false,
          "schema_version": 3,
          "solution": true,
          "task": false
        },
        "outputId": "76a51e95-bacb-41d8-dfa5-2befdcffab63"
      },
      "outputs": [
        {
          "data": {
            "text/html": [
              "\n",
              "  <div id=\"df-fb2094e3-44d5-406b-8449-e7e9b9023f28\">\n",
              "    <div class=\"colab-df-container\">\n",
              "      <div>\n",
              "<style scoped>\n",
              "    .dataframe tbody tr th:only-of-type {\n",
              "        vertical-align: middle;\n",
              "    }\n",
              "\n",
              "    .dataframe tbody tr th {\n",
              "        vertical-align: top;\n",
              "    }\n",
              "\n",
              "    .dataframe thead th {\n",
              "        text-align: right;\n",
              "    }\n",
              "</style>\n",
              "<table border=\"1\" class=\"dataframe\">\n",
              "  <thead>\n",
              "    <tr style=\"text-align: right;\">\n",
              "      <th></th>\n",
              "      <th>ID</th>\n",
              "      <th>Gender</th>\n",
              "      <th>Activity</th>\n",
              "      <th>Survival</th>\n",
              "    </tr>\n",
              "  </thead>\n",
              "  <tbody>\n",
              "    <tr>\n",
              "      <th>0</th>\n",
              "      <td>1</td>\n",
              "      <td>1</td>\n",
              "      <td>1</td>\n",
              "      <td>1</td>\n",
              "    </tr>\n",
              "    <tr>\n",
              "      <th>1</th>\n",
              "      <td>2</td>\n",
              "      <td>1</td>\n",
              "      <td>1</td>\n",
              "      <td>1</td>\n",
              "    </tr>\n",
              "    <tr>\n",
              "      <th>2</th>\n",
              "      <td>3</td>\n",
              "      <td>1</td>\n",
              "      <td>1</td>\n",
              "      <td>1</td>\n",
              "    </tr>\n",
              "    <tr>\n",
              "      <th>3</th>\n",
              "      <td>4</td>\n",
              "      <td>1</td>\n",
              "      <td>1</td>\n",
              "      <td>1</td>\n",
              "    </tr>\n",
              "    <tr>\n",
              "      <th>4</th>\n",
              "      <td>5</td>\n",
              "      <td>1</td>\n",
              "      <td>1</td>\n",
              "      <td>1</td>\n",
              "    </tr>\n",
              "  </tbody>\n",
              "</table>\n",
              "</div>\n",
              "      <button class=\"colab-df-convert\" onclick=\"convertToInteractive('df-fb2094e3-44d5-406b-8449-e7e9b9023f28')\"\n",
              "              title=\"Convert this dataframe to an interactive table.\"\n",
              "              style=\"display:none;\">\n",
              "        \n",
              "  <svg xmlns=\"http://www.w3.org/2000/svg\" height=\"24px\"viewBox=\"0 0 24 24\"\n",
              "       width=\"24px\">\n",
              "    <path d=\"M0 0h24v24H0V0z\" fill=\"none\"/>\n",
              "    <path d=\"M18.56 5.44l.94 2.06.94-2.06 2.06-.94-2.06-.94-.94-2.06-.94 2.06-2.06.94zm-11 1L8.5 8.5l.94-2.06 2.06-.94-2.06-.94L8.5 2.5l-.94 2.06-2.06.94zm10 10l.94 2.06.94-2.06 2.06-.94-2.06-.94-.94-2.06-.94 2.06-2.06.94z\"/><path d=\"M17.41 7.96l-1.37-1.37c-.4-.4-.92-.59-1.43-.59-.52 0-1.04.2-1.43.59L10.3 9.45l-7.72 7.72c-.78.78-.78 2.05 0 2.83L4 21.41c.39.39.9.59 1.41.59.51 0 1.02-.2 1.41-.59l7.78-7.78 2.81-2.81c.8-.78.8-2.07 0-2.86zM5.41 20L4 18.59l7.72-7.72 1.47 1.35L5.41 20z\"/>\n",
              "  </svg>\n",
              "      </button>\n",
              "      \n",
              "  <style>\n",
              "    .colab-df-container {\n",
              "      display:flex;\n",
              "      flex-wrap:wrap;\n",
              "      gap: 12px;\n",
              "    }\n",
              "\n",
              "    .colab-df-convert {\n",
              "      background-color: #E8F0FE;\n",
              "      border: none;\n",
              "      border-radius: 50%;\n",
              "      cursor: pointer;\n",
              "      display: none;\n",
              "      fill: #1967D2;\n",
              "      height: 32px;\n",
              "      padding: 0 0 0 0;\n",
              "      width: 32px;\n",
              "    }\n",
              "\n",
              "    .colab-df-convert:hover {\n",
              "      background-color: #E2EBFA;\n",
              "      box-shadow: 0px 1px 2px rgba(60, 64, 67, 0.3), 0px 1px 3px 1px rgba(60, 64, 67, 0.15);\n",
              "      fill: #174EA6;\n",
              "    }\n",
              "\n",
              "    [theme=dark] .colab-df-convert {\n",
              "      background-color: #3B4455;\n",
              "      fill: #D2E3FC;\n",
              "    }\n",
              "\n",
              "    [theme=dark] .colab-df-convert:hover {\n",
              "      background-color: #434B5C;\n",
              "      box-shadow: 0px 1px 3px 1px rgba(0, 0, 0, 0.15);\n",
              "      filter: drop-shadow(0px 1px 2px rgba(0, 0, 0, 0.3));\n",
              "      fill: #FFFFFF;\n",
              "    }\n",
              "  </style>\n",
              "\n",
              "      <script>\n",
              "        const buttonEl =\n",
              "          document.querySelector('#df-fb2094e3-44d5-406b-8449-e7e9b9023f28 button.colab-df-convert');\n",
              "        buttonEl.style.display =\n",
              "          google.colab.kernel.accessAllowed ? 'block' : 'none';\n",
              "\n",
              "        async function convertToInteractive(key) {\n",
              "          const element = document.querySelector('#df-fb2094e3-44d5-406b-8449-e7e9b9023f28');\n",
              "          const dataTable =\n",
              "            await google.colab.kernel.invokeFunction('convertToInteractive',\n",
              "                                                     [key], {});\n",
              "          if (!dataTable) return;\n",
              "\n",
              "          const docLinkHtml = 'Like what you see? Visit the ' +\n",
              "            '<a target=\"_blank\" href=https://colab.research.google.com/notebooks/data_table.ipynb>data table notebook</a>'\n",
              "            + ' to learn more about interactive tables.';\n",
              "          element.innerHTML = '';\n",
              "          dataTable['output_type'] = 'display_data';\n",
              "          await google.colab.output.renderOutput(dataTable, element);\n",
              "          const docLink = document.createElement('div');\n",
              "          docLink.innerHTML = docLinkHtml;\n",
              "          element.appendChild(docLink);\n",
              "        }\n",
              "      </script>\n",
              "    </div>\n",
              "  </div>\n",
              "  "
            ],
            "text/plain": [
              "   ID  Gender  Activity  Survival\n",
              "0   1       1         1         1\n",
              "1   2       1         1         1\n",
              "2   3       1         1         1\n",
              "3   4       1         1         1\n",
              "4   5       1         1         1"
            ]
          },
          "execution_count": 1,
          "metadata": {},
          "output_type": "execute_result"
        }
      ],
      "source": [
        "# Task 1\n",
        "\n",
        "# Imports \n",
        "import pandas as pd\n",
        "import numpy as np\n",
        "\n",
        "data_url = 'https://raw.githubusercontent.com/bloominstituteoftechnology/data-science-practice-datasets/main/unit_1/Slasher/Slasher.csv'\n",
        "\n",
        "# YOUR CODE HERE\n",
        "df_slasher = pd.read_csv(data_url)\n",
        "\n",
        "# Print out your DataFrame\n",
        "df_slasher.head()"
      ]
    },
    {
      "cell_type": "code",
      "execution_count": 2,
      "id": "124b6cbd",
      "metadata": {
        "colab": {
          "base_uri": "https://localhost:8080/",
          "height": 424
        },
        "id": "124b6cbd",
        "outputId": "ec381e37-5683-474f-989a-bb688546bf5a"
      },
      "outputs": [
        {
          "data": {
            "text/html": [
              "\n",
              "  <div id=\"df-2eaa407c-b83d-43b2-82ec-593a9f36244a\">\n",
              "    <div class=\"colab-df-container\">\n",
              "      <div>\n",
              "<style scoped>\n",
              "    .dataframe tbody tr th:only-of-type {\n",
              "        vertical-align: middle;\n",
              "    }\n",
              "\n",
              "    .dataframe tbody tr th {\n",
              "        vertical-align: top;\n",
              "    }\n",
              "\n",
              "    .dataframe thead th {\n",
              "        text-align: right;\n",
              "    }\n",
              "</style>\n",
              "<table border=\"1\" class=\"dataframe\">\n",
              "  <thead>\n",
              "    <tr style=\"text-align: right;\">\n",
              "      <th></th>\n",
              "      <th>ID</th>\n",
              "      <th>Gender</th>\n",
              "      <th>Activity</th>\n",
              "      <th>Survival</th>\n",
              "    </tr>\n",
              "  </thead>\n",
              "  <tbody>\n",
              "    <tr>\n",
              "      <th>0</th>\n",
              "      <td>1</td>\n",
              "      <td>1</td>\n",
              "      <td>1</td>\n",
              "      <td>1</td>\n",
              "    </tr>\n",
              "    <tr>\n",
              "      <th>1</th>\n",
              "      <td>2</td>\n",
              "      <td>1</td>\n",
              "      <td>1</td>\n",
              "      <td>1</td>\n",
              "    </tr>\n",
              "    <tr>\n",
              "      <th>2</th>\n",
              "      <td>3</td>\n",
              "      <td>1</td>\n",
              "      <td>1</td>\n",
              "      <td>1</td>\n",
              "    </tr>\n",
              "    <tr>\n",
              "      <th>3</th>\n",
              "      <td>4</td>\n",
              "      <td>1</td>\n",
              "      <td>1</td>\n",
              "      <td>1</td>\n",
              "    </tr>\n",
              "    <tr>\n",
              "      <th>4</th>\n",
              "      <td>5</td>\n",
              "      <td>1</td>\n",
              "      <td>1</td>\n",
              "      <td>1</td>\n",
              "    </tr>\n",
              "    <tr>\n",
              "      <th>...</th>\n",
              "      <td>...</td>\n",
              "      <td>...</td>\n",
              "      <td>...</td>\n",
              "      <td>...</td>\n",
              "    </tr>\n",
              "    <tr>\n",
              "      <th>480</th>\n",
              "      <td>481</td>\n",
              "      <td>0</td>\n",
              "      <td>0</td>\n",
              "      <td>0</td>\n",
              "    </tr>\n",
              "    <tr>\n",
              "      <th>481</th>\n",
              "      <td>482</td>\n",
              "      <td>0</td>\n",
              "      <td>0</td>\n",
              "      <td>0</td>\n",
              "    </tr>\n",
              "    <tr>\n",
              "      <th>482</th>\n",
              "      <td>483</td>\n",
              "      <td>0</td>\n",
              "      <td>0</td>\n",
              "      <td>0</td>\n",
              "    </tr>\n",
              "    <tr>\n",
              "      <th>483</th>\n",
              "      <td>484</td>\n",
              "      <td>0</td>\n",
              "      <td>0</td>\n",
              "      <td>0</td>\n",
              "    </tr>\n",
              "    <tr>\n",
              "      <th>484</th>\n",
              "      <td>485</td>\n",
              "      <td>0</td>\n",
              "      <td>0</td>\n",
              "      <td>0</td>\n",
              "    </tr>\n",
              "  </tbody>\n",
              "</table>\n",
              "<p>485 rows × 4 columns</p>\n",
              "</div>\n",
              "      <button class=\"colab-df-convert\" onclick=\"convertToInteractive('df-2eaa407c-b83d-43b2-82ec-593a9f36244a')\"\n",
              "              title=\"Convert this dataframe to an interactive table.\"\n",
              "              style=\"display:none;\">\n",
              "        \n",
              "  <svg xmlns=\"http://www.w3.org/2000/svg\" height=\"24px\"viewBox=\"0 0 24 24\"\n",
              "       width=\"24px\">\n",
              "    <path d=\"M0 0h24v24H0V0z\" fill=\"none\"/>\n",
              "    <path d=\"M18.56 5.44l.94 2.06.94-2.06 2.06-.94-2.06-.94-.94-2.06-.94 2.06-2.06.94zm-11 1L8.5 8.5l.94-2.06 2.06-.94-2.06-.94L8.5 2.5l-.94 2.06-2.06.94zm10 10l.94 2.06.94-2.06 2.06-.94-2.06-.94-.94-2.06-.94 2.06-2.06.94z\"/><path d=\"M17.41 7.96l-1.37-1.37c-.4-.4-.92-.59-1.43-.59-.52 0-1.04.2-1.43.59L10.3 9.45l-7.72 7.72c-.78.78-.78 2.05 0 2.83L4 21.41c.39.39.9.59 1.41.59.51 0 1.02-.2 1.41-.59l7.78-7.78 2.81-2.81c.8-.78.8-2.07 0-2.86zM5.41 20L4 18.59l7.72-7.72 1.47 1.35L5.41 20z\"/>\n",
              "  </svg>\n",
              "      </button>\n",
              "      \n",
              "  <style>\n",
              "    .colab-df-container {\n",
              "      display:flex;\n",
              "      flex-wrap:wrap;\n",
              "      gap: 12px;\n",
              "    }\n",
              "\n",
              "    .colab-df-convert {\n",
              "      background-color: #E8F0FE;\n",
              "      border: none;\n",
              "      border-radius: 50%;\n",
              "      cursor: pointer;\n",
              "      display: none;\n",
              "      fill: #1967D2;\n",
              "      height: 32px;\n",
              "      padding: 0 0 0 0;\n",
              "      width: 32px;\n",
              "    }\n",
              "\n",
              "    .colab-df-convert:hover {\n",
              "      background-color: #E2EBFA;\n",
              "      box-shadow: 0px 1px 2px rgba(60, 64, 67, 0.3), 0px 1px 3px 1px rgba(60, 64, 67, 0.15);\n",
              "      fill: #174EA6;\n",
              "    }\n",
              "\n",
              "    [theme=dark] .colab-df-convert {\n",
              "      background-color: #3B4455;\n",
              "      fill: #D2E3FC;\n",
              "    }\n",
              "\n",
              "    [theme=dark] .colab-df-convert:hover {\n",
              "      background-color: #434B5C;\n",
              "      box-shadow: 0px 1px 3px 1px rgba(0, 0, 0, 0.15);\n",
              "      filter: drop-shadow(0px 1px 2px rgba(0, 0, 0, 0.3));\n",
              "      fill: #FFFFFF;\n",
              "    }\n",
              "  </style>\n",
              "\n",
              "      <script>\n",
              "        const buttonEl =\n",
              "          document.querySelector('#df-2eaa407c-b83d-43b2-82ec-593a9f36244a button.colab-df-convert');\n",
              "        buttonEl.style.display =\n",
              "          google.colab.kernel.accessAllowed ? 'block' : 'none';\n",
              "\n",
              "        async function convertToInteractive(key) {\n",
              "          const element = document.querySelector('#df-2eaa407c-b83d-43b2-82ec-593a9f36244a');\n",
              "          const dataTable =\n",
              "            await google.colab.kernel.invokeFunction('convertToInteractive',\n",
              "                                                     [key], {});\n",
              "          if (!dataTable) return;\n",
              "\n",
              "          const docLinkHtml = 'Like what you see? Visit the ' +\n",
              "            '<a target=\"_blank\" href=https://colab.research.google.com/notebooks/data_table.ipynb>data table notebook</a>'\n",
              "            + ' to learn more about interactive tables.';\n",
              "          element.innerHTML = '';\n",
              "          dataTable['output_type'] = 'display_data';\n",
              "          await google.colab.output.renderOutput(dataTable, element);\n",
              "          const docLink = document.createElement('div');\n",
              "          docLink.innerHTML = docLinkHtml;\n",
              "          element.appendChild(docLink);\n",
              "        }\n",
              "      </script>\n",
              "    </div>\n",
              "  </div>\n",
              "  "
            ],
            "text/plain": [
              "      ID  Gender  Activity  Survival\n",
              "0      1       1         1         1\n",
              "1      2       1         1         1\n",
              "2      3       1         1         1\n",
              "3      4       1         1         1\n",
              "4      5       1         1         1\n",
              "..   ...     ...       ...       ...\n",
              "480  481       0         0         0\n",
              "481  482       0         0         0\n",
              "482  483       0         0         0\n",
              "483  484       0         0         0\n",
              "484  485       0         0         0\n",
              "\n",
              "[485 rows x 4 columns]"
            ]
          },
          "execution_count": 2,
          "metadata": {},
          "output_type": "execute_result"
        }
      ],
      "source": [
        "df_slasher"
      ]
    },
    {
      "cell_type": "markdown",
      "id": "aebd9d46",
      "metadata": {
        "deletable": false,
        "editable": false,
        "id": "aebd9d46",
        "nbgrader": {
          "cell_type": "markdown",
          "checksum": "889944b85a481ea05e4d706983798d55",
          "grade": false,
          "grade_id": "cell-8912749d3bc50b19",
          "locked": true,
          "schema_version": 3,
          "solution": false,
          "task": false
        }
      },
      "source": [
        "**Task 1 Test**"
      ]
    },
    {
      "cell_type": "code",
      "execution_count": 3,
      "id": "aa174854",
      "metadata": {
        "deletable": false,
        "editable": false,
        "id": "aa174854",
        "nbgrader": {
          "cell_type": "code",
          "checksum": "cb5edf7c50086fd5ed82c7a7b3a5b852",
          "grade": true,
          "grade_id": "cell-6526188acaf48e23",
          "locked": true,
          "points": 1,
          "schema_version": 3,
          "solution": false,
          "task": false
        }
      },
      "outputs": [],
      "source": [
        "# Task 1 - Test\n",
        "\n",
        "assert isinstance(df_slasher, pd.DataFrame), 'Have you created a DataFrame named `df_slasher`?'\n",
        "assert len(df_slasher) == 485\n"
      ]
    },
    {
      "cell_type": "markdown",
      "id": "8d0f7395",
      "metadata": {
        "deletable": false,
        "editable": false,
        "id": "8d0f7395",
        "nbgrader": {
          "cell_type": "markdown",
          "checksum": "2c54f0d3fd43779c1c5163bdeb27ccca",
          "grade": false,
          "grade_id": "cell-f82847f31ef91dfe",
          "locked": true,
          "schema_version": 3,
          "solution": false,
          "task": false
        }
      },
      "source": [
        "**Task 2**- Character percentages\n",
        "\n",
        "In this dataset, the variable codes are:\n",
        "\n",
        "* ID = Character ID\n",
        "* Gender = Character gender.  0 = male, 1 = female\n",
        "* Activity = Character was portrayed as engaged in sexual activity.  0 = no, 1 = yes\n",
        "* Survival = Character survival in the film. 0 = did not survive, 1 = survived\n",
        "\n",
        "Your task is to calculate the frequency and relative frequency of male and female characters in this set of slasher films.\n",
        "\n",
        "* Compute the frequencies for \"Gender\" for this dataset; call your table `gender_frequencies`\n",
        "* Compute the relative frequency of female characters and call this value `f_percent`\n",
        "* Compute the relative frequency of male characters and call this value `m_percent`"
      ]
    },
    {
      "cell_type": "code",
      "execution_count": 4,
      "id": "a093ad2e",
      "metadata": {
        "deletable": false,
        "id": "a093ad2e",
        "nbgrader": {
          "cell_type": "code",
          "checksum": "068322d4cec5d3c16f290ee51cd76bb5",
          "grade": false,
          "grade_id": "cell-0d34d020c7d319e6",
          "locked": false,
          "schema_version": 3,
          "solution": true,
          "task": false
        }
      },
      "outputs": [],
      "source": [
        "# Task 2\n",
        "\n",
        "# YOUR CODE HERE\n",
        "gender_frequencies = df_slasher['Gender'].value_counts()\n",
        "gender_percent = df_slasher['Gender'].value_counts(normalize = True) * 100\n",
        "\n",
        "m_percent, f_percent = gender_percent\n"
      ]
    },
    {
      "cell_type": "markdown",
      "id": "09ace043",
      "metadata": {
        "deletable": false,
        "editable": false,
        "id": "09ace043",
        "nbgrader": {
          "cell_type": "markdown",
          "checksum": "1c3741ca97a11fb04baca06b2d4b4a69",
          "grade": false,
          "grade_id": "cell-d0878432988ba5ff",
          "locked": true,
          "schema_version": 3,
          "solution": false,
          "task": false
        }
      },
      "source": [
        "**Task 2 Test**"
      ]
    },
    {
      "cell_type": "code",
      "execution_count": 5,
      "id": "2b19b408",
      "metadata": {
        "deletable": false,
        "editable": false,
        "id": "2b19b408",
        "nbgrader": {
          "cell_type": "code",
          "checksum": "1363239edf6f23e7d2ef0dd30379deac",
          "grade": true,
          "grade_id": "cell-999f643c0b047fe5",
          "locked": true,
          "points": 1,
          "schema_version": 3,
          "solution": false,
          "task": false
        }
      },
      "outputs": [],
      "source": [
        "# Task 2 - Test\n",
        "\n",
        "assert isinstance(gender_frequencies, pd.Series), 'Have you calculated the gender frequencies?'\n"
      ]
    },
    {
      "cell_type": "markdown",
      "id": "424eda77",
      "metadata": {
        "deletable": false,
        "editable": false,
        "id": "424eda77",
        "nbgrader": {
          "cell_type": "markdown",
          "checksum": "94549c2fc4fe618566f077e2f6d026b0",
          "grade": false,
          "grade_id": "cell-7902dca249a5fb68",
          "locked": true,
          "schema_version": 3,
          "solution": false,
          "task": false
        }
      },
      "source": [
        "**Task 3** - Character survival\n",
        "\n",
        "Calculate the frequency and relative frequency of character survival in this set of slasher films.\n",
        "\n",
        "* Compute the frequencies for \"Survival\" for this dataset; call your table `survival_frequencies`\n",
        "* Compute the frequency of character survival and call this value `survival`. Make sure to multiply by 100 so your value is a percent."
      ]
    },
    {
      "cell_type": "code",
      "execution_count": 17,
      "id": "9799cc90",
      "metadata": {
        "colab": {
          "base_uri": "https://localhost:8080/"
        },
        "deletable": false,
        "id": "9799cc90",
        "nbgrader": {
          "cell_type": "code",
          "checksum": "e9b8de6338a867e527eb9bef168c9832",
          "grade": false,
          "grade_id": "cell-377c90fe789769b9",
          "locked": false,
          "schema_version": 3,
          "solution": true,
          "task": false
        },
        "outputId": "a406a597-7908-4b9b-cb44-2e16b3894e54"
      },
      "outputs": [
        {
          "name": "stdout",
          "output_type": "stream",
          "text": [
            "Percentage of characters that survive: 17.525773195876287\n"
          ]
        }
      ],
      "source": [
        "# Task 3\n",
        "\n",
        "# YOUR CODE HERE\n",
        "survival_frequencies = df_slasher['Survival'].value_counts()\n",
        "survival_percent = df_slasher['Survival'].value_counts(normalize = True)*100\n",
        "survival = survival_percent[1]\n",
        "\n",
        "# Print the percentage of characters that survive\n",
        "print('Percentage of characters that survive:', survival)"
      ]
    },
    {
      "cell_type": "markdown",
      "id": "6f46be8c",
      "metadata": {
        "deletable": false,
        "editable": false,
        "id": "6f46be8c",
        "nbgrader": {
          "cell_type": "markdown",
          "checksum": "7d2baf055edbbea05979d6cd61790655",
          "grade": false,
          "grade_id": "cell-359de0ba57e71cb5",
          "locked": true,
          "schema_version": 3,
          "solution": false,
          "task": false
        }
      },
      "source": [
        "**Task 3 Test**"
      ]
    },
    {
      "cell_type": "code",
      "execution_count": 7,
      "id": "ac8ee767",
      "metadata": {
        "deletable": false,
        "editable": false,
        "id": "ac8ee767",
        "nbgrader": {
          "cell_type": "code",
          "checksum": "45ae68cede0c58debc9f4668c747d06e",
          "grade": true,
          "grade_id": "cell-6d42ea79de460476",
          "locked": true,
          "points": 1,
          "schema_version": 3,
          "solution": false,
          "task": false
        }
      },
      "outputs": [],
      "source": [
        "# Task 3 - Test\n",
        "\n",
        "assert isinstance(survival_frequencies, pd.Series), 'Have you created the frequency table?'\n"
      ]
    },
    {
      "cell_type": "markdown",
      "id": "a58fed1e",
      "metadata": {
        "deletable": false,
        "editable": false,
        "id": "a58fed1e",
        "nbgrader": {
          "cell_type": "markdown",
          "checksum": "14780fac93764a002b0740e10cd9f370",
          "grade": false,
          "grade_id": "cell-a1d4c7960a04cd07",
          "locked": true,
          "schema_version": 3,
          "solution": false,
          "task": false
        }
      },
      "source": [
        "**Task 4**- Joint distribution: character survival and character sex\n",
        "\n",
        "Next, we're going to calculate the joint distribution of *character sex (\"Gender\")* and movie *survival*. \n",
        "\n",
        "* Compute the joint distribution for character sex and survival and name your DataFrame `survival_fm_crosstab`. \n",
        "    * **Make sure to use the following order of your variables: \"Gender\", \"Survival\"**\n",
        "\n",
        "*Hint: If you are working from the in-class examples, it will be helpful to include character sex as the index variable. But play around with the arguments of `pd.crosstab()` to get a better idea of your table.*\n",
        "\n",
        "* Added Challenge: Rename your columns and index for clarity's sake.\n",
        "\n",
        ">Gender: 0 = male, 1 = female\n",
        "\n",
        ">Survival: 0 = did not survive, 1 = survived"
      ]
    },
    {
      "cell_type": "code",
      "execution_count": 18,
      "id": "952149d5",
      "metadata": {
        "colab": {
          "base_uri": "https://localhost:8080/"
        },
        "deletable": false,
        "id": "952149d5",
        "nbgrader": {
          "cell_type": "code",
          "checksum": "175d2a36ef215a732c641c1a88e68562",
          "grade": false,
          "grade_id": "cell-71d255941aab5bf3",
          "locked": false,
          "schema_version": 3,
          "solution": true,
          "task": false
        },
        "outputId": "78ca665b-f976-4e41-cebe-18193e2ac568"
      },
      "outputs": [
        {
          "name": "stdout",
          "output_type": "stream",
          "text": [
            "Survival    0   1\n",
            "Gender           \n",
            "0         228  35\n",
            "1         172  50\n"
          ]
        }
      ],
      "source": [
        "# Task 4\n",
        "\n",
        "# YOUR CODE HERE\n",
        "survival_fm_crosstab = pd.crosstab(df_slasher['Gender'], df_slasher['Survival'])\n",
        "\n",
        "# Print the table\n",
        "print(survival_fm_crosstab)"
      ]
    },
    {
      "cell_type": "markdown",
      "id": "c139180d",
      "metadata": {
        "deletable": false,
        "editable": false,
        "id": "c139180d",
        "nbgrader": {
          "cell_type": "markdown",
          "checksum": "bebb3eff42bc13aedd93199dfd972fa4",
          "grade": false,
          "grade_id": "cell-60847d14702b3c91",
          "locked": true,
          "schema_version": 3,
          "solution": false,
          "task": false
        }
      },
      "source": [
        "**Task 4 Test**"
      ]
    },
    {
      "cell_type": "code",
      "execution_count": 9,
      "id": "4a2e4441",
      "metadata": {
        "deletable": false,
        "editable": false,
        "id": "4a2e4441",
        "nbgrader": {
          "cell_type": "code",
          "checksum": "cc2fbc1af9809aa855265738ade86620",
          "grade": true,
          "grade_id": "cell-aab85db204edeb91",
          "locked": true,
          "points": 1,
          "schema_version": 3,
          "solution": false,
          "task": false
        }
      },
      "outputs": [],
      "source": [
        "# Task 4 - Test\n",
        "\n",
        "assert isinstance(survival_fm_crosstab, pd.DataFrame), 'Have you created the crosstab DataFrame?'\n"
      ]
    },
    {
      "cell_type": "markdown",
      "id": "6eb72fe8",
      "metadata": {
        "deletable": false,
        "editable": false,
        "id": "6eb72fe8",
        "nbgrader": {
          "cell_type": "markdown",
          "checksum": "74a1015a0c160373889439b9c8a67e79",
          "grade": false,
          "grade_id": "cell-f886c42186dbf68a",
          "locked": true,
          "schema_version": 3,
          "solution": false,
          "task": false
        }
      },
      "source": [
        "**Task 5** - Joint distribution with margins\n",
        "\n",
        "Now we're going to find the joint distribution but this time add in the **table margins**.\n",
        "\n",
        "* Compute the joint distribution and assign this to a variable called `survival_fm_margins`."
      ]
    },
    {
      "cell_type": "code",
      "execution_count": 10,
      "id": "f69eb057",
      "metadata": {
        "colab": {
          "base_uri": "https://localhost:8080/"
        },
        "deletable": false,
        "id": "f69eb057",
        "nbgrader": {
          "cell_type": "code",
          "checksum": "c25dcac51aef37455f4bf5d096f16ecb",
          "grade": false,
          "grade_id": "cell-d71d9eea51fbf62e",
          "locked": false,
          "schema_version": 3,
          "solution": true,
          "task": false
        },
        "outputId": "47f46aed-78fe-4fc2-9797-6cd1005b77c6"
      },
      "outputs": [
        {
          "name": "stdout",
          "output_type": "stream",
          "text": [
            "Survival    0   1  All\n",
            "Gender                \n",
            "0         228  35  263\n",
            "1         172  50  222\n",
            "All       400  85  485\n"
          ]
        }
      ],
      "source": [
        "# Task 5\n",
        "\n",
        "# YOUR CODE HERE\n",
        "survival_fm_margins = pd.crosstab(df_slasher['Gender'], df_slasher['Survival'], margins = True)\n",
        "\n",
        "# Print the table\n",
        "print(survival_fm_margins)"
      ]
    },
    {
      "cell_type": "markdown",
      "id": "8e01d043",
      "metadata": {
        "deletable": false,
        "editable": false,
        "id": "8e01d043",
        "nbgrader": {
          "cell_type": "markdown",
          "checksum": "a4afdd0a416b7139c6cde50ba5a33fab",
          "grade": false,
          "grade_id": "cell-34f1187fddd6490a",
          "locked": true,
          "schema_version": 3,
          "solution": false,
          "task": false
        }
      },
      "source": [
        "**Task 5 Test**"
      ]
    },
    {
      "cell_type": "code",
      "execution_count": 11,
      "id": "b2bd7550",
      "metadata": {
        "deletable": false,
        "editable": false,
        "id": "b2bd7550",
        "nbgrader": {
          "cell_type": "code",
          "checksum": "2249108763d8b14566513e6384e64f32",
          "grade": true,
          "grade_id": "cell-a3c7dedeca08a0cb",
          "locked": true,
          "points": 1,
          "schema_version": 3,
          "solution": false,
          "task": false
        }
      },
      "outputs": [],
      "source": [
        "# Task 5 Test\n",
        "\n",
        "assert isinstance(survival_fm_margins, pd.DataFrame), 'Did you create your joint distribution DataFrame?'\n",
        "assert survival_fm_margins.shape == (3,3), \"Did you include the margins in your distribution?\"\n",
        "\n",
        "# NO hidden tests for this task"
      ]
    },
    {
      "cell_type": "markdown",
      "id": "e8bf274a",
      "metadata": {
        "deletable": false,
        "editable": false,
        "id": "e8bf274a",
        "nbgrader": {
          "cell_type": "markdown",
          "checksum": "0bc470a130c58e91ac5c1077f7fbe7bc",
          "grade": false,
          "grade_id": "cell-ed4773e7be8acc85",
          "locked": true,
          "schema_version": 3,
          "solution": false,
          "task": false
        }
      },
      "source": [
        "**Task 6** - Joint distribution with normalization\n",
        "\n",
        "Okay, now let's look at the distribution using the `normalize` argument. We want to compare the *relative* rate of survival. Calculate the distribution of survival conditional on character sex.\n",
        "\n",
        "* Compute the joint distribution for character sex and survival and name your DataFrame `survival_fm_crosstab_norm` **and** normalize on the \"index\"\n",
        "* Multiply the resulting DataFrame by 100 to return answers as percents\n",
        "* Assign the *survival* percentage of female characters to the variable `survival_f`"
      ]
    },
    {
      "cell_type": "code",
      "execution_count": 22,
      "id": "6a5fe158",
      "metadata": {
        "colab": {
          "base_uri": "https://localhost:8080/"
        },
        "deletable": false,
        "id": "6a5fe158",
        "nbgrader": {
          "cell_type": "code",
          "checksum": "88f28b2687faf66c90396154c494d558",
          "grade": false,
          "grade_id": "cell-94b846e0f979a986",
          "locked": false,
          "schema_version": 3,
          "solution": true,
          "task": false
        },
        "outputId": "8b5a149f-9159-44a1-ed2c-7d77fe99a369"
      },
      "outputs": [
        {
          "name": "stdout",
          "output_type": "stream",
          "text": [
            "Survival          0          1\n",
            "Gender                        \n",
            "0         86.692015  13.307985\n",
            "1         77.477477  22.522523\n",
            "Female character survival: 22.52252252252252\n"
          ]
        }
      ],
      "source": [
        "# Task 6\n",
        "\n",
        "# YOUR CODE HERE\n",
        "survival_fm_crosstab_norm = pd.crosstab(df_slasher['Gender'], df_slasher['Survival'], normalize = 'index')* 100\n",
        "survival_f = survival_fm_crosstab_norm.loc[1, 1]\n",
        "\n",
        "# Print the percentage of female characters that survive\n",
        "print(survival_fm_crosstab_norm)\n",
        "print('Female character survival:', survival_f)"
      ]
    },
    {
      "cell_type": "markdown",
      "id": "4d053423",
      "metadata": {
        "deletable": false,
        "editable": false,
        "id": "4d053423",
        "nbgrader": {
          "cell_type": "markdown",
          "checksum": "b64c0d42b103497c59ec6778992f6d12",
          "grade": false,
          "grade_id": "cell-ee3d553ce61655d6",
          "locked": true,
          "schema_version": 3,
          "solution": false,
          "task": false
        }
      },
      "source": [
        "**Task 6 Test**"
      ]
    },
    {
      "cell_type": "code",
      "execution_count": null,
      "id": "5502aea4",
      "metadata": {
        "deletable": false,
        "editable": false,
        "id": "5502aea4",
        "nbgrader": {
          "cell_type": "code",
          "checksum": "c2d59b1e6f202ba6a33b7329cd4d1c40",
          "grade": true,
          "grade_id": "cell-1927d60ae3b59771",
          "locked": true,
          "points": 1,
          "schema_version": 3,
          "solution": false,
          "task": false
        }
      },
      "outputs": [],
      "source": [
        "# Task 6 - Test\n",
        "\n",
        "assert isinstance(survival_fm_crosstab_norm, pd.DataFrame), 'Have you created the crosstab DataFrame?'\n",
        "assert survival_fm_crosstab_norm.all().min(axis=0) >= 1.0, \"Did you multiply your values by 100?\"\n"
      ]
    },
    {
      "cell_type": "markdown",
      "id": "c31b6088",
      "metadata": {
        "deletable": false,
        "editable": false,
        "id": "c31b6088",
        "nbgrader": {
          "cell_type": "markdown",
          "checksum": "a82ba373b7abdf8456e69f0e71aab0fa",
          "grade": false,
          "grade_id": "cell-e9dbd7bc4197c464",
          "locked": true,
          "schema_version": 3,
          "solution": false,
          "task": false
        }
      },
      "source": [
        "**Task 7 -** Statistical hypotheses\n",
        "\n",
        "From the list of choices below, select the null and alternative hypotheses to test for a statistically significant relationship between character sex and survival.  Specify your answer in the next code block using `Answer = `.  For example, if the correct answer is choice B, you'll type `Answer = 'B'`.\n",
        "\n",
        "A: $H_0$: Character sex and survival are related vs. $H_a$: Character sex and survival are unrelated$\n",
        "\n",
        "B: $H_0$: Character sex and survival are unrelated vs. $H_a$: Character sex and survival are related$\n",
        "\n",
        "C: $H_0: \\mu_1 \\neq \\mu_2$ vs. $H_a: \\mu_1 = \\mu_2$\n",
        "\n",
        "D: $H_0: \\mu_1 = \\mu_2$ vs. $H_a: \\mu_1 \\neq \\mu_2$"
      ]
    },
    {
      "cell_type": "code",
      "execution_count": null,
      "id": "9390b0c4",
      "metadata": {
        "deletable": false,
        "id": "9390b0c4",
        "nbgrader": {
          "cell_type": "code",
          "checksum": "0b389bd298ee345dbd4bdeba265e880f",
          "grade": false,
          "grade_id": "cell-da6613ef2df1b212",
          "locked": false,
          "schema_version": 3,
          "solution": true,
          "task": false
        }
      },
      "outputs": [],
      "source": [
        "# Task 7\n",
        "\n",
        "# YOUR CODE HERE\n",
        "Answer = 'B'\n"
      ]
    },
    {
      "cell_type": "markdown",
      "id": "b9657a0c",
      "metadata": {
        "deletable": false,
        "editable": false,
        "id": "b9657a0c",
        "nbgrader": {
          "cell_type": "markdown",
          "checksum": "3089772952f3baa269a03cf71ce726fc",
          "grade": false,
          "grade_id": "cell-8417433a58e83769",
          "locked": true,
          "schema_version": 3,
          "solution": false,
          "task": false
        }
      },
      "source": [
        "**Task 7 Test**"
      ]
    },
    {
      "cell_type": "code",
      "execution_count": null,
      "id": "dd684fd6",
      "metadata": {
        "deletable": false,
        "editable": false,
        "id": "dd684fd6",
        "nbgrader": {
          "cell_type": "code",
          "checksum": "6e5a222754b1a5db2943fd3f04b0b2cf",
          "grade": true,
          "grade_id": "cell-37e2b8a5594319fc",
          "locked": true,
          "points": 1,
          "schema_version": 3,
          "solution": false,
          "task": false
        }
      },
      "outputs": [],
      "source": [
        "# Task 7 - Test\n",
        "# Hidden tests - you will see the results when you submit to Canvas"
      ]
    },
    {
      "cell_type": "markdown",
      "id": "a6b72e9a",
      "metadata": {
        "deletable": false,
        "editable": false,
        "id": "a6b72e9a",
        "nbgrader": {
          "cell_type": "markdown",
          "checksum": "fe9b0e5686daa4032205ffd622107273",
          "grade": false,
          "grade_id": "cell-a06b8449cce66cb2",
          "locked": true,
          "schema_version": 3,
          "solution": false,
          "task": false
        }
      },
      "source": [
        "**Task 8** - Chi-square test\n",
        "\n",
        "Perform the chi-square test above using `stats.chi2_contingency()`. The docs for this function are found [here](https://docs.scipy.org/doc/scipy/reference/generated/scipy.stats.chi2_contingency.html).\n",
        "\n",
        "* Compute the chi-square test and assign the p-value to the variable `p_val`\n",
        "* Assign the other variables returned by the function to any variable names you prefer\n"
      ]
    },
    {
      "cell_type": "code",
      "execution_count": 32,
      "id": "4a17bd7c",
      "metadata": {
        "colab": {
          "base_uri": "https://localhost:8080/"
        },
        "deletable": false,
        "id": "4a17bd7c",
        "nbgrader": {
          "cell_type": "code",
          "checksum": "21cb913b0a7961827e15068b5c64e73c",
          "grade": false,
          "grade_id": "cell-08a7fbc7c34ec943",
          "locked": false,
          "schema_version": 3,
          "solution": true,
          "task": false
        },
        "outputId": "d822361a-36d6-44c0-9557-100484252b23"
      },
      "outputs": [
        {
          "name": "stdout",
          "output_type": "stream",
          "text": [
            "The p-value is: 0.011104692591139975\n"
          ]
        }
      ],
      "source": [
        "# Task 8\n",
        "\n",
        "# Import the scipy.stats function\n",
        "from scipy.stats import chi2_contingency\n",
        "\n",
        "# YOUR CODE HERE\n",
        "g, p_val, dof, exp = chi2_contingency(survival_fm_crosstab)\n",
        "# Print out the p-value\n",
        "print('The p-value is:', p_val)"
      ]
    },
    {
      "cell_type": "markdown",
      "id": "a19ee997",
      "metadata": {
        "deletable": false,
        "editable": false,
        "id": "a19ee997",
        "nbgrader": {
          "cell_type": "markdown",
          "checksum": "0e6e39f2e0c63abe2aff8e02dff1f917",
          "grade": false,
          "grade_id": "cell-e617bb9b4441a5d3",
          "locked": true,
          "schema_version": 3,
          "solution": false,
          "task": false
        }
      },
      "source": [
        "**Task 8 Test**"
      ]
    },
    {
      "cell_type": "code",
      "execution_count": null,
      "id": "cb3dc170",
      "metadata": {
        "deletable": false,
        "editable": false,
        "id": "cb3dc170",
        "nbgrader": {
          "cell_type": "code",
          "checksum": "e0c8a9594265eeb5070d9f11d01891f9",
          "grade": true,
          "grade_id": "cell-f09cc2e930c43388",
          "locked": true,
          "points": 1,
          "schema_version": 3,
          "solution": false,
          "task": false
        }
      },
      "outputs": [],
      "source": [
        "# Task 8 Test\n",
        "# Hidden tests - you will see the results when you submit to Canvas"
      ]
    },
    {
      "cell_type": "markdown",
      "id": "c1c1db74",
      "metadata": {
        "deletable": false,
        "editable": false,
        "id": "c1c1db74",
        "nbgrader": {
          "cell_type": "markdown",
          "checksum": "0d013fe9902c3747e1367118584020cb",
          "grade": false,
          "grade_id": "cell-fa8ed1050d28e613",
          "locked": true,
          "schema_version": 3,
          "solution": false,
          "task": false
        }
      },
      "source": [
        "**Task 9**\n",
        "\n",
        "Select the correct conclusion at the 0.05 significance level from the list of choices below. Specify your answer in the next code block using `Answer = `.  For example, if the correct answer is choice B, you'll type `Answer = 'B'`.\n",
        "\n",
        "A: We reject the null hypothesis at the 0.05 significance level and conclude that character survival and sex are related.\n",
        "\n",
        "B: We fail to reject the null hypothesis at the 0.05 significance level and conclude that character survival and sex are related.\n",
        "\n",
        "C: We reject the null hypothesis at the 0.05 significance level and conclude that character survival and sex are unrelated.\n",
        "\n",
        "D: We fail to reject the null hypothesis at the 0.05 significance level and conclude that character survival and sex are unrelated.\n"
      ]
    },
    {
      "cell_type": "code",
      "execution_count": 33,
      "id": "83c5b031",
      "metadata": {
        "deletable": false,
        "id": "83c5b031",
        "nbgrader": {
          "cell_type": "code",
          "checksum": "477446b2666cf99a515924c96886d208",
          "grade": false,
          "grade_id": "cell-52e04ab5206eb674",
          "locked": false,
          "schema_version": 3,
          "solution": true,
          "task": false
        }
      },
      "outputs": [],
      "source": [
        "# Task 9\n",
        "\n",
        "# YOUR CODE HERE\n",
        "Answer = 'A'\n"
      ]
    },
    {
      "cell_type": "markdown",
      "id": "197eec59",
      "metadata": {
        "deletable": false,
        "editable": false,
        "id": "197eec59",
        "nbgrader": {
          "cell_type": "markdown",
          "checksum": "bf47a965ea53f020f1b1d0684a1d3f4d",
          "grade": false,
          "grade_id": "cell-dd04f351c80d680e",
          "locked": true,
          "schema_version": 3,
          "solution": false,
          "task": false
        }
      },
      "source": [
        "**Task 9 Test**"
      ]
    },
    {
      "cell_type": "code",
      "execution_count": null,
      "id": "a037c35e",
      "metadata": {
        "deletable": false,
        "editable": false,
        "id": "a037c35e",
        "nbgrader": {
          "cell_type": "code",
          "checksum": "28965cf0e0cecaf6f10ddfb447303561",
          "grade": true,
          "grade_id": "cell-9e8a26c1f374c2fa",
          "locked": true,
          "points": 1,
          "schema_version": 3,
          "solution": false,
          "task": false
        }
      },
      "outputs": [],
      "source": [
        "# Task 9 - Test\n",
        "# Hidden tests - you will see the results when you submit to Canvas"
      ]
    },
    {
      "cell_type": "markdown",
      "id": "8adb02c7",
      "metadata": {
        "deletable": false,
        "editable": false,
        "id": "8adb02c7",
        "nbgrader": {
          "cell_type": "markdown",
          "checksum": "9cd5fe34a927d87630b17394872168e0",
          "grade": false,
          "grade_id": "cell-115cf209ef25c830",
          "locked": true,
          "schema_version": 3,
          "solution": false,
          "task": false
        }
      },
      "source": [
        "**Task 10** - Create a bar plot\n",
        "\n",
        "Create a side-by-side bar plot to illustrate the relationship between character sex and survival in slasher movies.  Sum up your overall results in a sentence or two.\n",
        "\n",
        "This task will not be autograded - but it is part of completing the project."
      ]
    },
    {
      "cell_type": "code",
      "execution_count": 40,
      "id": "61bdf2db",
      "metadata": {
        "colab": {
          "base_uri": "https://localhost:8080/",
          "height": 279
        },
        "deletable": false,
        "id": "61bdf2db",
        "nbgrader": {
          "cell_type": "code",
          "checksum": "04486c1dee3d87b921c70fc853f18437",
          "grade": true,
          "grade_id": "cell-a29031ed910c3c6c",
          "locked": false,
          "points": 0,
          "schema_version": 3,
          "solution": true,
          "task": false
        },
        "outputId": "c8a6b7e5-402d-4cba-d598-d8172d368143"
      },
      "outputs": [
        {
          "data": {
            "image/png": "[encoded data removed]",
            "text/plain": [
              "<Figure size 432x288 with 1 Axes>"
            ]
          },
          "metadata": {
            "needs_background": "light"
          },
          "output_type": "display_data"
        }
      ],
      "source": [
        "# Task 10\n",
        "\n",
        "import seaborn as sns\n",
        "import matplotlib.pyplot as plt\n",
        "\n",
        "# YOUR CODE HERE\n",
        "\n",
        "sns.barplot(x = 'Gender', y = 'Survival', data = df_slasher, ci = None);\n",
        "plt.xticks(ticks = [0,1], labels = ['Male', 'Female']);\n",
        "\n",
        "#round(pd.DataFrame(chi2_contingency(survival_fm_crosstab)[3])).plot(kind = 'bar');"
      ]
    },
    {
      "cell_type": "markdown",
      "id": "bac89b72",
      "metadata": {
        "deletable": false,
        "id": "bac89b72",
        "nbgrader": {
          "cell_type": "markdown",
          "checksum": "4fccbeaf65497cf536e210e51ba5d54d",
          "grade": true,
          "grade_id": "cell-fc22cf60de1ac470",
          "locked": false,
          "points": 0,
          "schema_version": 3,
          "solution": true,
          "task": false
        }
      },
      "source": [
        "YOUR ANSWER HERE"
      ]
    }
  ],
  "metadata": {
    "colab": {
      "name": "Copy of DS_122_Chi-Tests_Assignment_AG.ipynb",
      "provenance": []
    },
    "kernelspec": {
      "display_name": "Python 3.9.12 ('base')",
      "language": "python",
      "name": "python3"
    },
    "language_info": {
      "codemirror_mode": {
        "name": "ipython",
        "version": 3
      },
      "file_extension": ".py",
      "mimetype": "text/x-python",
      "name": "python",
      "nbconvert_exporter": "python",
      "pygments_lexer": "ipython3",
      "version": "3.9.12"
    },
    "vscode": {
      "interpreter": {
        "hash": "ad2bdc8ecc057115af97d19610ffacc2b4e99fae6737bb82f5d7fb13d2f2c186"
      }
    }
  },
  "nbformat": 4,
  "nbformat_minor": 5
}
